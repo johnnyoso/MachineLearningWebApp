{
 "cells": [
  {
   "cell_type": "code",
   "execution_count": 1,
   "id": "456fde4c-01df-47fc-bfec-f0d5f9948223",
   "metadata": {},
   "outputs": [],
   "source": [
    "import json\n",
    "from datetime import datetime\n",
    "import pandas as pd\n",
    "\n",
    "%matplotlib inline\n",
    "import matplotlib.pyplot as plt\n",
    "\n",
    "from sklearn.model_selection import train_test_split\n",
    "from sklearn.model_selection import StratifiedShuffleSplit\n",
    "from sklearn.linear_model import LogisticRegression\n",
    "from sklearn.metrics import confusion_matrix, precision_score, recall_score\n",
    "\n",
    "import pickle\n",
    "import teams"
   ]
  },
  {
   "cell_type": "code",
   "execution_count": 8,
   "id": "4d99f3fb",
   "metadata": {},
   "outputs": [],
   "source": [
    "\n",
    "error_list = []\n",
    "def get_predict_data(predict_team_dict, opposing_team_dict):\n",
    "\n",
    "    predict_players_mmr_total = 0\n",
    "    predict_players_mmr_count = 0\n",
    "    opposing_players_mmr_total = 0\n",
    "    opposing_players_mmr_count = 0\n",
    "\n",
    "    for x, i in enumerate(predict_team_dict['predict_players']):\n",
    "\n",
    "        try:\n",
    "            predict_players_mmr_total += i['player_stats']['mmr_estimate']['estimate']\n",
    "            predict_players_mmr_count += 1\n",
    "\n",
    "        except:\n",
    "\n",
    "            error_list.append()\n",
    "            \n",
    "    # get the average MMR of the predict team\n",
    "    predict_players_mmr_average = predict_players_mmr_total / predict_players_mmr_count\n",
    "\n",
    "    predict_team_total_matches = predict_team_dict['predict_team_stat'][0]['predict_team_wins_total'] + predict_team_dict['predict_team_stat'][0]['predict_team_losses_total']\n",
    "    \n",
    "    predict_team_win_pct = round(predict_team_dict['predict_team_stat'][0]['predict_team_wins_total'] / predict_team_total_matches * 100, 2)\n",
    "    \n",
    "    for y, j in enumerate(opposing_team_dict['predict_players']):\n",
    "\n",
    "        try:\n",
    "            opposing_players_mmr_total += i['player_stats']['mmr_estimate']['estimate']\n",
    "            opposing_players_mmr_count += 1\n",
    "\n",
    "        except:\n",
    "\n",
    "            error_list.append()\n",
    "    \n",
    "    # get the average MMR of the opposing team\n",
    "    opposing_players_mmr_average = opposing_players_mmr_total / opposing_players_mmr_count\n",
    "\n",
    "    opposing_team_total_matches = opposing_team_dict['predict_team_stat'][0]['predict_team_wins_total'] + opposing_team_dict['predict_team_stat'][0]['predict_team_losses_total']\n",
    "\n",
    "    opposing_team_win_pct = round(opposing_team_dict['predict_team_stat'][0]['predict_team_wins_total'] / opposing_team_total_matches * 100, 2)\n",
    "\n",
    "    predict_data_df =  pd.DataFrame(data = {'predict_team_total_matches' : predict_team_total_matches, \n",
    "                                            'predict_team_win_pct' : predict_team_win_pct, \n",
    "                                            'predict_team_rating' : predict_team_dict['predict_team_stat'][0]['predict_team_rating'], \n",
    "                                            'predict_players_mmr_average' : predict_players_mmr_average, \n",
    "                                            'opposing_team_total_matches' : opposing_team_total_matches, \n",
    "                                            'opposing_team_win_pct' : opposing_team_win_pct, \n",
    "                                            'opposing_team_rating' : opposing_team_dict['predict_team_stat'][0]['predict_team_rating'], \n",
    "                                            'opposing_players_mmr_average' : opposing_players_mmr_average}, \n",
    "                                            index = [0])     \n",
    "\n",
    "    return predict_data_df           "
   ]
  },
  {
   "cell_type": "code",
   "execution_count": 58,
   "id": "a07d17c7",
   "metadata": {},
   "outputs": [],
   "source": [
    "tundra_esports_profile_df = get_predict_data(tundra_esports_matches_json[0], team_secret_matches_json[0])"
   ]
  },
  {
   "cell_type": "code",
   "execution_count": 21,
   "id": "798763a6-3890-4774-99ed-215199f7fa05",
   "metadata": {},
   "outputs": [],
   "source": [
    "tundra_esports_matches_df = team_matches_df(tundra_esports_matches_json, 'tundra_esports', 8291895)"
   ]
  },
  {
   "cell_type": "code",
   "execution_count": 22,
   "id": "1c1c582c-98d7-4787-991e-52f1632638b5",
   "metadata": {},
   "outputs": [
    {
     "data": {
      "text/plain": [
       "(264, 23)"
      ]
     },
     "execution_count": 22,
     "metadata": {},
     "output_type": "execute_result"
    }
   ],
   "source": [
    "tundra_esports_matches_df.shape"
   ]
  },
  {
   "cell_type": "code",
   "execution_count": 23,
   "id": "28ccc788-6d7b-4bc8-84ab-3fdcba426f74",
   "metadata": {},
   "outputs": [
    {
     "data": {
      "text/html": [
       "<div>\n",
       "<style scoped>\n",
       "    .dataframe tbody tr th:only-of-type {\n",
       "        vertical-align: middle;\n",
       "    }\n",
       "\n",
       "    .dataframe tbody tr th {\n",
       "        vertical-align: top;\n",
       "    }\n",
       "\n",
       "    .dataframe thead th {\n",
       "        text-align: right;\n",
       "    }\n",
       "</style>\n",
       "<table border=\"1\" class=\"dataframe\">\n",
       "  <thead>\n",
       "    <tr style=\"text-align: right;\">\n",
       "      <th></th>\n",
       "      <th>start_date</th>\n",
       "      <th>predict_team_name</th>\n",
       "      <th>predict_team_id</th>\n",
       "      <th>predict_team_total_matches</th>\n",
       "      <th>predict_team_win_pct</th>\n",
       "      <th>predict_team_rating</th>\n",
       "      <th>predict_players_mmr_average</th>\n",
       "      <th>opposing_team_name</th>\n",
       "      <th>opposing_team_id</th>\n",
       "      <th>opposing_team_total_matches</th>\n",
       "      <th>...</th>\n",
       "      <th>league_name</th>\n",
       "      <th>leagueid</th>\n",
       "      <th>cluster</th>\n",
       "      <th>radiant_win</th>\n",
       "      <th>radiant</th>\n",
       "      <th>duration</th>\n",
       "      <th>match_id</th>\n",
       "      <th>match_outcome</th>\n",
       "      <th>predict_team_score</th>\n",
       "      <th>opposing_team_score</th>\n",
       "    </tr>\n",
       "  </thead>\n",
       "  <tbody>\n",
       "    <tr>\n",
       "      <th>0</th>\n",
       "      <td>2022-10-23 00:17:21</td>\n",
       "      <td>tundra_esports</td>\n",
       "      <td>8291895</td>\n",
       "      <td>261</td>\n",
       "      <td>62.84</td>\n",
       "      <td>1565.76</td>\n",
       "      <td>7692.6</td>\n",
       "      <td>Team Aster</td>\n",
       "      <td>6209166</td>\n",
       "      <td>927</td>\n",
       "      <td>...</td>\n",
       "      <td>The International 2022</td>\n",
       "      <td>14268</td>\n",
       "      <td>154</td>\n",
       "      <td>False</td>\n",
       "      <td>False</td>\n",
       "      <td>2407</td>\n",
       "      <td>6817434540</td>\n",
       "      <td>True</td>\n",
       "      <td>23</td>\n",
       "      <td>13</td>\n",
       "    </tr>\n",
       "    <tr>\n",
       "      <th>1</th>\n",
       "      <td>2022-10-22 22:58:55</td>\n",
       "      <td>tundra_esports</td>\n",
       "      <td>8291895</td>\n",
       "      <td>261</td>\n",
       "      <td>62.84</td>\n",
       "      <td>1565.76</td>\n",
       "      <td>7692.6</td>\n",
       "      <td>Team Aster</td>\n",
       "      <td>6209166</td>\n",
       "      <td>927</td>\n",
       "      <td>...</td>\n",
       "      <td>The International 2022</td>\n",
       "      <td>14268</td>\n",
       "      <td>154</td>\n",
       "      <td>True</td>\n",
       "      <td>True</td>\n",
       "      <td>2973</td>\n",
       "      <td>6817320059</td>\n",
       "      <td>True</td>\n",
       "      <td>30</td>\n",
       "      <td>20</td>\n",
       "    </tr>\n",
       "    <tr>\n",
       "      <th>2</th>\n",
       "      <td>2022-10-21 14:05:39</td>\n",
       "      <td>tundra_esports</td>\n",
       "      <td>8291895</td>\n",
       "      <td>261</td>\n",
       "      <td>62.84</td>\n",
       "      <td>1565.76</td>\n",
       "      <td>7692.6</td>\n",
       "      <td>OG</td>\n",
       "      <td>2586976</td>\n",
       "      <td>1350</td>\n",
       "      <td>...</td>\n",
       "      <td>The International 2022</td>\n",
       "      <td>14268</td>\n",
       "      <td>154</td>\n",
       "      <td>False</td>\n",
       "      <td>False</td>\n",
       "      <td>2316</td>\n",
       "      <td>6815171709</td>\n",
       "      <td>True</td>\n",
       "      <td>34</td>\n",
       "      <td>23</td>\n",
       "    </tr>\n",
       "    <tr>\n",
       "      <th>3</th>\n",
       "      <td>2022-10-21 13:06:31</td>\n",
       "      <td>tundra_esports</td>\n",
       "      <td>8291895</td>\n",
       "      <td>261</td>\n",
       "      <td>62.84</td>\n",
       "      <td>1565.76</td>\n",
       "      <td>7692.6</td>\n",
       "      <td>OG</td>\n",
       "      <td>2586976</td>\n",
       "      <td>1350</td>\n",
       "      <td>...</td>\n",
       "      <td>The International 2022</td>\n",
       "      <td>14268</td>\n",
       "      <td>154</td>\n",
       "      <td>True</td>\n",
       "      <td>True</td>\n",
       "      <td>1449</td>\n",
       "      <td>6815136578</td>\n",
       "      <td>True</td>\n",
       "      <td>26</td>\n",
       "      <td>7</td>\n",
       "    </tr>\n",
       "    <tr>\n",
       "      <th>4</th>\n",
       "      <td>2022-10-18 18:17:15</td>\n",
       "      <td>tundra_esports</td>\n",
       "      <td>8291895</td>\n",
       "      <td>261</td>\n",
       "      <td>62.84</td>\n",
       "      <td>1565.76</td>\n",
       "      <td>7692.6</td>\n",
       "      <td>Entity</td>\n",
       "      <td>8605863</td>\n",
       "      <td>208</td>\n",
       "      <td>...</td>\n",
       "      <td>The International 2022</td>\n",
       "      <td>14268</td>\n",
       "      <td>154</td>\n",
       "      <td>True</td>\n",
       "      <td>True</td>\n",
       "      <td>2455</td>\n",
       "      <td>6811014822</td>\n",
       "      <td>True</td>\n",
       "      <td>27</td>\n",
       "      <td>26</td>\n",
       "    </tr>\n",
       "  </tbody>\n",
       "</table>\n",
       "<p>5 rows × 23 columns</p>\n",
       "</div>"
      ],
      "text/plain": [
       "            start_date predict_team_name  predict_team_id  \\\n",
       "0  2022-10-23 00:17:21    tundra_esports          8291895   \n",
       "1  2022-10-22 22:58:55    tundra_esports          8291895   \n",
       "2  2022-10-21 14:05:39    tundra_esports          8291895   \n",
       "3  2022-10-21 13:06:31    tundra_esports          8291895   \n",
       "4  2022-10-18 18:17:15    tundra_esports          8291895   \n",
       "\n",
       "   predict_team_total_matches  predict_team_win_pct  predict_team_rating  \\\n",
       "0                         261                 62.84              1565.76   \n",
       "1                         261                 62.84              1565.76   \n",
       "2                         261                 62.84              1565.76   \n",
       "3                         261                 62.84              1565.76   \n",
       "4                         261                 62.84              1565.76   \n",
       "\n",
       "   predict_players_mmr_average opposing_team_name  opposing_team_id  \\\n",
       "0                       7692.6         Team Aster           6209166   \n",
       "1                       7692.6         Team Aster           6209166   \n",
       "2                       7692.6                 OG           2586976   \n",
       "3                       7692.6                 OG           2586976   \n",
       "4                       7692.6             Entity           8605863   \n",
       "\n",
       "   opposing_team_total_matches  ...             league_name  leagueid  \\\n",
       "0                          927  ...  The International 2022     14268   \n",
       "1                          927  ...  The International 2022     14268   \n",
       "2                         1350  ...  The International 2022     14268   \n",
       "3                         1350  ...  The International 2022     14268   \n",
       "4                          208  ...  The International 2022     14268   \n",
       "\n",
       "   cluster radiant_win  radiant  duration    match_id  match_outcome  \\\n",
       "0      154       False    False      2407  6817434540           True   \n",
       "1      154        True     True      2973  6817320059           True   \n",
       "2      154       False    False      2316  6815171709           True   \n",
       "3      154        True     True      1449  6815136578           True   \n",
       "4      154        True     True      2455  6811014822           True   \n",
       "\n",
       "   predict_team_score  opposing_team_score  \n",
       "0                  23                   13  \n",
       "1                  30                   20  \n",
       "2                  34                   23  \n",
       "3                  26                    7  \n",
       "4                  27                   26  \n",
       "\n",
       "[5 rows x 23 columns]"
      ]
     },
     "execution_count": 23,
     "metadata": {},
     "output_type": "execute_result"
    }
   ],
   "source": [
    "tundra_esports_matches_df.head()"
   ]
  },
  {
   "cell_type": "code",
   "execution_count": 17,
   "id": "bc94d886",
   "metadata": {},
   "outputs": [],
   "source": [
    "og = teams.Team('og_data.json')"
   ]
  },
  {
   "cell_type": "code",
   "execution_count": 18,
   "id": "49432cdd",
   "metadata": {},
   "outputs": [],
   "source": [
    "og_matches_df = og.open_file()"
   ]
  },
  {
   "cell_type": "code",
   "execution_count": 19,
   "id": "0b8b0203",
   "metadata": {},
   "outputs": [
    {
     "data": {
      "text/plain": [
       "(1360, 23)"
      ]
     },
     "execution_count": 19,
     "metadata": {},
     "output_type": "execute_result"
    }
   ],
   "source": [
    "og_matches_df.shape"
   ]
  },
  {
   "cell_type": "code",
   "execution_count": 6,
   "id": "cfc15f5e-2bef-44dd-91eb-906b0fcc3e01",
   "metadata": {},
   "outputs": [
    {
     "data": {
      "text/html": [
       "<div>\n",
       "<style scoped>\n",
       "    .dataframe tbody tr th:only-of-type {\n",
       "        vertical-align: middle;\n",
       "    }\n",
       "\n",
       "    .dataframe tbody tr th {\n",
       "        vertical-align: top;\n",
       "    }\n",
       "\n",
       "    .dataframe thead th {\n",
       "        text-align: right;\n",
       "    }\n",
       "</style>\n",
       "<table border=\"1\" class=\"dataframe\">\n",
       "  <thead>\n",
       "    <tr style=\"text-align: right;\">\n",
       "      <th></th>\n",
       "      <th>predict_team_id</th>\n",
       "      <th>predict_team_total_matches</th>\n",
       "      <th>predict_team_win_pct</th>\n",
       "      <th>predict_team_rating</th>\n",
       "      <th>predict_players_mmr_average</th>\n",
       "      <th>opposing_team_id</th>\n",
       "      <th>opposing_team_total_matches</th>\n",
       "      <th>opposing_team_win_pct</th>\n",
       "      <th>opposing_team_rating</th>\n",
       "      <th>opposing_players_mmr_average</th>\n",
       "      <th>leagueid</th>\n",
       "      <th>cluster</th>\n",
       "      <th>duration</th>\n",
       "      <th>match_id</th>\n",
       "      <th>predict_team_score</th>\n",
       "      <th>opposing_team_score</th>\n",
       "    </tr>\n",
       "  </thead>\n",
       "  <tbody>\n",
       "    <tr>\n",
       "      <th>count</th>\n",
       "      <td>264.0</td>\n",
       "      <td>264.0</td>\n",
       "      <td>2.640000e+02</td>\n",
       "      <td>2.640000e+02</td>\n",
       "      <td>264.000000</td>\n",
       "      <td>2.640000e+02</td>\n",
       "      <td>264.000000</td>\n",
       "      <td>264.000000</td>\n",
       "      <td>264.000000</td>\n",
       "      <td>264.000000</td>\n",
       "      <td>264.000000</td>\n",
       "      <td>264.000000</td>\n",
       "      <td>264.000000</td>\n",
       "      <td>2.640000e+02</td>\n",
       "      <td>264.000000</td>\n",
       "      <td>264.000000</td>\n",
       "    </tr>\n",
       "    <tr>\n",
       "      <th>mean</th>\n",
       "      <td>8291895.0</td>\n",
       "      <td>261.0</td>\n",
       "      <td>6.284000e+01</td>\n",
       "      <td>1.565760e+03</td>\n",
       "      <td>7670.090909</td>\n",
       "      <td>4.978329e+06</td>\n",
       "      <td>984.731061</td>\n",
       "      <td>57.815909</td>\n",
       "      <td>1370.443568</td>\n",
       "      <td>6728.879545</td>\n",
       "      <td>13772.102273</td>\n",
       "      <td>237.659091</td>\n",
       "      <td>2232.227273</td>\n",
       "      <td>6.363054e+09</td>\n",
       "      <td>25.878788</td>\n",
       "      <td>22.246212</td>\n",
       "    </tr>\n",
       "    <tr>\n",
       "      <th>std</th>\n",
       "      <td>0.0</td>\n",
       "      <td>0.0</td>\n",
       "      <td>2.135677e-14</td>\n",
       "      <td>4.556111e-13</td>\n",
       "      <td>66.745997</td>\n",
       "      <td>3.438359e+06</td>\n",
       "      <td>759.089268</td>\n",
       "      <td>7.572022</td>\n",
       "      <td>145.844306</td>\n",
       "      <td>464.945297</td>\n",
       "      <td>491.619224</td>\n",
       "      <td>54.800201</td>\n",
       "      <td>520.863127</td>\n",
       "      <td>2.844733e+08</td>\n",
       "      <td>11.748978</td>\n",
       "      <td>11.440206</td>\n",
       "    </tr>\n",
       "    <tr>\n",
       "      <th>min</th>\n",
       "      <td>8291895.0</td>\n",
       "      <td>261.0</td>\n",
       "      <td>6.284000e+01</td>\n",
       "      <td>1.565760e+03</td>\n",
       "      <td>7144.600000</td>\n",
       "      <td>1.500000e+01</td>\n",
       "      <td>4.000000</td>\n",
       "      <td>10.000000</td>\n",
       "      <td>927.633000</td>\n",
       "      <td>4665.600000</td>\n",
       "      <td>12720.000000</td>\n",
       "      <td>121.000000</td>\n",
       "      <td>1030.000000</td>\n",
       "      <td>5.815365e+09</td>\n",
       "      <td>0.000000</td>\n",
       "      <td>0.000000</td>\n",
       "    </tr>\n",
       "    <tr>\n",
       "      <th>25%</th>\n",
       "      <td>8291895.0</td>\n",
       "      <td>261.0</td>\n",
       "      <td>6.284000e+01</td>\n",
       "      <td>1.565760e+03</td>\n",
       "      <td>7679.200000</td>\n",
       "      <td>1.838315e+06</td>\n",
       "      <td>283.000000</td>\n",
       "      <td>55.230000</td>\n",
       "      <td>1290.790000</td>\n",
       "      <td>6404.800000</td>\n",
       "      <td>13379.000000</td>\n",
       "      <td>182.000000</td>\n",
       "      <td>1878.750000</td>\n",
       "      <td>6.121865e+09</td>\n",
       "      <td>16.000000</td>\n",
       "      <td>12.750000</td>\n",
       "    </tr>\n",
       "    <tr>\n",
       "      <th>50%</th>\n",
       "      <td>8291895.0</td>\n",
       "      <td>261.0</td>\n",
       "      <td>6.284000e+01</td>\n",
       "      <td>1.565760e+03</td>\n",
       "      <td>7679.200000</td>\n",
       "      <td>7.119388e+06</td>\n",
       "      <td>610.000000</td>\n",
       "      <td>59.290000</td>\n",
       "      <td>1420.200000</td>\n",
       "      <td>6787.800000</td>\n",
       "      <td>13804.000000</td>\n",
       "      <td>273.000000</td>\n",
       "      <td>2210.500000</td>\n",
       "      <td>6.389645e+09</td>\n",
       "      <td>26.000000</td>\n",
       "      <td>21.000000</td>\n",
       "    </tr>\n",
       "    <tr>\n",
       "      <th>75%</th>\n",
       "      <td>8291895.0</td>\n",
       "      <td>261.0</td>\n",
       "      <td>6.284000e+01</td>\n",
       "      <td>1.565760e+03</td>\n",
       "      <td>7692.600000</td>\n",
       "      <td>8.254400e+06</td>\n",
       "      <td>1545.000000</td>\n",
       "      <td>61.410000</td>\n",
       "      <td>1453.670000</td>\n",
       "      <td>7047.750000</td>\n",
       "      <td>14192.000000</td>\n",
       "      <td>274.000000</td>\n",
       "      <td>2591.250000</td>\n",
       "      <td>6.577042e+09</td>\n",
       "      <td>34.000000</td>\n",
       "      <td>31.000000</td>\n",
       "    </tr>\n",
       "    <tr>\n",
       "      <th>max</th>\n",
       "      <td>8291895.0</td>\n",
       "      <td>261.0</td>\n",
       "      <td>6.284000e+01</td>\n",
       "      <td>1.565760e+03</td>\n",
       "      <td>7692.600000</td>\n",
       "      <td>8.740926e+06</td>\n",
       "      <td>2517.000000</td>\n",
       "      <td>66.670000</td>\n",
       "      <td>1576.710000</td>\n",
       "      <td>7700.200000</td>\n",
       "      <td>14417.000000</td>\n",
       "      <td>274.000000</td>\n",
       "      <td>3864.000000</td>\n",
       "      <td>6.817435e+09</td>\n",
       "      <td>58.000000</td>\n",
       "      <td>53.000000</td>\n",
       "    </tr>\n",
       "  </tbody>\n",
       "</table>\n",
       "</div>"
      ],
      "text/plain": [
       "       predict_team_id  ...  opposing_team_score\n",
       "count            264.0  ...           264.000000\n",
       "mean         8291895.0  ...            22.246212\n",
       "std                0.0  ...            11.440206\n",
       "min          8291895.0  ...             0.000000\n",
       "25%          8291895.0  ...            12.750000\n",
       "50%          8291895.0  ...            21.000000\n",
       "75%          8291895.0  ...            31.000000\n",
       "max          8291895.0  ...            53.000000\n",
       "\n",
       "[8 rows x 16 columns]"
      ]
     },
     "execution_count": 6,
     "metadata": {},
     "output_type": "execute_result"
    }
   ],
   "source": [
    "tundra_esports_matches_df.describe()"
   ]
  },
  {
   "cell_type": "code",
   "execution_count": 7,
   "id": "f89faa97-d956-4ba7-9d2d-39655e831360",
   "metadata": {},
   "outputs": [
    {
     "data": {
      "image/png": "[encoded data removed]",
      "text/plain": [
       "<Figure size 2000x1500 with 6 Axes>"
      ]
     },
     "metadata": {},
     "output_type": "display_data"
    }
   ],
   "source": [
    "tundra_esports_matches_df.loc[:,['predict_players_mmr_average', \n",
    "                   'opposing_team_total_matches', \n",
    "                   'opposing_team_win_pct', \n",
    "                   'opposing_team_rating', \n",
    "                   'opposing_players_mmr_average']].hist(bins = 50, figsize=(20, 15))\n",
    "plt.show()"
   ]
  },
  {
   "cell_type": "code",
   "execution_count": 20,
   "id": "790abf6b-17f5-4ea5-9783-d31c0c65b102",
   "metadata": {},
   "outputs": [],
   "source": [
    "X = og_matches_df.drop(labels = ['match_outcome', \n",
    "                                    'start_date', \n",
    "                                    'predict_team_score',\n",
    "                                    'opposing_team_score',\n",
    "                                    'predict_team_name',\n",
    "                                    'predict_team_id',\n",
    "                                    'opposing_team_name',\n",
    "                                    'opposing_team_id',\n",
    "                                    'league_name',\n",
    "                                    'leagueid',\n",
    "                                    'cluster', \n",
    "                                    'radiant_win', \n",
    "                                    'radiant', \n",
    "                                    'match_id', \n",
    "                                    'duration'], axis = 1)\n",
    "\n",
    "y = og_matches_df.match_outcome"
   ]
  },
  {
   "cell_type": "markdown",
   "id": "0a4f0b5d-0582-4c54-b3aa-3e1b90ee8571",
   "metadata": {},
   "source": [
    "# Consider scaling the data (Normalisation or Standardisation)"
   ]
  },
  {
   "cell_type": "code",
   "execution_count": 21,
   "id": "fd2276b2-e5b3-49c6-b742-f30dbbcf271b",
   "metadata": {},
   "outputs": [
    {
     "data": {
      "text/html": [
       "<div>\n",
       "<style scoped>\n",
       "    .dataframe tbody tr th:only-of-type {\n",
       "        vertical-align: middle;\n",
       "    }\n",
       "\n",
       "    .dataframe tbody tr th {\n",
       "        vertical-align: top;\n",
       "    }\n",
       "\n",
       "    .dataframe thead th {\n",
       "        text-align: right;\n",
       "    }\n",
       "</style>\n",
       "<table border=\"1\" class=\"dataframe\">\n",
       "  <thead>\n",
       "    <tr style=\"text-align: right;\">\n",
       "      <th></th>\n",
       "      <th>predict_team_total_matches</th>\n",
       "      <th>predict_team_win_pct</th>\n",
       "      <th>predict_team_rating</th>\n",
       "      <th>predict_players_mmr_average</th>\n",
       "      <th>opposing_team_total_matches</th>\n",
       "      <th>opposing_team_win_pct</th>\n",
       "      <th>opposing_team_rating</th>\n",
       "      <th>opposing_players_mmr_average</th>\n",
       "    </tr>\n",
       "  </thead>\n",
       "  <tbody>\n",
       "    <tr>\n",
       "      <th>0</th>\n",
       "      <td>1350</td>\n",
       "      <td>61.41</td>\n",
       "      <td>1439.16</td>\n",
       "      <td>5962.2</td>\n",
       "      <td>1949</td>\n",
       "      <td>59.26</td>\n",
       "      <td>1532.73</td>\n",
       "      <td>7219.6</td>\n",
       "    </tr>\n",
       "    <tr>\n",
       "      <th>1</th>\n",
       "      <td>1350</td>\n",
       "      <td>61.41</td>\n",
       "      <td>1439.16</td>\n",
       "      <td>5962.2</td>\n",
       "      <td>1949</td>\n",
       "      <td>59.26</td>\n",
       "      <td>1532.73</td>\n",
       "      <td>7219.6</td>\n",
       "    </tr>\n",
       "    <tr>\n",
       "      <th>2</th>\n",
       "      <td>1350</td>\n",
       "      <td>61.41</td>\n",
       "      <td>1439.16</td>\n",
       "      <td>5962.2</td>\n",
       "      <td>171</td>\n",
       "      <td>56.73</td>\n",
       "      <td>1357.28</td>\n",
       "      <td>6785.2</td>\n",
       "    </tr>\n",
       "    <tr>\n",
       "      <th>3</th>\n",
       "      <td>1350</td>\n",
       "      <td>61.41</td>\n",
       "      <td>1439.16</td>\n",
       "      <td>5962.2</td>\n",
       "      <td>171</td>\n",
       "      <td>56.73</td>\n",
       "      <td>1357.28</td>\n",
       "      <td>6785.2</td>\n",
       "    </tr>\n",
       "    <tr>\n",
       "      <th>4</th>\n",
       "      <td>1350</td>\n",
       "      <td>61.41</td>\n",
       "      <td>1439.16</td>\n",
       "      <td>5962.2</td>\n",
       "      <td>171</td>\n",
       "      <td>56.73</td>\n",
       "      <td>1357.28</td>\n",
       "      <td>6785.2</td>\n",
       "    </tr>\n",
       "  </tbody>\n",
       "</table>\n",
       "</div>"
      ],
      "text/plain": [
       "   predict_team_total_matches  predict_team_win_pct  predict_team_rating  \\\n",
       "0                        1350                 61.41              1439.16   \n",
       "1                        1350                 61.41              1439.16   \n",
       "2                        1350                 61.41              1439.16   \n",
       "3                        1350                 61.41              1439.16   \n",
       "4                        1350                 61.41              1439.16   \n",
       "\n",
       "   predict_players_mmr_average  opposing_team_total_matches  \\\n",
       "0                       5962.2                         1949   \n",
       "1                       5962.2                         1949   \n",
       "2                       5962.2                          171   \n",
       "3                       5962.2                          171   \n",
       "4                       5962.2                          171   \n",
       "\n",
       "   opposing_team_win_pct  opposing_team_rating  opposing_players_mmr_average  \n",
       "0                  59.26               1532.73                        7219.6  \n",
       "1                  59.26               1532.73                        7219.6  \n",
       "2                  56.73               1357.28                        6785.2  \n",
       "3                  56.73               1357.28                        6785.2  \n",
       "4                  56.73               1357.28                        6785.2  "
      ]
     },
     "execution_count": 21,
     "metadata": {},
     "output_type": "execute_result"
    }
   ],
   "source": [
    "X.head()"
   ]
  },
  {
   "cell_type": "code",
   "execution_count": 22,
   "id": "66d1ceb9",
   "metadata": {},
   "outputs": [
    {
     "data": {
      "text/plain": [
       "Index(['predict_team_total_matches', 'predict_team_win_pct',\n",
       "       'predict_team_rating', 'predict_players_mmr_average',\n",
       "       'opposing_team_total_matches', 'opposing_team_win_pct',\n",
       "       'opposing_team_rating', 'opposing_players_mmr_average'],\n",
       "      dtype='object')"
      ]
     },
     "execution_count": 22,
     "metadata": {},
     "output_type": "execute_result"
    }
   ],
   "source": [
    "X.columns"
   ]
  },
  {
   "cell_type": "code",
   "execution_count": 23,
   "id": "ccab8d00-feb5-424b-a459-7a5fdb945770",
   "metadata": {},
   "outputs": [],
   "source": [
    "X_train, X_test, y_train, y_test = train_test_split(X, y, test_size = 0.2, random_state = 42)"
   ]
  },
  {
   "cell_type": "code",
   "execution_count": 24,
   "id": "ffc7386c-51f7-4125-a9cb-fe9e6cfa952d",
   "metadata": {},
   "outputs": [
    {
     "data": {
      "text/html": [
       "<style>#sk-container-id-2 {color: black;background-color: white;}#sk-container-id-2 pre{padding: 0;}#sk-container-id-2 div.sk-toggleable {background-color: white;}#sk-container-id-2 label.sk-toggleable__label {cursor: pointer;display: block;width: 100%;margin-bottom: 0;padding: 0.3em;box-sizing: border-box;text-align: center;}#sk-container-id-2 label.sk-toggleable__label-arrow:before {content: \"▸\";float: left;margin-right: 0.25em;color: #696969;}#sk-container-id-2 label.sk-toggleable__label-arrow:hover:before {color: black;}#sk-container-id-2 div.sk-estimator:hover label.sk-toggleable__label-arrow:before {color: black;}#sk-container-id-2 div.sk-toggleable__content {max-height: 0;max-width: 0;overflow: hidden;text-align: left;background-color: #f0f8ff;}#sk-container-id-2 div.sk-toggleable__content pre {margin: 0.2em;color: black;border-radius: 0.25em;background-color: #f0f8ff;}#sk-container-id-2 input.sk-toggleable__control:checked~div.sk-toggleable__content {max-height: 200px;max-width: 100%;overflow: auto;}#sk-container-id-2 input.sk-toggleable__control:checked~label.sk-toggleable__label-arrow:before {content: \"▾\";}#sk-container-id-2 div.sk-estimator input.sk-toggleable__control:checked~label.sk-toggleable__label {background-color: #d4ebff;}#sk-container-id-2 div.sk-label input.sk-toggleable__control:checked~label.sk-toggleable__label {background-color: #d4ebff;}#sk-container-id-2 input.sk-hidden--visually {border: 0;clip: rect(1px 1px 1px 1px);clip: rect(1px, 1px, 1px, 1px);height: 1px;margin: -1px;overflow: hidden;padding: 0;position: absolute;width: 1px;}#sk-container-id-2 div.sk-estimator {font-family: monospace;background-color: #f0f8ff;border: 1px dotted black;border-radius: 0.25em;box-sizing: border-box;margin-bottom: 0.5em;}#sk-container-id-2 div.sk-estimator:hover {background-color: #d4ebff;}#sk-container-id-2 div.sk-parallel-item::after {content: \"\";width: 100%;border-bottom: 1px solid gray;flex-grow: 1;}#sk-container-id-2 div.sk-label:hover label.sk-toggleable__label {background-color: #d4ebff;}#sk-container-id-2 div.sk-serial::before {content: \"\";position: absolute;border-left: 1px solid gray;box-sizing: border-box;top: 0;bottom: 0;left: 50%;z-index: 0;}#sk-container-id-2 div.sk-serial {display: flex;flex-direction: column;align-items: center;background-color: white;padding-right: 0.2em;padding-left: 0.2em;position: relative;}#sk-container-id-2 div.sk-item {position: relative;z-index: 1;}#sk-container-id-2 div.sk-parallel {display: flex;align-items: stretch;justify-content: center;background-color: white;position: relative;}#sk-container-id-2 div.sk-item::before, #sk-container-id-2 div.sk-parallel-item::before {content: \"\";position: absolute;border-left: 1px solid gray;box-sizing: border-box;top: 0;bottom: 0;left: 50%;z-index: -1;}#sk-container-id-2 div.sk-parallel-item {display: flex;flex-direction: column;z-index: 1;position: relative;background-color: white;}#sk-container-id-2 div.sk-parallel-item:first-child::after {align-self: flex-end;width: 50%;}#sk-container-id-2 div.sk-parallel-item:last-child::after {align-self: flex-start;width: 50%;}#sk-container-id-2 div.sk-parallel-item:only-child::after {width: 0;}#sk-container-id-2 div.sk-dashed-wrapped {border: 1px dashed gray;margin: 0 0.4em 0.5em 0.4em;box-sizing: border-box;padding-bottom: 0.4em;background-color: white;}#sk-container-id-2 div.sk-label label {font-family: monospace;font-weight: bold;display: inline-block;line-height: 1.2em;}#sk-container-id-2 div.sk-label-container {text-align: center;}#sk-container-id-2 div.sk-container {/* jupyter's `normalize.less` sets `[hidden] { display: none; }` but bootstrap.min.css set `[hidden] { display: none !important; }` so we also need the `!important` here to be able to override the default hidden behavior on the sphinx rendered scikit-learn.org. See: https://github.com/scikit-learn/scikit-learn/issues/21755 */display: inline-block !important;position: relative;}#sk-container-id-2 div.sk-text-repr-fallback {display: none;}</style><div id=\"sk-container-id-2\" class=\"sk-top-container\"><div class=\"sk-text-repr-fallback\"><pre>LogisticRegression()</pre><b>In a Jupyter environment, please rerun this cell to show the HTML representation or trust the notebook. <br />On GitHub, the HTML representation is unable to render, please try loading this page with nbviewer.org.</b></div><div class=\"sk-container\" hidden><div class=\"sk-item\"><div class=\"sk-estimator sk-toggleable\"><input class=\"sk-toggleable__control sk-hidden--visually\" id=\"sk-estimator-id-2\" type=\"checkbox\" checked><label for=\"sk-estimator-id-2\" class=\"sk-toggleable__label sk-toggleable__label-arrow\">LogisticRegression</label><div class=\"sk-toggleable__content\"><pre>LogisticRegression()</pre></div></div></div></div></div>"
      ],
      "text/plain": [
       "LogisticRegression()"
      ]
     },
     "execution_count": 24,
     "metadata": {},
     "output_type": "execute_result"
    }
   ],
   "source": [
    "log_reg = LogisticRegression()\n",
    "log_reg.fit(X_train, y_train)"
   ]
  },
  {
   "cell_type": "code",
   "execution_count": 25,
   "id": "0ab69ba9-149b-4fad-89b9-c36785da0891",
   "metadata": {},
   "outputs": [],
   "source": [
    "y_pred = log_reg.predict(X_test)"
   ]
  },
  {
   "cell_type": "code",
   "execution_count": 26,
   "id": "967dfaff",
   "metadata": {},
   "outputs": [
    {
     "data": {
      "text/plain": [
       "array([ True, False,  True, False,  True,  True,  True,  True,  True,\n",
       "       False])"
      ]
     },
     "execution_count": 26,
     "metadata": {},
     "output_type": "execute_result"
    }
   ],
   "source": [
    "y_pred[0:10]"
   ]
  },
  {
   "cell_type": "code",
   "execution_count": 27,
   "id": "e1138e8d",
   "metadata": {},
   "outputs": [
    {
     "data": {
      "text/plain": [
       "51      False\n",
       "1101     True\n",
       "1313     True\n",
       "514      True\n",
       "1075     True\n",
       "430      True\n",
       "855      True\n",
       "764     False\n",
       "985      True\n",
       "712     False\n",
       "Name: match_outcome, dtype: bool"
      ]
     },
     "execution_count": 27,
     "metadata": {},
     "output_type": "execute_result"
    }
   ],
   "source": [
    "y_test[0:10]"
   ]
  },
  {
   "cell_type": "code",
   "execution_count": 28,
   "id": "79f383d1-bba1-4646-90d8-02ef2f991d66",
   "metadata": {},
   "outputs": [],
   "source": [
    "conf_mtx = confusion_matrix(y_test, y_pred)"
   ]
  },
  {
   "cell_type": "code",
   "execution_count": 29,
   "id": "1d68fd35",
   "metadata": {},
   "outputs": [
    {
     "data": {
      "text/plain": [
       "array([[ 48,  49],\n",
       "       [ 46, 129]], dtype=int64)"
      ]
     },
     "execution_count": 29,
     "metadata": {},
     "output_type": "execute_result"
    }
   ],
   "source": [
    "conf_mtx"
   ]
  },
  {
   "cell_type": "markdown",
   "id": "33c6e7c6-ef62-465f-8648-45702dcd831a",
   "metadata": {},
   "source": [
    "# Explanation\n",
    "\n",
    "[[True Negative, False Positive],\n",
    "\n",
    " [False Negative, True Positive]]\n",
    " \n",
    "In the first row, the model CORRECTLY predicted 40 losses, but INCORRECTLY predicted 54 wins (it should have been losses)\n",
    "\n",
    "In the second row, the model INCORRECTLY predicted 28 losses (it should have been wins), while it CORRECTLY predicted 145 wins\n",
    " \n"
   ]
  },
  {
   "cell_type": "code",
   "execution_count": 30,
   "id": "66a4dac2",
   "metadata": {},
   "outputs": [
    {
     "data": {
      "text/plain": [
       "0.7247191011235955"
      ]
     },
     "execution_count": 30,
     "metadata": {},
     "output_type": "execute_result"
    }
   ],
   "source": [
    "precision_score(y_test, y_pred)"
   ]
  },
  {
   "cell_type": "markdown",
   "id": "91d86112-8e17-4e87-a5ef-38c8e59a5f3a",
   "metadata": {},
   "source": [
    "The Logistic Regression model can CORRECTLY predict WINS 71.77% of the time"
   ]
  },
  {
   "cell_type": "code",
   "execution_count": 31,
   "id": "1053dccb",
   "metadata": {},
   "outputs": [
    {
     "data": {
      "text/plain": [
       "0.7371428571428571"
      ]
     },
     "execution_count": 31,
     "metadata": {},
     "output_type": "execute_result"
    }
   ],
   "source": [
    "recall_score(y_test, y_pred)"
   ]
  },
  {
   "cell_type": "markdown",
   "id": "ece04700",
   "metadata": {},
   "source": [
    "Save the Logistic Regression as a Pickle File"
   ]
  },
  {
   "cell_type": "code",
   "execution_count": 136,
   "id": "7467760a-40f9-4604-8c9f-d1dcf4b7a154",
   "metadata": {},
   "outputs": [],
   "source": [
    "pickle.dump(log_reg, open('royal_never_give_up_log_reg.pkl', 'wb'))"
   ]
  },
  {
   "cell_type": "code",
   "execution_count": 30,
   "id": "69beb317-ffdb-4d28-834d-017319ecb6f3",
   "metadata": {},
   "outputs": [
    {
     "data": {
      "text/html": [
       "<div>\n",
       "<style scoped>\n",
       "    .dataframe tbody tr th:only-of-type {\n",
       "        vertical-align: middle;\n",
       "    }\n",
       "\n",
       "    .dataframe tbody tr th {\n",
       "        vertical-align: top;\n",
       "    }\n",
       "\n",
       "    .dataframe thead th {\n",
       "        text-align: right;\n",
       "    }\n",
       "</style>\n",
       "<table border=\"1\" class=\"dataframe\">\n",
       "  <thead>\n",
       "    <tr style=\"text-align: right;\">\n",
       "      <th></th>\n",
       "      <th>predict_team_total_matches</th>\n",
       "      <th>predict_team_win_pct</th>\n",
       "      <th>predict_team_rating</th>\n",
       "      <th>predict_players_mmr_average</th>\n",
       "      <th>opposing_team_total_matches</th>\n",
       "      <th>opposing_team_win_pct</th>\n",
       "      <th>opposing_team_rating</th>\n",
       "      <th>opposing_players_mmr_average</th>\n",
       "    </tr>\n",
       "  </thead>\n",
       "  <tbody>\n",
       "    <tr>\n",
       "      <th>115</th>\n",
       "      <td>239</td>\n",
       "      <td>55.23</td>\n",
       "      <td>1447.04</td>\n",
       "      <td>6557.6</td>\n",
       "      <td>1157</td>\n",
       "      <td>54.02</td>\n",
       "      <td>1198.46</td>\n",
       "      <td>6161.8</td>\n",
       "    </tr>\n",
       "    <tr>\n",
       "      <th>15</th>\n",
       "      <td>239</td>\n",
       "      <td>55.23</td>\n",
       "      <td>1447.04</td>\n",
       "      <td>6557.6</td>\n",
       "      <td>927</td>\n",
       "      <td>55.02</td>\n",
       "      <td>1504.82</td>\n",
       "      <td>7289.6</td>\n",
       "    </tr>\n",
       "    <tr>\n",
       "      <th>211</th>\n",
       "      <td>239</td>\n",
       "      <td>55.23</td>\n",
       "      <td>1447.04</td>\n",
       "      <td>6557.6</td>\n",
       "      <td>1157</td>\n",
       "      <td>54.02</td>\n",
       "      <td>1198.46</td>\n",
       "      <td>6179.2</td>\n",
       "    </tr>\n",
       "    <tr>\n",
       "      <th>126</th>\n",
       "      <td>239</td>\n",
       "      <td>55.23</td>\n",
       "      <td>1447.04</td>\n",
       "      <td>6557.6</td>\n",
       "      <td>277</td>\n",
       "      <td>59.21</td>\n",
       "      <td>1420.20</td>\n",
       "      <td>6464.2</td>\n",
       "    </tr>\n",
       "    <tr>\n",
       "      <th>6</th>\n",
       "      <td>239</td>\n",
       "      <td>55.23</td>\n",
       "      <td>1447.04</td>\n",
       "      <td>6557.6</td>\n",
       "      <td>277</td>\n",
       "      <td>59.21</td>\n",
       "      <td>1420.20</td>\n",
       "      <td>6559.8</td>\n",
       "    </tr>\n",
       "  </tbody>\n",
       "</table>\n",
       "</div>"
      ],
      "text/plain": [
       "     predict_team_total_matches  predict_team_win_pct  predict_team_rating  \\\n",
       "115                         239                 55.23              1447.04   \n",
       "15                          239                 55.23              1447.04   \n",
       "211                         239                 55.23              1447.04   \n",
       "126                         239                 55.23              1447.04   \n",
       "6                           239                 55.23              1447.04   \n",
       "\n",
       "     predict_players_mmr_average  opposing_team_total_matches  \\\n",
       "115                       6557.6                         1157   \n",
       "15                        6557.6                          927   \n",
       "211                       6557.6                         1157   \n",
       "126                       6557.6                          277   \n",
       "6                         6557.6                          277   \n",
       "\n",
       "     opposing_team_win_pct  opposing_team_rating  opposing_players_mmr_average  \n",
       "115                  54.02               1198.46                        6161.8  \n",
       "15                   55.02               1504.82                        7289.6  \n",
       "211                  54.02               1198.46                        6179.2  \n",
       "126                  59.21               1420.20                        6464.2  \n",
       "6                    59.21               1420.20                        6559.8  "
      ]
     },
     "execution_count": 30,
     "metadata": {},
     "output_type": "execute_result"
    }
   ],
   "source": [
    "X_test[0:5]"
   ]
  },
  {
   "cell_type": "code",
   "execution_count": 31,
   "id": "aa3259d5",
   "metadata": {},
   "outputs": [
    {
     "data": {
      "text/plain": [
       "497    False\n",
       "244    False\n",
       "552    False\n",
       "213     True\n",
       "549    False\n",
       "Name: match_outcome, dtype: bool"
      ]
     },
     "execution_count": 31,
     "metadata": {},
     "output_type": "execute_result"
    }
   ],
   "source": [
    "y_test[0:5]"
   ]
  },
  {
   "cell_type": "code",
   "execution_count": 32,
   "id": "b87cebd0",
   "metadata": {},
   "outputs": [
    {
     "data": {
      "text/plain": [
       "array([ True,  True,  True,  True, False])"
      ]
     },
     "execution_count": 32,
     "metadata": {},
     "output_type": "execute_result"
    }
   ],
   "source": [
    "y_pred[0:5]"
   ]
  },
  {
   "cell_type": "code",
   "execution_count": 33,
   "id": "9303d7be",
   "metadata": {},
   "outputs": [
    {
     "data": {
      "text/plain": [
       "predict_team_total_matches       629.00\n",
       "predict_team_win_pct              60.73\n",
       "predict_team_rating             1375.73\n",
       "predict_players_mmr_average     6797.20\n",
       "opposing_team_total_matches      370.00\n",
       "opposing_team_win_pct             57.03\n",
       "opposing_team_rating            1279.66\n",
       "opposing_players_mmr_average    7056.40\n",
       "Name: 244, dtype: float64"
      ]
     },
     "execution_count": 33,
     "metadata": {},
     "output_type": "execute_result"
    }
   ],
   "source": [
    "X_test.iloc[1, :]"
   ]
  },
  {
   "cell_type": "code",
   "execution_count": null,
   "id": "14c93a70",
   "metadata": {},
   "outputs": [],
   "source": [
    "test_list = []\n",
    "for item in X_test.iloc[1, :]:\n",
    "    test_list.append(item)"
   ]
  },
  {
   "cell_type": "code",
   "execution_count": null,
   "id": "fbe41ce2",
   "metadata": {},
   "outputs": [
    {
     "name": "stderr",
     "output_type": "stream",
     "text": [
      "c:\\Users\\johnp\\deploy-mlmodel\\deploy-mlmodel-env\\lib\\site-packages\\sklearn\\base.py:450: UserWarning: X does not have valid feature names, but LogisticRegression was fitted with feature names\n",
      "  warnings.warn(\n"
     ]
    },
    {
     "data": {
      "text/plain": [
       "array([ True])"
      ]
     },
     "execution_count": 30,
     "metadata": {},
     "output_type": "execute_result"
    }
   ],
   "source": [
    "log_reg.predict([test_list])"
   ]
  },
  {
   "cell_type": "code",
   "execution_count": null,
   "id": "21016c2f",
   "metadata": {},
   "outputs": [],
   "source": []
  }
 ],
 "metadata": {
  "kernelspec": {
   "display_name": "Python 3.10.6 ('deploy-mlmodel-env': venv)",
   "language": "python",
   "name": "python3"
  },
  "language_info": {
   "codemirror_mode": {
    "name": "ipython",
    "version": 3
   },
   "file_extension": ".py",
   "mimetype": "text/x-python",
   "name": "python",
   "nbconvert_exporter": "python",
   "pygments_lexer": "ipython3",
   "version": "3.10.6"
  },
  "vscode": {
   "interpreter": {
    "hash": "30d80fdac55364737219c44b1a442205c29b6ee2abcfc60eeff35dd4ecb6f629"
   }
  }
 },
 "nbformat": 4,
 "nbformat_minor": 5
}
