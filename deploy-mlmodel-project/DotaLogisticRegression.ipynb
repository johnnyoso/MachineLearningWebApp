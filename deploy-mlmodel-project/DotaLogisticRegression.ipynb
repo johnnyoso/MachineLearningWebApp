{
 "cells": [
  {
   "cell_type": "code",
   "execution_count": 1,
   "id": "456fde4c-01df-47fc-bfec-f0d5f9948223",
   "metadata": {},
   "outputs": [],
   "source": [
    "import json\n",
    "import requests\n",
    "import re\n",
    "from datetime import datetime\n",
    "\n",
    "import pandas as pd\n",
    "import numpy as np\n",
    "import time\n",
    "\n",
    "%matplotlib inline\n",
    "import matplotlib.pyplot as plt\n",
    "\n",
    "from sklearn.model_selection import train_test_split\n",
    "from sklearn.model_selection import StratifiedShuffleSplit\n",
    "from sklearn.linear_model import LogisticRegression\n",
    "from sklearn.metrics import confusion_matrix, precision_score, recall_score\n",
    "\n",
    "import pickle\n",
    "import math"
   ]
  },
  {
   "cell_type": "code",
   "execution_count": 2,
   "id": "6265e521-06c8-495e-bc98-32fefacca4c5",
   "metadata": {},
   "outputs": [],
   "source": [
    "BASE_URL = 'https://api.opendota.com/api/'\n",
    "TEAMS = 'teams'\n",
    "HEROES = 'heroes'\n",
    "PROPLAYERS = 'proPlayers'\n",
    "PROMATCHES = 'proMatches'\n",
    "MATCHES = 'matches'\n",
    "PLAYERS = 'players'\n",
    "HEROES_STATS = 'heroStats'"
   ]
  },
  {
   "cell_type": "code",
   "execution_count": 123,
   "id": "15a0dd95-6f86-4bca-8bb0-b81bf27dd06d",
   "metadata": {},
   "outputs": [],
   "source": [
    "# read team OG matches file\n",
    "with open(r'C:\\Users\\johnp\\deploy-mlmodel\\MachineLearningWebApp\\deploy-mlmodel-project\\data\\royal_never_give_up_data.json', 'r', encoding=\"utf-8\") as input_file:\n",
    "\n",
    "    data = input_file.read()\n",
    "    royal_never_give_up_matches_json = json.loads(data)"
   ]
  },
  {
   "cell_type": "code",
   "execution_count": 4,
   "id": "24edf5fa-f172-49fd-817b-10fbf9694343",
   "metadata": {},
   "outputs": [],
   "source": [
    "def match_outcome(radiant_win, radiant):\n",
    "    if ((radiant_win == False and radiant == False) or (radiant_win == True and radiant == True)):\n",
    "        return True\n",
    "    \n",
    "    elif ((radiant_win == True and radiant == False) or (radiant_win == False and radiant == True)):\n",
    "        return False"
   ]
  },
  {
   "cell_type": "code",
   "execution_count": 69,
   "id": "78faf5e6-b18e-45de-b36c-89409ee62028",
   "metadata": {},
   "outputs": [],
   "source": [
    "error_list = []\n",
    "\n",
    "def process_data(team_matches_json):\n",
    "\n",
    "    for index, item in enumerate(team_matches_json):\n",
    "\n",
    "        predict_players_mmr_total = 0\n",
    "        predict_players_mmr_count = 0\n",
    "        for x, i in enumerate(item['predict_players']):\n",
    "\n",
    "            try:\n",
    "                predict_players_mmr_total += i['player_stats']['mmr_estimate']['estimate']\n",
    "                predict_players_mmr_count += 1\n",
    "\n",
    "            except:\n",
    "\n",
    "                error_list.append(index)\n",
    "                \n",
    "        # get the average MMR of the team\n",
    "        try:\n",
    "            team_matches_json[index]['predict_players_mmr_average'] = predict_players_mmr_total / predict_players_mmr_count\n",
    "            \n",
    "        except:\n",
    "            team_matches_json[index]['predict_players_mmr_average'] = None\n",
    "            error_list.append(index)\n",
    "\n",
    "        opposing_players_mmr_total = 0\n",
    "        opposing_players_mmr_count = 0\n",
    "        for y, j in enumerate(item['opposing_players']):\n",
    "\n",
    "            try:\n",
    "                opposing_players_mmr_total += j['player_stats']['mmr_estimate']['estimate']\n",
    "                opposing_players_mmr_count += 1\n",
    "\n",
    "            except:\n",
    "\n",
    "                error_list.append(index)\n",
    "        \n",
    "        try:\n",
    "            team_matches_json[index]['opposing_players_mmr_average'] = opposing_players_mmr_total / opposing_players_mmr_count\n",
    "        \n",
    "        except:\n",
    "            team_matches_json[index]['opposing_players_mmr_average'] = None\n",
    "            error_list.append(index)\n",
    "        \n",
    "        \n",
    "        predict_team_total_matches = item['predict_team_stat'][0]['predict_team_wins_total'] + item['predict_team_stat'][0]['predict_team_losses_total']\n",
    "        team_matches_json[index]['predict_team_total_matches'] = predict_team_total_matches\n",
    "        \n",
    "        predict_team_win_pct = round(item['predict_team_stat'][0]['predict_team_wins_total'] / predict_team_total_matches * 100, 2)\n",
    "        team_matches_json[index]['predict_team_win_pct'] = predict_team_win_pct\n",
    "        \n",
    "        try:\n",
    "            opposing_team_total_matches = item['opposing_team_stat'][0]['opposing_team_wins_total'] + item['opposing_team_stat'][0]['opposing_team_losses_total']\n",
    "        \n",
    "        except:\n",
    "            error_list.append(index)\n",
    "            opposing_team_total_matches = 0\n",
    "\n",
    "\n",
    "        team_matches_json[index]['opposing_team_total_matches'] = opposing_team_total_matches \n",
    "        \n",
    "        try:\n",
    "            opposing_team_win_pct =  round(item['opposing_team_stat'][0]['opposing_team_wins_total'] / opposing_team_total_matches * 100, 2)\n",
    "        except:\n",
    "            error_list.append(index)\n",
    "            opposing_team_win_pct = 0\n",
    "\n",
    "        team_matches_json[index]['opposing_team_win_pct'] = opposing_team_win_pct"
   ]
  },
  {
   "cell_type": "code",
   "execution_count": 124,
   "id": "2d40e75d",
   "metadata": {},
   "outputs": [],
   "source": [
    "process_data(royal_never_give_up_matches_json)\n"
   ]
  },
  {
   "cell_type": "code",
   "execution_count": 8,
   "id": "4d99f3fb",
   "metadata": {},
   "outputs": [],
   "source": [
    "def get_predict_data(predict_team_dict, opposing_team_dict):\n",
    "\n",
    "    predict_players_mmr_total = 0\n",
    "    predict_players_mmr_count = 0\n",
    "    opposing_players_mmr_total = 0\n",
    "    opposing_players_mmr_count = 0\n",
    "\n",
    "    for x, i in enumerate(predict_team_dict['predict_players']):\n",
    "\n",
    "        try:\n",
    "            predict_players_mmr_total += i['player_stats']['mmr_estimate']['estimate']\n",
    "            predict_players_mmr_count += 1\n",
    "\n",
    "        except:\n",
    "\n",
    "            error_list.append()\n",
    "            \n",
    "    # get the average MMR of the predict team\n",
    "    predict_players_mmr_average = predict_players_mmr_total / predict_players_mmr_count\n",
    "\n",
    "    predict_team_total_matches = predict_team_dict['predict_team_stat'][0]['predict_team_wins_total'] + predict_team_dict['predict_team_stat'][0]['predict_team_losses_total']\n",
    "    \n",
    "    predict_team_win_pct = round(predict_team_dict['predict_team_stat'][0]['predict_team_wins_total'] / predict_team_total_matches * 100, 2)\n",
    "    \n",
    "    for y, j in enumerate(opposing_team_dict['predict_players']):\n",
    "\n",
    "        try:\n",
    "            opposing_players_mmr_total += i['player_stats']['mmr_estimate']['estimate']\n",
    "            opposing_players_mmr_count += 1\n",
    "\n",
    "        except:\n",
    "\n",
    "            error_list.append()\n",
    "    \n",
    "    # get the average MMR of the opposing team\n",
    "    opposing_players_mmr_average = opposing_players_mmr_total / opposing_players_mmr_count\n",
    "\n",
    "    opposing_team_total_matches = opposing_team_dict['predict_team_stat'][0]['predict_team_wins_total'] + opposing_team_dict['predict_team_stat'][0]['predict_team_losses_total']\n",
    "\n",
    "    opposing_team_win_pct = round(opposing_team_dict['predict_team_stat'][0]['predict_team_wins_total'] / opposing_team_total_matches * 100, 2)\n",
    "\n",
    "    predict_data_df =  pd.DataFrame(data = {'predict_team_total_matches' : predict_team_total_matches, \n",
    "                                            'predict_team_win_pct' : predict_team_win_pct, \n",
    "                                            'predict_team_rating' : predict_team_dict['predict_team_stat'][0]['predict_team_rating'], \n",
    "                                            'predict_players_mmr_average' : predict_players_mmr_average, \n",
    "                                            'opposing_team_total_matches' : opposing_team_total_matches, \n",
    "                                            'opposing_team_win_pct' : opposing_team_win_pct, \n",
    "                                            'opposing_team_rating' : opposing_team_dict['predict_team_stat'][0]['predict_team_rating'], \n",
    "                                            'opposing_players_mmr_average' : opposing_players_mmr_average}, \n",
    "                                            index = [0])     \n",
    "\n",
    "    return predict_data_df           "
   ]
  },
  {
   "cell_type": "code",
   "execution_count": 58,
   "id": "a07d17c7",
   "metadata": {},
   "outputs": [],
   "source": [
    "tundra_esports_profile_df = get_predict_data(tundra_esports_matches_json[0], team_secret_matches_json[0])"
   ]
  },
  {
   "cell_type": "code",
   "execution_count": 9,
   "id": "a65c735e-c8e5-42a8-b4e2-dc2312ac87dd",
   "metadata": {},
   "outputs": [],
   "source": [
    "# Convert the team matches json to a dataframe\n",
    "def team_matches_df(team_matches_json, predict_team_name, predict_team_id):\n",
    "    \n",
    "    all_matches_df = pd.DataFrame(data = [(datetime.fromtimestamp(item['start_time']).strftime('%Y-%m-%d %H:%M:%S'),\n",
    "                                                       predict_team_name,\n",
    "                                                       predict_team_id,\n",
    "                                                       item['predict_team_total_matches'],\n",
    "                                                       item['predict_team_win_pct'],\n",
    "                                                       item['predict_team_stat'][0]['predict_team_rating'],\n",
    "                                                       item['predict_players_mmr_average'],\n",
    "                                                       item['opposing_team_name'],\n",
    "                                                       item['opposing_team_id'],\n",
    "                                                       item['opposing_team_total_matches'],\n",
    "                                                       item['opposing_team_win_pct'],\n",
    "                                                       item['opposing_team_stat'][0]['opposing_team_rating'],\n",
    "                                                       item['opposing_players_mmr_average'],\n",
    "                                                       item['league_name'],\n",
    "                                                       item['leagueid'],\n",
    "                                                       item['cluster'], \n",
    "                                                       item['radiant_win'],\n",
    "                                                       item['radiant'],\n",
    "                                                       item['duration'], \n",
    "                                                       item['match_id'],\n",
    "                                                       match_outcome(item['radiant_win'], item['radiant'])) for index, item in enumerate(team_matches_json)], \n",
    "                      columns = ['start_date', \n",
    "                                 'predict_team_name', \n",
    "                                 'predict_team_id', \n",
    "                                 'predict_team_total_matches', \n",
    "                                 'predict_team_win_pct',\n",
    "                                 'predict_team_rating',   \n",
    "                                 'predict_players_mmr_average', \n",
    "                                 'opposing_team_name', \n",
    "                                 'opposing_team_id', \n",
    "                                 'opposing_team_total_matches',\n",
    "                                 'opposing_team_win_pct', \n",
    "                                 'opposing_team_rating',\n",
    "                                 'opposing_players_mmr_average', \n",
    "                                 'league_name', \n",
    "                                 'leagueid', \n",
    "                                 'cluster', \n",
    "                                 'radiant_win', \n",
    "                                 'radiant', \n",
    "                                 'duration', \n",
    "                                 'match_id', \n",
    "                                 'match_outcome'])\n",
    "    \n",
    "    return all_matches_df\n"
   ]
  },
  {
   "cell_type": "code",
   "execution_count": 125,
   "id": "798763a6-3890-4774-99ed-215199f7fa05",
   "metadata": {},
   "outputs": [],
   "source": [
    "royal_never_give_up_matches_df = team_matches_df(royal_never_give_up_matches_json, 'royal_never_give_up', 6209804)"
   ]
  },
  {
   "cell_type": "code",
   "execution_count": 26,
   "id": "1c1c582c-98d7-4787-991e-52f1632638b5",
   "metadata": {},
   "outputs": [
    {
     "data": {
      "text/plain": [
       "(208, 21)"
      ]
     },
     "execution_count": 26,
     "metadata": {},
     "output_type": "execute_result"
    }
   ],
   "source": [
    "entity_matches_df.shape"
   ]
  },
  {
   "cell_type": "code",
   "execution_count": 12,
   "id": "28ccc788-6d7b-4bc8-84ab-3fdcba426f74",
   "metadata": {},
   "outputs": [
    {
     "data": {
      "text/html": [
       "<div>\n",
       "<style scoped>\n",
       "    .dataframe tbody tr th:only-of-type {\n",
       "        vertical-align: middle;\n",
       "    }\n",
       "\n",
       "    .dataframe tbody tr th {\n",
       "        vertical-align: top;\n",
       "    }\n",
       "\n",
       "    .dataframe thead th {\n",
       "        text-align: right;\n",
       "    }\n",
       "</style>\n",
       "<table border=\"1\" class=\"dataframe\">\n",
       "  <thead>\n",
       "    <tr style=\"text-align: right;\">\n",
       "      <th></th>\n",
       "      <th>start_date</th>\n",
       "      <th>predict_team_name</th>\n",
       "      <th>predict_team_id</th>\n",
       "      <th>predict_team_total_matches</th>\n",
       "      <th>predict_team_win_pct</th>\n",
       "      <th>predict_team_rating</th>\n",
       "      <th>predict_players_mmr_average</th>\n",
       "      <th>opposing_team_name</th>\n",
       "      <th>opposing_team_id</th>\n",
       "      <th>opposing_team_total_matches</th>\n",
       "      <th>...</th>\n",
       "      <th>opposing_team_rating</th>\n",
       "      <th>opposing_players_mmr_average</th>\n",
       "      <th>league_name</th>\n",
       "      <th>leagueid</th>\n",
       "      <th>cluster</th>\n",
       "      <th>radiant_win</th>\n",
       "      <th>radiant</th>\n",
       "      <th>duration</th>\n",
       "      <th>match_id</th>\n",
       "      <th>match_outcome</th>\n",
       "    </tr>\n",
       "  </thead>\n",
       "  <tbody>\n",
       "    <tr>\n",
       "      <th>0</th>\n",
       "      <td>2022-10-18 14:13:38</td>\n",
       "      <td>fnatic</td>\n",
       "      <td>350190</td>\n",
       "      <td>2034</td>\n",
       "      <td>57.62</td>\n",
       "      <td>1359.85</td>\n",
       "      <td>7151.0</td>\n",
       "      <td>Tundra Esports</td>\n",
       "      <td>8291895</td>\n",
       "      <td>255</td>\n",
       "      <td>...</td>\n",
       "      <td>1486.24</td>\n",
       "      <td>7715.6</td>\n",
       "      <td>The International 2022</td>\n",
       "      <td>14268</td>\n",
       "      <td>154</td>\n",
       "      <td>False</td>\n",
       "      <td>True</td>\n",
       "      <td>2377</td>\n",
       "      <td>6810862848</td>\n",
       "      <td>False</td>\n",
       "    </tr>\n",
       "    <tr>\n",
       "      <th>1</th>\n",
       "      <td>2022-10-18 13:02:50</td>\n",
       "      <td>fnatic</td>\n",
       "      <td>350190</td>\n",
       "      <td>2034</td>\n",
       "      <td>57.62</td>\n",
       "      <td>1359.85</td>\n",
       "      <td>7151.0</td>\n",
       "      <td>Tundra Esports</td>\n",
       "      <td>8291895</td>\n",
       "      <td>255</td>\n",
       "      <td>...</td>\n",
       "      <td>1486.24</td>\n",
       "      <td>7715.6</td>\n",
       "      <td>The International 2022</td>\n",
       "      <td>14268</td>\n",
       "      <td>154</td>\n",
       "      <td>False</td>\n",
       "      <td>True</td>\n",
       "      <td>2268</td>\n",
       "      <td>6810818538</td>\n",
       "      <td>False</td>\n",
       "    </tr>\n",
       "    <tr>\n",
       "      <th>2</th>\n",
       "      <td>2022-10-17 21:06:03</td>\n",
       "      <td>fnatic</td>\n",
       "      <td>350190</td>\n",
       "      <td>2034</td>\n",
       "      <td>57.62</td>\n",
       "      <td>1359.85</td>\n",
       "      <td>7151.0</td>\n",
       "      <td>Talon</td>\n",
       "      <td>8597976</td>\n",
       "      <td>165</td>\n",
       "      <td>...</td>\n",
       "      <td>1360.28</td>\n",
       "      <td>7070.0</td>\n",
       "      <td>The International 2022</td>\n",
       "      <td>14268</td>\n",
       "      <td>154</td>\n",
       "      <td>False</td>\n",
       "      <td>True</td>\n",
       "      <td>2405</td>\n",
       "      <td>6809742301</td>\n",
       "      <td>False</td>\n",
       "    </tr>\n",
       "    <tr>\n",
       "      <th>3</th>\n",
       "      <td>2022-10-17 19:39:13</td>\n",
       "      <td>fnatic</td>\n",
       "      <td>350190</td>\n",
       "      <td>2034</td>\n",
       "      <td>57.62</td>\n",
       "      <td>1359.85</td>\n",
       "      <td>7151.0</td>\n",
       "      <td>Talon</td>\n",
       "      <td>8597976</td>\n",
       "      <td>165</td>\n",
       "      <td>...</td>\n",
       "      <td>1360.28</td>\n",
       "      <td>7070.0</td>\n",
       "      <td>The International 2022</td>\n",
       "      <td>14268</td>\n",
       "      <td>154</td>\n",
       "      <td>False</td>\n",
       "      <td>True</td>\n",
       "      <td>3397</td>\n",
       "      <td>6809665094</td>\n",
       "      <td>False</td>\n",
       "    </tr>\n",
       "    <tr>\n",
       "      <th>4</th>\n",
       "      <td>2022-10-17 16:56:55</td>\n",
       "      <td>fnatic</td>\n",
       "      <td>350190</td>\n",
       "      <td>2034</td>\n",
       "      <td>57.62</td>\n",
       "      <td>1359.85</td>\n",
       "      <td>7151.0</td>\n",
       "      <td>Team Aster</td>\n",
       "      <td>6209166</td>\n",
       "      <td>919</td>\n",
       "      <td>...</td>\n",
       "      <td>1456.06</td>\n",
       "      <td>7333.8</td>\n",
       "      <td>The International 2022</td>\n",
       "      <td>14268</td>\n",
       "      <td>154</td>\n",
       "      <td>True</td>\n",
       "      <td>True</td>\n",
       "      <td>3947</td>\n",
       "      <td>6809556554</td>\n",
       "      <td>True</td>\n",
       "    </tr>\n",
       "  </tbody>\n",
       "</table>\n",
       "<p>5 rows × 21 columns</p>\n",
       "</div>"
      ],
      "text/plain": [
       "            start_date predict_team_name  predict_team_id  \\\n",
       "0  2022-10-18 14:13:38            fnatic           350190   \n",
       "1  2022-10-18 13:02:50            fnatic           350190   \n",
       "2  2022-10-17 21:06:03            fnatic           350190   \n",
       "3  2022-10-17 19:39:13            fnatic           350190   \n",
       "4  2022-10-17 16:56:55            fnatic           350190   \n",
       "\n",
       "   predict_team_total_matches  predict_team_win_pct  predict_team_rating  \\\n",
       "0                        2034                 57.62              1359.85   \n",
       "1                        2034                 57.62              1359.85   \n",
       "2                        2034                 57.62              1359.85   \n",
       "3                        2034                 57.62              1359.85   \n",
       "4                        2034                 57.62              1359.85   \n",
       "\n",
       "   predict_players_mmr_average opposing_team_name  opposing_team_id  \\\n",
       "0                       7151.0     Tundra Esports           8291895   \n",
       "1                       7151.0     Tundra Esports           8291895   \n",
       "2                       7151.0              Talon           8597976   \n",
       "3                       7151.0              Talon           8597976   \n",
       "4                       7151.0         Team Aster           6209166   \n",
       "\n",
       "   opposing_team_total_matches  ...  opposing_team_rating  \\\n",
       "0                          255  ...               1486.24   \n",
       "1                          255  ...               1486.24   \n",
       "2                          165  ...               1360.28   \n",
       "3                          165  ...               1360.28   \n",
       "4                          919  ...               1456.06   \n",
       "\n",
       "   opposing_players_mmr_average             league_name leagueid  cluster  \\\n",
       "0                        7715.6  The International 2022    14268      154   \n",
       "1                        7715.6  The International 2022    14268      154   \n",
       "2                        7070.0  The International 2022    14268      154   \n",
       "3                        7070.0  The International 2022    14268      154   \n",
       "4                        7333.8  The International 2022    14268      154   \n",
       "\n",
       "   radiant_win  radiant  duration    match_id  match_outcome  \n",
       "0        False     True      2377  6810862848          False  \n",
       "1        False     True      2268  6810818538          False  \n",
       "2        False     True      2405  6809742301          False  \n",
       "3        False     True      3397  6809665094          False  \n",
       "4         True     True      3947  6809556554           True  \n",
       "\n",
       "[5 rows x 21 columns]"
      ]
     },
     "execution_count": 12,
     "metadata": {},
     "output_type": "execute_result"
    }
   ],
   "source": [
    "fnatic_matches_df.head()"
   ]
  },
  {
   "cell_type": "code",
   "execution_count": 23,
   "id": "49432cdd",
   "metadata": {},
   "outputs": [],
   "source": [
    "team_secret_matches_df.dropna(inplace=True)"
   ]
  },
  {
   "cell_type": "code",
   "execution_count": 24,
   "id": "0b8b0203",
   "metadata": {},
   "outputs": [
    {
     "data": {
      "text/plain": [
       "(1543, 21)"
      ]
     },
     "execution_count": 24,
     "metadata": {},
     "output_type": "execute_result"
    }
   ],
   "source": [
    "team_secret_matches_df.shape"
   ]
  },
  {
   "cell_type": "code",
   "execution_count": 15,
   "id": "cfc15f5e-2bef-44dd-91eb-906b0fcc3e01",
   "metadata": {},
   "outputs": [
    {
     "data": {
      "text/html": [
       "<div>\n",
       "<style scoped>\n",
       "    .dataframe tbody tr th:only-of-type {\n",
       "        vertical-align: middle;\n",
       "    }\n",
       "\n",
       "    .dataframe tbody tr th {\n",
       "        vertical-align: top;\n",
       "    }\n",
       "\n",
       "    .dataframe thead th {\n",
       "        text-align: right;\n",
       "    }\n",
       "</style>\n",
       "<table border=\"1\" class=\"dataframe\">\n",
       "  <thead>\n",
       "    <tr style=\"text-align: right;\">\n",
       "      <th></th>\n",
       "      <th>predict_team_id</th>\n",
       "      <th>predict_team_total_matches</th>\n",
       "      <th>predict_team_win_pct</th>\n",
       "      <th>predict_team_rating</th>\n",
       "      <th>predict_players_mmr_average</th>\n",
       "      <th>opposing_team_id</th>\n",
       "      <th>opposing_team_total_matches</th>\n",
       "      <th>opposing_team_win_pct</th>\n",
       "      <th>opposing_team_rating</th>\n",
       "      <th>opposing_players_mmr_average</th>\n",
       "      <th>leagueid</th>\n",
       "      <th>cluster</th>\n",
       "      <th>duration</th>\n",
       "      <th>match_id</th>\n",
       "    </tr>\n",
       "  </thead>\n",
       "  <tbody>\n",
       "    <tr>\n",
       "      <th>count</th>\n",
       "      <td>2110.0</td>\n",
       "      <td>2110.0</td>\n",
       "      <td>2.110000e+03</td>\n",
       "      <td>2110.00</td>\n",
       "      <td>2110.000000</td>\n",
       "      <td>2.110000e+03</td>\n",
       "      <td>2110.000000</td>\n",
       "      <td>2110.000000</td>\n",
       "      <td>2110.000000</td>\n",
       "      <td>2110.000000</td>\n",
       "      <td>2110.000000</td>\n",
       "      <td>2110.000000</td>\n",
       "      <td>2110.000000</td>\n",
       "      <td>2.110000e+03</td>\n",
       "    </tr>\n",
       "    <tr>\n",
       "      <th>mean</th>\n",
       "      <td>350190.0</td>\n",
       "      <td>2034.0</td>\n",
       "      <td>5.762000e+01</td>\n",
       "      <td>1359.85</td>\n",
       "      <td>7049.334905</td>\n",
       "      <td>2.645015e+06</td>\n",
       "      <td>968.313270</td>\n",
       "      <td>53.963986</td>\n",
       "      <td>1210.112201</td>\n",
       "      <td>6487.437970</td>\n",
       "      <td>6997.437915</td>\n",
       "      <td>147.270616</td>\n",
       "      <td>2245.443128</td>\n",
       "      <td>2.978957e+09</td>\n",
       "    </tr>\n",
       "    <tr>\n",
       "      <th>std</th>\n",
       "      <td>0.0</td>\n",
       "      <td>0.0</td>\n",
       "      <td>7.107112e-15</td>\n",
       "      <td>0.00</td>\n",
       "      <td>286.241801</td>\n",
       "      <td>2.872549e+06</td>\n",
       "      <td>811.692135</td>\n",
       "      <td>8.078025</td>\n",
       "      <td>163.627356</td>\n",
       "      <td>598.985284</td>\n",
       "      <td>8201.663386</td>\n",
       "      <td>27.319514</td>\n",
       "      <td>679.278327</td>\n",
       "      <td>2.172003e+09</td>\n",
       "    </tr>\n",
       "    <tr>\n",
       "      <th>min</th>\n",
       "      <td>350190.0</td>\n",
       "      <td>2034.0</td>\n",
       "      <td>5.762000e+01</td>\n",
       "      <td>1359.85</td>\n",
       "      <td>5640.800000</td>\n",
       "      <td>2.000000e+00</td>\n",
       "      <td>1.000000</td>\n",
       "      <td>0.000000</td>\n",
       "      <td>784.568000</td>\n",
       "      <td>3791.333333</td>\n",
       "      <td>21.000000</td>\n",
       "      <td>111.000000</td>\n",
       "      <td>442.000000</td>\n",
       "      <td>1.254870e+08</td>\n",
       "    </tr>\n",
       "    <tr>\n",
       "      <th>25%</th>\n",
       "      <td>350190.0</td>\n",
       "      <td>2034.0</td>\n",
       "      <td>5.762000e+01</td>\n",
       "      <td>1359.85</td>\n",
       "      <td>6975.800000</td>\n",
       "      <td>1.114740e+05</td>\n",
       "      <td>262.750000</td>\n",
       "      <td>51.540000</td>\n",
       "      <td>1086.200000</td>\n",
       "      <td>6145.800000</td>\n",
       "      <td>1123.000000</td>\n",
       "      <td>132.000000</td>\n",
       "      <td>1796.750000</td>\n",
       "      <td>6.279829e+08</td>\n",
       "    </tr>\n",
       "    <tr>\n",
       "      <th>50%</th>\n",
       "      <td>350190.0</td>\n",
       "      <td>2034.0</td>\n",
       "      <td>5.762000e+01</td>\n",
       "      <td>1359.85</td>\n",
       "      <td>7150.500000</td>\n",
       "      <td>1.842972e+06</td>\n",
       "      <td>627.000000</td>\n",
       "      <td>55.540000</td>\n",
       "      <td>1166.030000</td>\n",
       "      <td>6511.600000</td>\n",
       "      <td>5313.000000</td>\n",
       "      <td>151.000000</td>\n",
       "      <td>2168.000000</td>\n",
       "      <td>2.935758e+09</td>\n",
       "    </tr>\n",
       "    <tr>\n",
       "      <th>75%</th>\n",
       "      <td>350190.0</td>\n",
       "      <td>2034.0</td>\n",
       "      <td>5.762000e+01</td>\n",
       "      <td>1359.85</td>\n",
       "      <td>7304.000000</td>\n",
       "      <td>3.903083e+06</td>\n",
       "      <td>1933.000000</td>\n",
       "      <td>57.860000</td>\n",
       "      <td>1299.160000</td>\n",
       "      <td>6945.200000</td>\n",
       "      <td>11280.000000</td>\n",
       "      <td>154.000000</td>\n",
       "      <td>2627.500000</td>\n",
       "      <td>4.971621e+09</td>\n",
       "    </tr>\n",
       "    <tr>\n",
       "      <th>max</th>\n",
       "      <td>350190.0</td>\n",
       "      <td>2034.0</td>\n",
       "      <td>5.762000e+01</td>\n",
       "      <td>1359.85</td>\n",
       "      <td>7422.750000</td>\n",
       "      <td>8.724984e+06</td>\n",
       "      <td>2508.000000</td>\n",
       "      <td>81.250000</td>\n",
       "      <td>1560.220000</td>\n",
       "      <td>7715.600000</td>\n",
       "      <td>65013.000000</td>\n",
       "      <td>308.000000</td>\n",
       "      <td>5867.000000</td>\n",
       "      <td>6.810863e+09</td>\n",
       "    </tr>\n",
       "  </tbody>\n",
       "</table>\n",
       "</div>"
      ],
      "text/plain": [
       "       predict_team_id  predict_team_total_matches  predict_team_win_pct  \\\n",
       "count           2110.0                      2110.0          2.110000e+03   \n",
       "mean          350190.0                      2034.0          5.762000e+01   \n",
       "std                0.0                         0.0          7.107112e-15   \n",
       "min           350190.0                      2034.0          5.762000e+01   \n",
       "25%           350190.0                      2034.0          5.762000e+01   \n",
       "50%           350190.0                      2034.0          5.762000e+01   \n",
       "75%           350190.0                      2034.0          5.762000e+01   \n",
       "max           350190.0                      2034.0          5.762000e+01   \n",
       "\n",
       "       predict_team_rating  predict_players_mmr_average  opposing_team_id  \\\n",
       "count              2110.00                  2110.000000      2.110000e+03   \n",
       "mean               1359.85                  7049.334905      2.645015e+06   \n",
       "std                   0.00                   286.241801      2.872549e+06   \n",
       "min                1359.85                  5640.800000      2.000000e+00   \n",
       "25%                1359.85                  6975.800000      1.114740e+05   \n",
       "50%                1359.85                  7150.500000      1.842972e+06   \n",
       "75%                1359.85                  7304.000000      3.903083e+06   \n",
       "max                1359.85                  7422.750000      8.724984e+06   \n",
       "\n",
       "       opposing_team_total_matches  opposing_team_win_pct  \\\n",
       "count                  2110.000000            2110.000000   \n",
       "mean                    968.313270              53.963986   \n",
       "std                     811.692135               8.078025   \n",
       "min                       1.000000               0.000000   \n",
       "25%                     262.750000              51.540000   \n",
       "50%                     627.000000              55.540000   \n",
       "75%                    1933.000000              57.860000   \n",
       "max                    2508.000000              81.250000   \n",
       "\n",
       "       opposing_team_rating  opposing_players_mmr_average      leagueid  \\\n",
       "count           2110.000000                   2110.000000   2110.000000   \n",
       "mean            1210.112201                   6487.437970   6997.437915   \n",
       "std              163.627356                    598.985284   8201.663386   \n",
       "min              784.568000                   3791.333333     21.000000   \n",
       "25%             1086.200000                   6145.800000   1123.000000   \n",
       "50%             1166.030000                   6511.600000   5313.000000   \n",
       "75%             1299.160000                   6945.200000  11280.000000   \n",
       "max             1560.220000                   7715.600000  65013.000000   \n",
       "\n",
       "           cluster     duration      match_id  \n",
       "count  2110.000000  2110.000000  2.110000e+03  \n",
       "mean    147.270616  2245.443128  2.978957e+09  \n",
       "std      27.319514   679.278327  2.172003e+09  \n",
       "min     111.000000   442.000000  1.254870e+08  \n",
       "25%     132.000000  1796.750000  6.279829e+08  \n",
       "50%     151.000000  2168.000000  2.935758e+09  \n",
       "75%     154.000000  2627.500000  4.971621e+09  \n",
       "max     308.000000  5867.000000  6.810863e+09  "
      ]
     },
     "execution_count": 15,
     "metadata": {},
     "output_type": "execute_result"
    }
   ],
   "source": [
    "fnatic_matches_df.describe()"
   ]
  },
  {
   "cell_type": "code",
   "execution_count": 34,
   "id": "f89faa97-d956-4ba7-9d2d-39655e831360",
   "metadata": {},
   "outputs": [
    {
     "data": {
      "image/png": "[encoded data removed]",
      "text/plain": [
       "<Figure size 2000x1500 with 6 Axes>"
      ]
     },
     "metadata": {},
     "output_type": "display_data"
    }
   ],
   "source": [
    "beastcoast_matches_df.loc[:,['predict_players_mmr_average', \n",
    "                   'opposing_team_total_matches', \n",
    "                   'opposing_team_win_pct', \n",
    "                   'opposing_team_rating', \n",
    "                   'opposing_players_mmr_average']].hist(bins = 50, figsize=(20, 15))\n",
    "plt.show()"
   ]
  },
  {
   "cell_type": "code",
   "execution_count": 126,
   "id": "790abf6b-17f5-4ea5-9783-d31c0c65b102",
   "metadata": {},
   "outputs": [],
   "source": [
    "X = royal_never_give_up_matches_df.drop(labels = ['match_outcome', \n",
    "                                      'start_date', \n",
    "                                      'predict_team_name',\n",
    "                                      'predict_team_id',\n",
    "                                      'opposing_team_name',\n",
    "                                      'opposing_team_id',\n",
    "                                      'league_name',\n",
    "                                      'leagueid',\n",
    "                                      'cluster', \n",
    "                                      'radiant_win', \n",
    "                                      'radiant', \n",
    "                                      'match_id', \n",
    "                                      'duration'], axis = 1)\n",
    "\n",
    "y = royal_never_give_up_matches_df.match_outcome"
   ]
  },
  {
   "cell_type": "markdown",
   "id": "0a4f0b5d-0582-4c54-b3aa-3e1b90ee8571",
   "metadata": {},
   "source": [
    "# Consider scaling the data (Normalisation or Standardisation)"
   ]
  },
  {
   "cell_type": "code",
   "execution_count": 127,
   "id": "fd2276b2-e5b3-49c6-b742-f30dbbcf271b",
   "metadata": {},
   "outputs": [
    {
     "data": {
      "text/html": [
       "<div>\n",
       "<style scoped>\n",
       "    .dataframe tbody tr th:only-of-type {\n",
       "        vertical-align: middle;\n",
       "    }\n",
       "\n",
       "    .dataframe tbody tr th {\n",
       "        vertical-align: top;\n",
       "    }\n",
       "\n",
       "    .dataframe thead th {\n",
       "        text-align: right;\n",
       "    }\n",
       "</style>\n",
       "<table border=\"1\" class=\"dataframe\">\n",
       "  <thead>\n",
       "    <tr style=\"text-align: right;\">\n",
       "      <th></th>\n",
       "      <th>predict_team_total_matches</th>\n",
       "      <th>predict_team_win_pct</th>\n",
       "      <th>predict_team_rating</th>\n",
       "      <th>predict_players_mmr_average</th>\n",
       "      <th>opposing_team_total_matches</th>\n",
       "      <th>opposing_team_win_pct</th>\n",
       "      <th>opposing_team_rating</th>\n",
       "      <th>opposing_players_mmr_average</th>\n",
       "    </tr>\n",
       "  </thead>\n",
       "  <tbody>\n",
       "    <tr>\n",
       "      <th>0</th>\n",
       "      <td>929</td>\n",
       "      <td>58.13</td>\n",
       "      <td>1411.47</td>\n",
       "      <td>7316.4</td>\n",
       "      <td>208</td>\n",
       "      <td>62.02</td>\n",
       "      <td>1421.58</td>\n",
       "      <td>6712.2</td>\n",
       "    </tr>\n",
       "    <tr>\n",
       "      <th>1</th>\n",
       "      <td>929</td>\n",
       "      <td>58.13</td>\n",
       "      <td>1411.47</td>\n",
       "      <td>7316.4</td>\n",
       "      <td>1350</td>\n",
       "      <td>61.41</td>\n",
       "      <td>1439.16</td>\n",
       "      <td>6036.0</td>\n",
       "    </tr>\n",
       "    <tr>\n",
       "      <th>2</th>\n",
       "      <td>929</td>\n",
       "      <td>58.13</td>\n",
       "      <td>1411.47</td>\n",
       "      <td>7316.4</td>\n",
       "      <td>1350</td>\n",
       "      <td>61.41</td>\n",
       "      <td>1439.16</td>\n",
       "      <td>6036.0</td>\n",
       "    </tr>\n",
       "    <tr>\n",
       "      <th>3</th>\n",
       "      <td>929</td>\n",
       "      <td>58.13</td>\n",
       "      <td>1411.47</td>\n",
       "      <td>7316.4</td>\n",
       "      <td>2024</td>\n",
       "      <td>62.10</td>\n",
       "      <td>1413.61</td>\n",
       "      <td>7663.0</td>\n",
       "    </tr>\n",
       "    <tr>\n",
       "      <th>4</th>\n",
       "      <td>929</td>\n",
       "      <td>58.13</td>\n",
       "      <td>1411.47</td>\n",
       "      <td>7316.4</td>\n",
       "      <td>2024</td>\n",
       "      <td>62.10</td>\n",
       "      <td>1413.61</td>\n",
       "      <td>7663.0</td>\n",
       "    </tr>\n",
       "  </tbody>\n",
       "</table>\n",
       "</div>"
      ],
      "text/plain": [
       "   predict_team_total_matches  predict_team_win_pct  predict_team_rating  \\\n",
       "0                         929                 58.13              1411.47   \n",
       "1                         929                 58.13              1411.47   \n",
       "2                         929                 58.13              1411.47   \n",
       "3                         929                 58.13              1411.47   \n",
       "4                         929                 58.13              1411.47   \n",
       "\n",
       "   predict_players_mmr_average  opposing_team_total_matches  \\\n",
       "0                       7316.4                          208   \n",
       "1                       7316.4                         1350   \n",
       "2                       7316.4                         1350   \n",
       "3                       7316.4                         2024   \n",
       "4                       7316.4                         2024   \n",
       "\n",
       "   opposing_team_win_pct  opposing_team_rating  opposing_players_mmr_average  \n",
       "0                  62.02               1421.58                        6712.2  \n",
       "1                  61.41               1439.16                        6036.0  \n",
       "2                  61.41               1439.16                        6036.0  \n",
       "3                  62.10               1413.61                        7663.0  \n",
       "4                  62.10               1413.61                        7663.0  "
      ]
     },
     "execution_count": 127,
     "metadata": {},
     "output_type": "execute_result"
    }
   ],
   "source": [
    "X.head()"
   ]
  },
  {
   "cell_type": "code",
   "execution_count": 128,
   "id": "66d1ceb9",
   "metadata": {},
   "outputs": [
    {
     "data": {
      "text/plain": [
       "Index(['predict_team_total_matches', 'predict_team_win_pct',\n",
       "       'predict_team_rating', 'predict_players_mmr_average',\n",
       "       'opposing_team_total_matches', 'opposing_team_win_pct',\n",
       "       'opposing_team_rating', 'opposing_players_mmr_average'],\n",
       "      dtype='object')"
      ]
     },
     "execution_count": 128,
     "metadata": {},
     "output_type": "execute_result"
    }
   ],
   "source": [
    "X.columns"
   ]
  },
  {
   "cell_type": "code",
   "execution_count": 129,
   "id": "ccab8d00-feb5-424b-a459-7a5fdb945770",
   "metadata": {},
   "outputs": [],
   "source": [
    "X_train, X_test, y_train, y_test = train_test_split(X, y, test_size = 0.2, random_state = 42)"
   ]
  },
  {
   "cell_type": "code",
   "execution_count": 130,
   "id": "ffc7386c-51f7-4125-a9cb-fe9e6cfa952d",
   "metadata": {},
   "outputs": [
    {
     "data": {
      "text/html": [
       "<style>#sk-container-id-7 {color: black;background-color: white;}#sk-container-id-7 pre{padding: 0;}#sk-container-id-7 div.sk-toggleable {background-color: white;}#sk-container-id-7 label.sk-toggleable__label {cursor: pointer;display: block;width: 100%;margin-bottom: 0;padding: 0.3em;box-sizing: border-box;text-align: center;}#sk-container-id-7 label.sk-toggleable__label-arrow:before {content: \"▸\";float: left;margin-right: 0.25em;color: #696969;}#sk-container-id-7 label.sk-toggleable__label-arrow:hover:before {color: black;}#sk-container-id-7 div.sk-estimator:hover label.sk-toggleable__label-arrow:before {color: black;}#sk-container-id-7 div.sk-toggleable__content {max-height: 0;max-width: 0;overflow: hidden;text-align: left;background-color: #f0f8ff;}#sk-container-id-7 div.sk-toggleable__content pre {margin: 0.2em;color: black;border-radius: 0.25em;background-color: #f0f8ff;}#sk-container-id-7 input.sk-toggleable__control:checked~div.sk-toggleable__content {max-height: 200px;max-width: 100%;overflow: auto;}#sk-container-id-7 input.sk-toggleable__control:checked~label.sk-toggleable__label-arrow:before {content: \"▾\";}#sk-container-id-7 div.sk-estimator input.sk-toggleable__control:checked~label.sk-toggleable__label {background-color: #d4ebff;}#sk-container-id-7 div.sk-label input.sk-toggleable__control:checked~label.sk-toggleable__label {background-color: #d4ebff;}#sk-container-id-7 input.sk-hidden--visually {border: 0;clip: rect(1px 1px 1px 1px);clip: rect(1px, 1px, 1px, 1px);height: 1px;margin: -1px;overflow: hidden;padding: 0;position: absolute;width: 1px;}#sk-container-id-7 div.sk-estimator {font-family: monospace;background-color: #f0f8ff;border: 1px dotted black;border-radius: 0.25em;box-sizing: border-box;margin-bottom: 0.5em;}#sk-container-id-7 div.sk-estimator:hover {background-color: #d4ebff;}#sk-container-id-7 div.sk-parallel-item::after {content: \"\";width: 100%;border-bottom: 1px solid gray;flex-grow: 1;}#sk-container-id-7 div.sk-label:hover label.sk-toggleable__label {background-color: #d4ebff;}#sk-container-id-7 div.sk-serial::before {content: \"\";position: absolute;border-left: 1px solid gray;box-sizing: border-box;top: 0;bottom: 0;left: 50%;z-index: 0;}#sk-container-id-7 div.sk-serial {display: flex;flex-direction: column;align-items: center;background-color: white;padding-right: 0.2em;padding-left: 0.2em;position: relative;}#sk-container-id-7 div.sk-item {position: relative;z-index: 1;}#sk-container-id-7 div.sk-parallel {display: flex;align-items: stretch;justify-content: center;background-color: white;position: relative;}#sk-container-id-7 div.sk-item::before, #sk-container-id-7 div.sk-parallel-item::before {content: \"\";position: absolute;border-left: 1px solid gray;box-sizing: border-box;top: 0;bottom: 0;left: 50%;z-index: -1;}#sk-container-id-7 div.sk-parallel-item {display: flex;flex-direction: column;z-index: 1;position: relative;background-color: white;}#sk-container-id-7 div.sk-parallel-item:first-child::after {align-self: flex-end;width: 50%;}#sk-container-id-7 div.sk-parallel-item:last-child::after {align-self: flex-start;width: 50%;}#sk-container-id-7 div.sk-parallel-item:only-child::after {width: 0;}#sk-container-id-7 div.sk-dashed-wrapped {border: 1px dashed gray;margin: 0 0.4em 0.5em 0.4em;box-sizing: border-box;padding-bottom: 0.4em;background-color: white;}#sk-container-id-7 div.sk-label label {font-family: monospace;font-weight: bold;display: inline-block;line-height: 1.2em;}#sk-container-id-7 div.sk-label-container {text-align: center;}#sk-container-id-7 div.sk-container {/* jupyter's `normalize.less` sets `[hidden] { display: none; }` but bootstrap.min.css set `[hidden] { display: none !important; }` so we also need the `!important` here to be able to override the default hidden behavior on the sphinx rendered scikit-learn.org. See: https://github.com/scikit-learn/scikit-learn/issues/21755 */display: inline-block !important;position: relative;}#sk-container-id-7 div.sk-text-repr-fallback {display: none;}</style><div id=\"sk-container-id-7\" class=\"sk-top-container\"><div class=\"sk-text-repr-fallback\"><pre>LogisticRegression()</pre><b>In a Jupyter environment, please rerun this cell to show the HTML representation or trust the notebook. <br />On GitHub, the HTML representation is unable to render, please try loading this page with nbviewer.org.</b></div><div class=\"sk-container\" hidden><div class=\"sk-item\"><div class=\"sk-estimator sk-toggleable\"><input class=\"sk-toggleable__control sk-hidden--visually\" id=\"sk-estimator-id-7\" type=\"checkbox\" checked><label for=\"sk-estimator-id-7\" class=\"sk-toggleable__label sk-toggleable__label-arrow\">LogisticRegression</label><div class=\"sk-toggleable__content\"><pre>LogisticRegression()</pre></div></div></div></div></div>"
      ],
      "text/plain": [
       "LogisticRegression()"
      ]
     },
     "execution_count": 130,
     "metadata": {},
     "output_type": "execute_result"
    }
   ],
   "source": [
    "log_reg = LogisticRegression()\n",
    "log_reg.fit(X_train, y_train)"
   ]
  },
  {
   "cell_type": "code",
   "execution_count": 131,
   "id": "0ab69ba9-149b-4fad-89b9-c36785da0891",
   "metadata": {},
   "outputs": [],
   "source": [
    "y_pred = log_reg.predict(X_test)"
   ]
  },
  {
   "cell_type": "code",
   "execution_count": 132,
   "id": "79f383d1-bba1-4646-90d8-02ef2f991d66",
   "metadata": {},
   "outputs": [],
   "source": [
    "conf_mtx = confusion_matrix(y_test, y_pred)"
   ]
  },
  {
   "cell_type": "code",
   "execution_count": 133,
   "id": "1d68fd35",
   "metadata": {},
   "outputs": [
    {
     "data": {
      "text/plain": [
       "array([[34, 48],\n",
       "       [24, 69]], dtype=int64)"
      ]
     },
     "execution_count": 133,
     "metadata": {},
     "output_type": "execute_result"
    }
   ],
   "source": [
    "conf_mtx"
   ]
  },
  {
   "cell_type": "markdown",
   "id": "33c6e7c6-ef62-465f-8648-45702dcd831a",
   "metadata": {},
   "source": [
    "# Explanation\n",
    "\n",
    "[[True Negative, False Positive],\n",
    "\n",
    " [False Negative, True Positive]]\n",
    " \n",
    "In the first row, the model CORRECTLY predicted 40 losses, but INCORRECTLY predicted 54 wins (it should have been losses)\n",
    "\n",
    "In the second row, the model INCORRECTLY predicted 28 losses (it should have been wins), while it CORRECTLY predicted 145 wins\n",
    " \n"
   ]
  },
  {
   "cell_type": "code",
   "execution_count": 134,
   "id": "66a4dac2",
   "metadata": {},
   "outputs": [
    {
     "data": {
      "text/plain": [
       "0.5897435897435898"
      ]
     },
     "execution_count": 134,
     "metadata": {},
     "output_type": "execute_result"
    }
   ],
   "source": [
    "precision_score(y_test, y_pred)"
   ]
  },
  {
   "cell_type": "markdown",
   "id": "91d86112-8e17-4e87-a5ef-38c8e59a5f3a",
   "metadata": {},
   "source": [
    "The Logistic Regression model can CORRECTLY predict WINS 71.77% of the time"
   ]
  },
  {
   "cell_type": "code",
   "execution_count": 135,
   "id": "1053dccb",
   "metadata": {},
   "outputs": [
    {
     "data": {
      "text/plain": [
       "0.7419354838709677"
      ]
     },
     "execution_count": 135,
     "metadata": {},
     "output_type": "execute_result"
    }
   ],
   "source": [
    "recall_score(y_test, y_pred)"
   ]
  },
  {
   "cell_type": "markdown",
   "id": "ece04700",
   "metadata": {},
   "source": [
    "Save the Logistic Regression as a Pickle File"
   ]
  },
  {
   "cell_type": "code",
   "execution_count": 136,
   "id": "7467760a-40f9-4604-8c9f-d1dcf4b7a154",
   "metadata": {},
   "outputs": [],
   "source": [
    "pickle.dump(log_reg, open('royal_never_give_up_log_reg.pkl', 'wb'))"
   ]
  },
  {
   "cell_type": "code",
   "execution_count": 30,
   "id": "69beb317-ffdb-4d28-834d-017319ecb6f3",
   "metadata": {},
   "outputs": [
    {
     "data": {
      "text/html": [
       "<div>\n",
       "<style scoped>\n",
       "    .dataframe tbody tr th:only-of-type {\n",
       "        vertical-align: middle;\n",
       "    }\n",
       "\n",
       "    .dataframe tbody tr th {\n",
       "        vertical-align: top;\n",
       "    }\n",
       "\n",
       "    .dataframe thead th {\n",
       "        text-align: right;\n",
       "    }\n",
       "</style>\n",
       "<table border=\"1\" class=\"dataframe\">\n",
       "  <thead>\n",
       "    <tr style=\"text-align: right;\">\n",
       "      <th></th>\n",
       "      <th>predict_team_total_matches</th>\n",
       "      <th>predict_team_win_pct</th>\n",
       "      <th>predict_team_rating</th>\n",
       "      <th>predict_players_mmr_average</th>\n",
       "      <th>opposing_team_total_matches</th>\n",
       "      <th>opposing_team_win_pct</th>\n",
       "      <th>opposing_team_rating</th>\n",
       "      <th>opposing_players_mmr_average</th>\n",
       "    </tr>\n",
       "  </thead>\n",
       "  <tbody>\n",
       "    <tr>\n",
       "      <th>115</th>\n",
       "      <td>239</td>\n",
       "      <td>55.23</td>\n",
       "      <td>1447.04</td>\n",
       "      <td>6557.6</td>\n",
       "      <td>1157</td>\n",
       "      <td>54.02</td>\n",
       "      <td>1198.46</td>\n",
       "      <td>6161.8</td>\n",
       "    </tr>\n",
       "    <tr>\n",
       "      <th>15</th>\n",
       "      <td>239</td>\n",
       "      <td>55.23</td>\n",
       "      <td>1447.04</td>\n",
       "      <td>6557.6</td>\n",
       "      <td>927</td>\n",
       "      <td>55.02</td>\n",
       "      <td>1504.82</td>\n",
       "      <td>7289.6</td>\n",
       "    </tr>\n",
       "    <tr>\n",
       "      <th>211</th>\n",
       "      <td>239</td>\n",
       "      <td>55.23</td>\n",
       "      <td>1447.04</td>\n",
       "      <td>6557.6</td>\n",
       "      <td>1157</td>\n",
       "      <td>54.02</td>\n",
       "      <td>1198.46</td>\n",
       "      <td>6179.2</td>\n",
       "    </tr>\n",
       "    <tr>\n",
       "      <th>126</th>\n",
       "      <td>239</td>\n",
       "      <td>55.23</td>\n",
       "      <td>1447.04</td>\n",
       "      <td>6557.6</td>\n",
       "      <td>277</td>\n",
       "      <td>59.21</td>\n",
       "      <td>1420.20</td>\n",
       "      <td>6464.2</td>\n",
       "    </tr>\n",
       "    <tr>\n",
       "      <th>6</th>\n",
       "      <td>239</td>\n",
       "      <td>55.23</td>\n",
       "      <td>1447.04</td>\n",
       "      <td>6557.6</td>\n",
       "      <td>277</td>\n",
       "      <td>59.21</td>\n",
       "      <td>1420.20</td>\n",
       "      <td>6559.8</td>\n",
       "    </tr>\n",
       "  </tbody>\n",
       "</table>\n",
       "</div>"
      ],
      "text/plain": [
       "     predict_team_total_matches  predict_team_win_pct  predict_team_rating  \\\n",
       "115                         239                 55.23              1447.04   \n",
       "15                          239                 55.23              1447.04   \n",
       "211                         239                 55.23              1447.04   \n",
       "126                         239                 55.23              1447.04   \n",
       "6                           239                 55.23              1447.04   \n",
       "\n",
       "     predict_players_mmr_average  opposing_team_total_matches  \\\n",
       "115                       6557.6                         1157   \n",
       "15                        6557.6                          927   \n",
       "211                       6557.6                         1157   \n",
       "126                       6557.6                          277   \n",
       "6                         6557.6                          277   \n",
       "\n",
       "     opposing_team_win_pct  opposing_team_rating  opposing_players_mmr_average  \n",
       "115                  54.02               1198.46                        6161.8  \n",
       "15                   55.02               1504.82                        7289.6  \n",
       "211                  54.02               1198.46                        6179.2  \n",
       "126                  59.21               1420.20                        6464.2  \n",
       "6                    59.21               1420.20                        6559.8  "
      ]
     },
     "execution_count": 30,
     "metadata": {},
     "output_type": "execute_result"
    }
   ],
   "source": [
    "X_test[0:5]"
   ]
  },
  {
   "cell_type": "code",
   "execution_count": 31,
   "id": "aa3259d5",
   "metadata": {},
   "outputs": [
    {
     "data": {
      "text/plain": [
       "497    False\n",
       "244    False\n",
       "552    False\n",
       "213     True\n",
       "549    False\n",
       "Name: match_outcome, dtype: bool"
      ]
     },
     "execution_count": 31,
     "metadata": {},
     "output_type": "execute_result"
    }
   ],
   "source": [
    "y_test[0:5]"
   ]
  },
  {
   "cell_type": "code",
   "execution_count": 32,
   "id": "b87cebd0",
   "metadata": {},
   "outputs": [
    {
     "data": {
      "text/plain": [
       "array([ True,  True,  True,  True, False])"
      ]
     },
     "execution_count": 32,
     "metadata": {},
     "output_type": "execute_result"
    }
   ],
   "source": [
    "y_pred[0:5]"
   ]
  },
  {
   "cell_type": "code",
   "execution_count": 33,
   "id": "9303d7be",
   "metadata": {},
   "outputs": [
    {
     "data": {
      "text/plain": [
       "predict_team_total_matches       629.00\n",
       "predict_team_win_pct              60.73\n",
       "predict_team_rating             1375.73\n",
       "predict_players_mmr_average     6797.20\n",
       "opposing_team_total_matches      370.00\n",
       "opposing_team_win_pct             57.03\n",
       "opposing_team_rating            1279.66\n",
       "opposing_players_mmr_average    7056.40\n",
       "Name: 244, dtype: float64"
      ]
     },
     "execution_count": 33,
     "metadata": {},
     "output_type": "execute_result"
    }
   ],
   "source": [
    "X_test.iloc[1, :]"
   ]
  },
  {
   "cell_type": "code",
   "execution_count": null,
   "id": "14c93a70",
   "metadata": {},
   "outputs": [],
   "source": [
    "test_list = []\n",
    "for item in X_test.iloc[1, :]:\n",
    "    test_list.append(item)"
   ]
  },
  {
   "cell_type": "code",
   "execution_count": null,
   "id": "fbe41ce2",
   "metadata": {},
   "outputs": [
    {
     "name": "stderr",
     "output_type": "stream",
     "text": [
      "c:\\Users\\johnp\\deploy-mlmodel\\deploy-mlmodel-env\\lib\\site-packages\\sklearn\\base.py:450: UserWarning: X does not have valid feature names, but LogisticRegression was fitted with feature names\n",
      "  warnings.warn(\n"
     ]
    },
    {
     "data": {
      "text/plain": [
       "array([ True])"
      ]
     },
     "execution_count": 30,
     "metadata": {},
     "output_type": "execute_result"
    }
   ],
   "source": [
    "log_reg.predict([test_list])"
   ]
  },
  {
   "cell_type": "code",
   "execution_count": null,
   "id": "0916d21b",
   "metadata": {},
   "outputs": [],
   "source": [
    "number = 12345"
   ]
  },
  {
   "cell_type": "code",
   "execution_count": null,
   "id": "c882a0a9",
   "metadata": {},
   "outputs": [
    {
     "name": "stdout",
     "output_type": "stream",
     "text": [
      "number is: 12345\n"
     ]
    }
   ],
   "source": [
    "print(f'number is: {number}')"
   ]
  },
  {
   "cell_type": "code",
   "execution_count": null,
   "id": "5d12d4df",
   "metadata": {},
   "outputs": [],
   "source": [
    "predict_team = {'1838315' : 'Team Secret', \n",
    "                    '2586976' : 'OG', \n",
    "                    '2163' : 'Team Liquid', \n",
    "                    '7732977' : 'Boom Esports', \n",
    "                    '15' : 'PSG.LGD', \n",
    "                    '7119388' : 'Team Spirit', \n",
    "                    '8254400' : 'Beastcoast', \n",
    "                    '6209166' : 'Team Aster', \n",
    "                    '7391077' : 'Thunder Awaken', \n",
    "                    '8260983' : 'TSM', \n",
    "                    '8291895' : 'Tundra Esports', \n",
    "                    '7390454' : 'Soniqs', \n",
    "                    '8599101' : 'Gaimin Gladiators', \n",
    "                    '39' : 'Evil Geniuses', \n",
    "                    '350190' : 'Fnatic', \n",
    "                    '8131728' : 'Hokori', \n",
    "                    '8605863' : 'Entity', \n",
    "                    '8721219' : 'BetBoom Team', \n",
    "                    '6209804' : 'Royal Never Give Up', \n",
    "                    '8597976' : 'Talon Esports'} "
   ]
  },
  {
   "cell_type": "code",
   "execution_count": null,
   "id": "1242faba",
   "metadata": {},
   "outputs": [
    {
     "name": "stdout",
     "output_type": "stream",
     "text": [
      "1838315 Team Secret\n",
      "2586976 OG\n",
      "2163 Team Liquid\n",
      "7732977 Boom Esports\n",
      "15 PSG.LGD\n",
      "7119388 Team Spirit\n",
      "8254400 Beastcoast\n",
      "6209166 Team Aster\n",
      "7391077 Thunder Awaken\n",
      "8260983 TSM\n",
      "8291895 Tundra Esports\n",
      "7390454 Soniqs\n",
      "8599101 Gaimin Gladiators\n",
      "39 Evil Geniuses\n",
      "350190 Fnatic\n",
      "8131728 Hokori\n",
      "8605863 Entity\n",
      "8721219 BetBoom Team\n",
      "6209804 Royal Never Give Up\n",
      "8597976 Talon Esports\n"
     ]
    }
   ],
   "source": [
    "for key, value in predict_team.items():\n",
    "    print(key, value)"
   ]
  },
  {
   "cell_type": "code",
   "execution_count": null,
   "id": "21016c2f",
   "metadata": {},
   "outputs": [],
   "source": []
  }
 ],
 "metadata": {
  "kernelspec": {
   "display_name": "Python 3.10.6 ('deploy-mlmodel-env': venv)",
   "language": "python",
   "name": "python3"
  },
  "language_info": {
   "codemirror_mode": {
    "name": "ipython",
    "version": 3
   },
   "file_extension": ".py",
   "mimetype": "text/x-python",
   "name": "python",
   "nbconvert_exporter": "python",
   "pygments_lexer": "ipython3",
   "version": "3.10.6"
  },
  "vscode": {
   "interpreter": {
    "hash": "30d80fdac55364737219c44b1a442205c29b6ee2abcfc60eeff35dd4ecb6f629"
   }
  }
 },
 "nbformat": 4,
 "nbformat_minor": 5
}
