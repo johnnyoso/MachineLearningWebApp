{
 "cells": [
  {
   "cell_type": "markdown",
   "metadata": {},
   "source": [
    "Import Python libraries that we'll use for this project"
   ]
  },
  {
   "cell_type": "code",
   "execution_count": 2,
   "metadata": {},
   "outputs": [],
   "source": [
    "import json\n",
    "import requests\n",
    "import re\n",
    "from IPython import display\n",
    "from datetime import datetime"
   ]
  },
  {
   "cell_type": "markdown",
   "metadata": {},
   "source": [
    "To RUN a CELL, press SHIFT + ENTER on your Keyboard to run the cell and move to the next cell or\n",
    "\n",
    "CTRL + ENTER to only run that cell and not move to the next one"
   ]
  },
  {
   "cell_type": "markdown",
   "metadata": {},
   "source": [
    "Jupyter Notebooks can be run per CELL but sometimes you can't skip running a cell if the next cell needs a value from a previous cell e.g. "
   ]
  },
  {
   "cell_type": "markdown",
   "metadata": {},
   "source": [
    "# This CELL wasn't run\n",
    "x = 1"
   ]
  },
  {
   "cell_type": "code",
   "execution_count": 3,
   "metadata": {},
   "outputs": [
    {
     "ename": "NameError",
     "evalue": "name 'x' is not defined",
     "output_type": "error",
     "traceback": [
      "\u001b[1;31m---------------------------------------------------------------------------\u001b[0m",
      "\u001b[1;31mNameError\u001b[0m                                 Traceback (most recent call last)",
      "Cell \u001b[1;32mIn [3], line 1\u001b[0m\n\u001b[1;32m----> 1\u001b[0m \u001b[38;5;28mprint\u001b[39m(\u001b[43mx\u001b[49m \u001b[38;5;241m+\u001b[39m \u001b[38;5;241m2\u001b[39m)\n",
      "\u001b[1;31mNameError\u001b[0m: name 'x' is not defined"
     ]
    }
   ],
   "source": [
    "print(x + 2)"
   ]
  },
  {
   "cell_type": "markdown",
   "metadata": {},
   "source": [
    "The error was thrown because the previous cell with \"x = 1\" wasn't run yet so the value wasn't in memory yet"
   ]
  },
  {
   "cell_type": "markdown",
   "metadata": {},
   "source": [
    "There are 2 kinds of CELLS: Code and Markdown\n",
    "\n",
    "Code is where you put your Code while Markdown is for comments"
   ]
  },
  {
   "cell_type": "markdown",
   "metadata": {},
   "source": [
    "# Python stuff that you need to know to be able to work with Open Dota API\n",
    "\n",
    "1. For Loops\n",
    "2. List Comprehension\n",
    "3. If-Else Statements\n",
    "4. Python Dictionary\n",
    "5. HTTP/S requests\n",
    "6. JSON data format\n",
    "7. Python functions"
   ]
  },
  {
   "cell_type": "markdown",
   "metadata": {},
   "source": [
    "# Python For Loops"
   ]
  },
  {
   "cell_type": "code",
   "execution_count": 5,
   "metadata": {},
   "outputs": [
    {
     "name": "stdout",
     "output_type": "stream",
     "text": [
      "0\n",
      "1\n",
      "2\n",
      "3\n",
      "4\n"
     ]
    }
   ],
   "source": [
    "# FYI - putting a hashtag / pound sign converts a line into a comment\n",
    "\n",
    "# This for loop iterates from 0 to 4 in ascending order but it excludes 5. \n",
    "for item in range(5):\n",
    "\n",
    "    # This is where you do stuff on the 'item' for each iteration. In this example let's just print out what 'item' contains\n",
    "    print(item)"
   ]
  },
  {
   "cell_type": "code",
   "execution_count": 7,
   "metadata": {},
   "outputs": [
    {
     "name": "stdout",
     "output_type": "stream",
     "text": [
      "5\n",
      "4\n",
      "3\n",
      "2\n",
      "1\n"
     ]
    }
   ],
   "source": [
    "# This one iterates from 5 to 1 in descending order, zero is excluded. The -1 is to decrease 5 by a step each iteration\n",
    "\n",
    "for item in range(5, 0, -1):\n",
    "    print(item)"
   ]
  },
  {
   "cell_type": "code",
   "execution_count": 1,
   "metadata": {},
   "outputs": [
    {
     "name": "stdout",
     "output_type": "stream",
     "text": [
      "teamA\n",
      "teamB\n",
      "teamC\n",
      "teamD\n"
     ]
    }
   ],
   "source": [
    "# You can also iterate through a collection of objects e.g. a LIST or DICTIONARY\n",
    "sample_list = ['teamA', 'teamB', 'teamC', 'teamD']\n",
    "\n",
    "for team in sample_list:\n",
    "    print(team) "
   ]
  },
  {
   "cell_type": "markdown",
   "metadata": {},
   "source": [
    "More resources for FOR LOOPS: https://www.w3schools.com/python/python_for_loops.asp"
   ]
  },
  {
   "cell_type": "markdown",
   "metadata": {},
   "source": [
    "# List Comprehension"
   ]
  },
  {
   "cell_type": "markdown",
   "metadata": {},
   "source": [
    "Resource: https://www.w3schools.com/python/python_lists_comprehension.asp"
   ]
  },
  {
   "cell_type": "markdown",
   "metadata": {},
   "source": [
    "# IF-ELSE Statements"
   ]
  },
  {
   "cell_type": "markdown",
   "metadata": {},
   "source": [
    "Resource: https://www.w3schools.com/python/python_conditions.asp"
   ]
  },
  {
   "cell_type": "markdown",
   "metadata": {},
   "source": [
    "# Python Dictionary"
   ]
  },
  {
   "cell_type": "markdown",
   "metadata": {},
   "source": [
    "Resource: https://www.w3schools.com/python/python_dictionaries.asp"
   ]
  },
  {
   "cell_type": "markdown",
   "metadata": {},
   "source": []
  }
 ],
 "metadata": {
  "kernelspec": {
   "display_name": "Python 3.10.6 ('deploy-mlmodel-env': venv)",
   "language": "python",
   "name": "python3"
  },
  "language_info": {
   "codemirror_mode": {
    "name": "ipython",
    "version": 3
   },
   "file_extension": ".py",
   "mimetype": "text/x-python",
   "name": "python",
   "nbconvert_exporter": "python",
   "pygments_lexer": "ipython3",
   "version": "3.10.6"
  },
  "orig_nbformat": 4,
  "vscode": {
   "interpreter": {
    "hash": "30d80fdac55364737219c44b1a442205c29b6ee2abcfc60eeff35dd4ecb6f629"
   }
  }
 },
 "nbformat": 4,
 "nbformat_minor": 2
}
