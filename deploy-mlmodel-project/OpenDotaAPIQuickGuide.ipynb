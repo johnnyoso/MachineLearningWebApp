{
 "cells": [
  {
   "cell_type": "markdown",
   "metadata": {},
   "source": [
    "Import Python libraries that we'll use for this project"
   ]
  },
  {
   "cell_type": "code",
   "execution_count": 2,
   "metadata": {},
   "outputs": [],
   "source": [
    "import json\n",
    "import requests\n",
    "import re\n",
    "from IPython import display\n",
    "from datetime import datetime"
   ]
  },
  {
   "cell_type": "markdown",
   "metadata": {},
   "source": [
    "To RUN a CELL, press SHIFT + ENTER on your Keyboard to run the cell and move to the next cell or\n",
    "\n",
    "CTRL + ENTER to only run that cell and not move to the next one"
   ]
  },
  {
   "cell_type": "markdown",
   "metadata": {},
   "source": [
    "Jupyter Notebooks can be run per CELL but sometimes you can't skip running a cell if the next cell needs a value from a previous cell e.g. "
   ]
  },
  {
   "cell_type": "markdown",
   "metadata": {},
   "source": [
    "# This CELL wasn't run\n",
    "x = 1"
   ]
  },
  {
   "cell_type": "code",
   "execution_count": 3,
   "metadata": {},
   "outputs": [
    {
     "ename": "NameError",
     "evalue": "name 'x' is not defined",
     "output_type": "error",
     "traceback": [
      "\u001b[1;31m---------------------------------------------------------------------------\u001b[0m",
      "\u001b[1;31mNameError\u001b[0m                                 Traceback (most recent call last)",
      "Cell \u001b[1;32mIn [3], line 1\u001b[0m\n\u001b[1;32m----> 1\u001b[0m \u001b[38;5;28mprint\u001b[39m(\u001b[43mx\u001b[49m \u001b[38;5;241m+\u001b[39m \u001b[38;5;241m2\u001b[39m)\n",
      "\u001b[1;31mNameError\u001b[0m: name 'x' is not defined"
     ]
    }
   ],
   "source": [
    "print(x + 2)"
   ]
  },
  {
   "cell_type": "markdown",
   "metadata": {},
   "source": [
    "The error was thrown because the previous cell with \"x = 1\" wasn't run yet so the value wasn't in memory yet"
   ]
  },
  {
   "cell_type": "markdown",
   "metadata": {},
   "source": [
    "There are 2 kinds of CELLS: Code and Markdown\n",
    "\n",
    "Code is where you put your Code while Markdown is for comments"
   ]
  },
  {
   "cell_type": "markdown",
   "metadata": {},
   "source": [
    "# Python stuff that you need to know to be able to work with Open Dota API\n",
    "\n",
    "1. For Loops\n",
    "2. List Comprehension\n",
    "3. If-Else Statements\n",
    "4. Python Dictionary\n",
    "5. HTTP/S requests\n",
    "6. JSON data format\n",
    "7. Python functions"
   ]
  },
  {
   "cell_type": "markdown",
   "metadata": {},
   "source": [
    "# Python For Loops"
   ]
  },
  {
   "cell_type": "code",
   "execution_count": 5,
   "metadata": {},
   "outputs": [
    {
     "name": "stdout",
     "output_type": "stream",
     "text": [
      "0\n",
      "1\n",
      "2\n",
      "3\n",
      "4\n"
     ]
    }
   ],
   "source": [
    "# FYI - putting a hashtag / pound sign converts a line into a comment\n",
    "\n",
    "# This for loop iterates from 0 to 4 in ascending order but it excludes 5. \n",
    "for item in range(5):\n",
    "\n",
    "    # This is where you do stuff on the 'item' for each iteration. In this example let's just print out what 'item' contains\n",
    "    print(item)"
   ]
  },
  {
   "cell_type": "code",
   "execution_count": 7,
   "metadata": {},
   "outputs": [
    {
     "name": "stdout",
     "output_type": "stream",
     "text": [
      "5\n",
      "4\n",
      "3\n",
      "2\n",
      "1\n"
     ]
    }
   ],
   "source": [
    "# This one iterates from 5 to 1 in descending order, zero is excluded. The -1 is to decrease 5 by a step each iteration\n",
    "\n",
    "for item in range(5, 0, -1):\n",
    "    print(item)"
   ]
  },
  {
   "cell_type": "code",
   "execution_count": 1,
   "metadata": {},
   "outputs": [
    {
     "name": "stdout",
     "output_type": "stream",
     "text": [
      "teamA\n",
      "teamB\n",
      "teamC\n",
      "teamD\n"
     ]
    }
   ],
   "source": [
    "# You can also iterate through a collection of objects e.g. a LIST or DICTIONARY\n",
    "sample_list = ['teamA', 'teamB', 'teamC', 'teamD']\n",
    "\n",
    "for team in sample_list:\n",
    "    print(team) "
   ]
  },
  {
   "cell_type": "markdown",
   "metadata": {},
   "source": [
    "More resources for FOR LOOPS: https://www.w3schools.com/python/python_for_loops.asp"
   ]
  },
  {
   "cell_type": "markdown",
   "metadata": {},
   "source": [
    "# List Comprehension"
   ]
  },
  {
   "cell_type": "markdown",
   "metadata": {},
   "source": [
    "Resource: https://www.w3schools.com/python/python_lists_comprehension.asp"
   ]
  },
  {
   "cell_type": "markdown",
   "metadata": {},
   "source": [
    "# IF-ELSE Statements"
   ]
  },
  {
   "cell_type": "markdown",
   "metadata": {},
   "source": [
    "Resource: https://www.w3schools.com/python/python_conditions.asp"
   ]
  },
  {
   "cell_type": "markdown",
   "metadata": {},
   "source": [
    "# Python Dictionary"
   ]
  },
  {
   "cell_type": "markdown",
   "metadata": {},
   "source": [
    "Resource: https://www.w3schools.com/python/python_dictionaries.asp"
   ]
  },
  {
   "cell_type": "markdown",
   "metadata": {},
   "source": [
    "# HTTPS Requests"
   ]
  },
  {
   "cell_type": "markdown",
   "metadata": {},
   "source": [
    "Resource: https://www.w3schools.com/python/module_requests.asp"
   ]
  },
  {
   "cell_type": "markdown",
   "metadata": {},
   "source": [
    "# JSON Format"
   ]
  },
  {
   "cell_type": "markdown",
   "metadata": {},
   "source": [
    "Resource: https://www.w3schools.com/python/python_json.asp"
   ]
  },
  {
   "cell_type": "markdown",
   "metadata": {},
   "source": [
    "# Python Functions"
   ]
  },
  {
   "cell_type": "markdown",
   "metadata": {},
   "source": [
    "Resource: https://www.w3schools.com/python/python_functions.asp"
   ]
  },
  {
   "cell_type": "markdown",
   "metadata": {},
   "source": [
    "# Putting them all together "
   ]
  },
  {
   "cell_type": "markdown",
   "metadata": {},
   "source": [
    "# Task 1: Get heroes data from OpenDota \n",
    "\n",
    "Resource: https://docs.opendota.com/#tag/heroes%2Fpaths%2F~1heroes%2Fget"
   ]
  },
  {
   "cell_type": "code",
   "execution_count": 3,
   "metadata": {},
   "outputs": [],
   "source": [
    "# First of all, let's download the heroes data by making an API call request from OpenDota\n",
    "\n",
    "response = requests.get('https://api.opendota.com/api/heroes')\n",
    "\n",
    "heroes_data_json = json.loads(response.content.decode('utf-8'))"
   ]
  },
  {
   "cell_type": "markdown",
   "metadata": {},
   "source": [
    "Heroes data JSON is actually a LIST"
   ]
  },
  {
   "cell_type": "code",
   "execution_count": 5,
   "metadata": {},
   "outputs": [
    {
     "data": {
      "text/plain": [
       "list"
      ]
     },
     "execution_count": 5,
     "metadata": {},
     "output_type": "execute_result"
    }
   ],
   "source": [
    "type(heroes_data_json)"
   ]
  },
  {
   "cell_type": "markdown",
   "metadata": {},
   "source": [
    "A list of Dictionaries to be exact, below is the first element of the list "
   ]
  },
  {
   "cell_type": "code",
   "execution_count": 17,
   "metadata": {},
   "outputs": [
    {
     "data": {
      "text/plain": [
       "{'id': 112,\n",
       " 'name': 'npc_dota_hero_winter_wyvern',\n",
       " 'localized_name': 'Winter Wyvern',\n",
       " 'primary_attr': 'int',\n",
       " 'attack_type': 'Ranged',\n",
       " 'roles': ['Support', 'Disabler', 'Nuker'],\n",
       " 'legs': 2}"
      ]
     },
     "execution_count": 17,
     "metadata": {},
     "output_type": "execute_result"
    }
   ],
   "source": [
    "heroes_data_json[110]"
   ]
  },
  {
   "cell_type": "markdown",
   "metadata": {},
   "source": [
    "the length of the list is 123 items which means that there are 123 heroes in Dota "
   ]
  },
  {
   "cell_type": "code",
   "execution_count": 6,
   "metadata": {},
   "outputs": [
    {
     "data": {
      "text/plain": [
       "123"
      ]
     },
     "execution_count": 6,
     "metadata": {},
     "output_type": "execute_result"
    }
   ],
   "source": [
    "len(heroes_data_json)"
   ]
  },
  {
   "cell_type": "markdown",
   "metadata": {},
   "source": [
    "Lets combine all this into a function"
   ]
  },
  {
   "cell_type": "code",
   "execution_count": 7,
   "metadata": {},
   "outputs": [],
   "source": [
    "def get_dota_heroes():\n",
    "    response = requests.get('https://api.opendota.com/api/heroes')\n",
    "    \n",
    "    try:\n",
    "        heroes_data_json = json.loads(response.content.decode('utf-8'))\n",
    "    \n",
    "    except requests.exceptions.Timeout:\n",
    "        print('request is taking too long to complete, possible timeout please retry')\n",
    "    \n",
    "    except requests.exceptions.RequestException as e:\n",
    "        raise SystemExit(e)\n",
    "    \n",
    "    return heroes_data_json"
   ]
  },
  {
   "cell_type": "code",
   "execution_count": 8,
   "metadata": {},
   "outputs": [],
   "source": [
    "# Call the function and put the returned value into heroes_data_json\n",
    "heroes_data_json = get_dota_heroes()"
   ]
  },
  {
   "cell_type": "markdown",
   "metadata": {},
   "source": [
    "We used a try-except block in the function, you can check it out here: https://www.w3schools.com/python/python_try_except.asp"
   ]
  },
  {
   "cell_type": "markdown",
   "metadata": {},
   "source": [
    "# Task 2: Get all the heroes where its attack type is MELEE"
   ]
  },
  {
   "cell_type": "code",
   "execution_count": 11,
   "metadata": {},
   "outputs": [],
   "source": [
    "# For this one, we will definitely use for loops and if-else conditional statements\n",
    "\n",
    "# Let's provision an empty list where we will put our melee heroes in later\n",
    "melee_heroes = []\n",
    "\n",
    "# Firstly iterate through the entire hero dictionaries in the list, take note that a sample data shown previously for a single hero item looks like this\n",
    "\n",
    "sample = {'id': 1,\n",
    " 'name': 'npc_dota_hero_antimage',\n",
    " 'localized_name': 'Anti-Mage',\n",
    " 'primary_attr': 'agi',\n",
    " 'attack_type': 'Melee',\n",
    " 'roles': ['Carry', 'Escape', 'Nuker'],\n",
    " 'legs': 2}\n",
    "\n",
    "# Begin for loop\n",
    "for hero in heroes_data_json:\n",
    "\n",
    "    # so hero would contain a dictionary similar to the sample above, use the 'attack_type' key to get the value and compare it if it's Melee\n",
    "    if hero['attack_type'] == 'Melee':\n",
    "\n",
    "        # Add the hero in the melee_heroes list but only the hero's name\n",
    "        melee_heroes.append(hero['localized_name'])\n"
   ]
  },
  {
   "cell_type": "markdown",
   "metadata": {},
   "source": [
    "if you check the contents of melee heroes, you'll see the following"
   ]
  },
  {
   "cell_type": "code",
   "execution_count": 12,
   "metadata": {},
   "outputs": [
    {
     "data": {
      "text/plain": [
       "['Anti-Mage',\n",
       " 'Axe',\n",
       " 'Bloodseeker',\n",
       " 'Earthshaker',\n",
       " 'Juggernaut',\n",
       " 'Phantom Lancer',\n",
       " 'Pudge',\n",
       " 'Sand King',\n",
       " 'Sven',\n",
       " 'Tiny',\n",
       " 'Kunkka',\n",
       " 'Slardar',\n",
       " 'Tidehunter',\n",
       " 'Riki',\n",
       " 'Beastmaster',\n",
       " 'Faceless Void',\n",
       " 'Wraith King',\n",
       " 'Phantom Assassin',\n",
       " 'Dragon Knight',\n",
       " 'Clockwerk',\n",
       " 'Lifestealer',\n",
       " 'Dark Seer',\n",
       " 'Omniknight',\n",
       " 'Night Stalker',\n",
       " 'Broodmother',\n",
       " 'Bounty Hunter',\n",
       " 'Spectre',\n",
       " 'Doom',\n",
       " 'Ursa',\n",
       " 'Spirit Breaker',\n",
       " 'Alchemist',\n",
       " 'Lycan',\n",
       " 'Brewmaster',\n",
       " 'Chaos Knight',\n",
       " 'Meepo',\n",
       " 'Treant Protector',\n",
       " 'Ogre Magi',\n",
       " 'Undying',\n",
       " 'Nyx Assassin',\n",
       " 'Naga Siren',\n",
       " 'Slark',\n",
       " 'Centaur Warrunner',\n",
       " 'Magnus',\n",
       " 'Timbersaw',\n",
       " 'Bristleback',\n",
       " 'Tusk',\n",
       " 'Abaddon',\n",
       " 'Elder Titan',\n",
       " 'Legion Commander',\n",
       " 'Ember Spirit',\n",
       " 'Earth Spirit',\n",
       " 'Underlord',\n",
       " 'Terrorblade',\n",
       " 'Monkey King',\n",
       " 'Pangolier',\n",
       " 'Void Spirit',\n",
       " 'Mars',\n",
       " 'Dawnbreaker',\n",
       " 'Marci',\n",
       " 'Primal Beast']"
      ]
     },
     "execution_count": 12,
     "metadata": {},
     "output_type": "execute_result"
    }
   ],
   "source": [
    "melee_heroes"
   ]
  },
  {
   "cell_type": "code",
   "execution_count": 13,
   "metadata": {},
   "outputs": [
    {
     "data": {
      "text/plain": [
       "60"
      ]
     },
     "execution_count": 13,
     "metadata": {},
     "output_type": "execute_result"
    }
   ],
   "source": [
    "len(melee_heroes)"
   ]
  },
  {
   "cell_type": "markdown",
   "metadata": {},
   "source": [
    "There are 60 melee heroes"
   ]
  },
  {
   "cell_type": "markdown",
   "metadata": {},
   "source": [
    "# Practice Time"
   ]
  },
  {
   "cell_type": "markdown",
   "metadata": {},
   "source": [
    "# Task 3: Get all the players who used a specific hero\n",
    "\n",
    "Resource: https://docs.opendota.com/#tag/heroes%2Fpaths%2F~1heroes~1%7Bhero_id%7D~1players%2Fget"
   ]
  },
  {
   "cell_type": "markdown",
   "metadata": {},
   "source": [
    "# Task 4: Browse through the data and pick a player and get their account_id and get that player's information via\n",
    "\n",
    "https://docs.opendota.com/#tag/players%2Fpaths%2F~1players~1%7Baccount_id%7D%2Fget"
   ]
  }
 ],
 "metadata": {
  "kernelspec": {
   "display_name": "Python 3.10.6 ('deploy-mlmodel-env': venv)",
   "language": "python",
   "name": "python3"
  },
  "language_info": {
   "codemirror_mode": {
    "name": "ipython",
    "version": 3
   },
   "file_extension": ".py",
   "mimetype": "text/x-python",
   "name": "python",
   "nbconvert_exporter": "python",
   "pygments_lexer": "ipython3",
   "version": "3.10.6"
  },
  "orig_nbformat": 4,
  "vscode": {
   "interpreter": {
    "hash": "30d80fdac55364737219c44b1a442205c29b6ee2abcfc60eeff35dd4ecb6f629"
   }
  }
 },
 "nbformat": 4,
 "nbformat_minor": 2
}
