{
 "cells": [
  {
   "cell_type": "code",
   "execution_count": 1,
   "id": "1c9832a4",
   "metadata": {
    "tags": []
   },
   "outputs": [],
   "source": [
    "import json\n",
    "import requests\n",
    "import re\n",
    "from IPython import display\n",
    "from datetime import datetime\n",
    "import firebase_admin\n",
    "from firebase_admin import credentials\n",
    "from firebase_admin import firestore\n",
    "import pandas as pd\n",
    "import openpyxl\n",
    "import time"
   ]
  },
  {
   "cell_type": "code",
   "execution_count": 2,
   "id": "deb755b0",
   "metadata": {},
   "outputs": [],
   "source": [
    "FIREBASE_PRIVATE_KEY = r'C:\\Users\\johnp\\Documents\\ESportsAnalytics\\esportsanalytics-3b04cf0c1d47.json'\n",
    "BASE_URL = 'https://api.opendota.com/api/'\n",
    "TEAMS = 'teams'\n",
    "HEROES = 'heroes'\n",
    "PROPLAYERS = 'proPlayers'\n",
    "PROMATCHES = 'proMatches'\n",
    "MATCHES = 'matches'\n",
    "PLAYERS = 'players'\n",
    "HEROES_STATS = 'heroStats'\n"
   ]
  },
  {
   "cell_type": "code",
   "execution_count": 3,
   "id": "302bb65d",
   "metadata": {},
   "outputs": [],
   "source": [
    "# Connect to Firebase and return a database instance\n",
    "def connecttofirebase(PATH):\n",
    "    \n",
    "    # Check if the app is already initialised, if not then connect\n",
    "    if not firebase_admin._apps:\n",
    "        cred = credentials.Certificate(FIREBASE_PRIVATE_KEY)\n",
    "        firebase_admin.initialize_app(cred)\n",
    "    \n",
    "    # Get an instance of the project database\n",
    "    db = firestore.client()\n",
    "    \n",
    "    return db"
   ]
  },
  {
   "cell_type": "code",
   "execution_count": 4,
   "id": "4faad929",
   "metadata": {},
   "outputs": [],
   "source": [
    "db = connecttofirebase(FIREBASE_PRIVATE_KEY)"
   ]
  },
  {
   "cell_type": "code",
   "execution_count": 5,
   "id": "9faa2efc",
   "metadata": {},
   "outputs": [
    {
     "data": {
      "text/plain": [
       "'esportsanalytics'"
      ]
     },
     "execution_count": 5,
     "metadata": {},
     "output_type": "execute_result"
    }
   ],
   "source": [
    "db.project"
   ]
  },
  {
   "cell_type": "markdown",
   "id": "38bf4894-2342-4551-9646-6f048e80118f",
   "metadata": {},
   "source": [
    "# Data Extraction"
   ]
  },
  {
   "cell_type": "code",
   "execution_count": 6,
   "id": "9cf8925a-9ac7-4c98-bc13-8a2d52d09e20",
   "metadata": {
    "tags": []
   },
   "outputs": [],
   "source": [
    "def get_all_teams_from_firebase():\n",
    "    \n",
    "     # get the data from Firebase\n",
    "    doc_ref = db.collection(u'dota').document(u'all_teams')\n",
    "    doc = doc_ref.get()\n",
    "    \n",
    "    # get the upload time from Firebase\n",
    "    datetime_upload_str = doc.to_dict()['date_time_upload']\n",
    "    datetime_upload = datetime.strptime(datetime_upload_str, \"%m/%d/%Y, %H:%M:%S\")\n",
    "\n",
    "    # subtracting two datetime objects result in a datetime.timedelta object\n",
    "    data_age_timedelta = datetime.now() - datetime_upload\n",
    "    data_age_in_days = data_age_timedelta.total_seconds() / 86400\n",
    "    \n",
    "    print('Data is:', data_age_in_days, 'old')\n",
    "    \n",
    "    # Get the data from Firebase\n",
    "    team_data_json = doc.to_dict()['all_teams_info']\n",
    "    \n",
    "    return team_data_json"
   ]
  },
  {
   "cell_type": "code",
   "execution_count": 7,
   "id": "1c5d2455-a8a0-4b3d-80ed-d36ca6fe6288",
   "metadata": {
    "tags": []
   },
   "outputs": [],
   "source": [
    "def get_all_teams_from_opendota():\n",
    "    \n",
    "    response = requests.get(BASE_URL + TEAMS)\n",
    "\n",
    "    try:\n",
    "        team_data_json = json.loads(response.content.decode('utf-8'))\n",
    "\n",
    "    except requests.exceptions.Timeout:\n",
    "        print('request is taking too long to complete, possible timeout, getting old data from Firebase')\n",
    "\n",
    "    except requests.exceptions.RequestException as e:\n",
    "        raise SystemExit(e)\n",
    "    \n",
    "    else:\n",
    "        return team_data_json\n",
    "    \n",
    "    return 0"
   ]
  },
  {
   "cell_type": "code",
   "execution_count": 8,
   "id": "7a11098c-2ebc-439e-bcc5-50eb8ddc0282",
   "metadata": {
    "tags": []
   },
   "outputs": [],
   "source": [
    "def update_all_teams_in_firebase():\n",
    "    \n",
    "    response = requests.get(BASE_URL + TEAMS)\n",
    "\n",
    "    try:\n",
    "        team_data_json = json.loads(response.content.decode('utf-8'))\n",
    "\n",
    "    except requests.exceptions.Timeout:\n",
    "        print('request is taking too long to complete, possible timeout, getting old data from Firebase')\n",
    "\n",
    "    except requests.exceptions.RequestException as e:\n",
    "        raise SystemExit(e)\n",
    "\n",
    "    else:\n",
    "        # upload the team_data_json in Firebase if there are no errors\n",
    "        data = {\n",
    "            u'date_time_upload' : datetime.now().strftime(\"%m/%d/%Y, %H:%M:%S\"),\n",
    "            u'all_teams_info' : team_data_json\n",
    "        }\n",
    "\n",
    "        db.collection(u'dota').document(u'all_teams').set(data)\n",
    "        print(\"All Teams data updated in Firebase\")"
   ]
  },
  {
   "cell_type": "code",
   "execution_count": 9,
   "id": "0164c049-2906-408e-aa21-5272ea340621",
   "metadata": {
    "tags": []
   },
   "outputs": [],
   "source": [
    "# Save the JSON as a file in the working directory\n",
    "def save_all_teams_data_to_file(all_teams_data_json):\n",
    "    \n",
    "    with open('all_teams_data.json', 'w', encoding='utf-8') as f:\n",
    "        json.dump(all_teams_data_json, f, ensure_ascii=False, indent=4)"
   ]
  },
  {
   "cell_type": "code",
   "execution_count": 10,
   "id": "a02f1f77-0711-4a3c-8e75-ea2fb3a8555a",
   "metadata": {
    "tags": []
   },
   "outputs": [],
   "source": [
    "def get_all_heroes_from_firebase():\n",
    "    \n",
    "    # get the data from Firebase\n",
    "    doc_ref = db.collection(u'dota').document(u'all_heroes')\n",
    "    doc = doc_ref.get()\n",
    "    \n",
    "    # get the upload time from Firebase\n",
    "    datetime_upload_str = doc.to_dict()['date_time_upload']\n",
    "    datetime_upload = datetime.strptime(datetime_upload_str, \"%m/%d/%Y, %H:%M:%S\")\n",
    "\n",
    "    # subtracting two datetime objects result in a datetime.timedelta object\n",
    "    data_age_timedelta = datetime.now() - datetime_upload\n",
    "    data_age_in_days = data_age_timedelta.total_seconds() / 86400\n",
    "    \n",
    "    print('Data is:', data_age_in_days, 'old')\n",
    "    \n",
    "    # Get the data from Firebase\n",
    "    heroes_data_json = doc.to_dict()['all_heroes_info']\n",
    "    \n",
    "    return heroes_data_json"
   ]
  },
  {
   "cell_type": "code",
   "execution_count": 11,
   "id": "33f690bb-b45c-4cc3-b0d1-b1de44f18759",
   "metadata": {
    "tags": []
   },
   "outputs": [],
   "source": [
    "def get_all_heroes_from_opendota():\n",
    "    response = requests.get(BASE_URL + HEROES)\n",
    "\n",
    "    try:\n",
    "        heroes_data_json = json.loads(response.content.decode('utf-8'))\n",
    "\n",
    "    except requests.exceptions.Timeout:\n",
    "        print('request is taking too long to complete, possible timeout, getting old data from Firebase')\n",
    "\n",
    "    except requests.exceptions.RequestException as e:\n",
    "        raise SystemExit(e)\n",
    "    \n",
    "    else:\n",
    "        return heroes_data_json\n",
    "    \n",
    "    return 0"
   ]
  },
  {
   "cell_type": "code",
   "execution_count": 12,
   "id": "235702b5-779f-4083-85c9-bfbf09cdb101",
   "metadata": {
    "tags": []
   },
   "outputs": [],
   "source": [
    "def update_all_heroes_in_firebase():\n",
    "    \n",
    "    response = requests.get(BASE_URL + HEROES)\n",
    "\n",
    "    try:\n",
    "        heroes_data_json = json.loads(response.content.decode('utf-8'))\n",
    "\n",
    "    except requests.exceptions.Timeout:\n",
    "        print('request is taking too long to complete, possible timeout, getting old data from Firebase')\n",
    "\n",
    "    except requests.exceptions.RequestException as e:\n",
    "        raise SystemExit(e)\n",
    "\n",
    "    else:\n",
    "        # upload the team_data_json in Firebase if there are no errors\n",
    "        data = {\n",
    "            u'date_time_upload' : datetime.now().strftime(\"%m/%d/%Y, %H:%M:%S\"),\n",
    "            u'all_teams_info' : heroes_data_json\n",
    "        }\n",
    "\n",
    "        db.collection(u'dota').document(u'all_heroes').set(data)\n",
    "        print(\"All Heroes data updated in Firebase\")"
   ]
  },
  {
   "cell_type": "code",
   "execution_count": 13,
   "id": "2c23f8a4-3eb9-414f-a67a-cc560c6419fa",
   "metadata": {
    "tags": []
   },
   "outputs": [],
   "source": [
    "# Save the JSON as a file in the working directory\n",
    "def save_all_heroes_data_to_file(all_heroes_data_json):\n",
    "    \n",
    "    with open('all_heroes_data.json', 'w', encoding='utf-8') as f:\n",
    "        json.dump(all_heroes_data_json, f, ensure_ascii=False, indent=4)"
   ]
  },
  {
   "cell_type": "code",
   "execution_count": 14,
   "id": "7c4a1dc4-76de-49b9-a9ed-d1189876dc69",
   "metadata": {
    "tags": []
   },
   "outputs": [],
   "source": [
    "def get_all_pro_players_in_opendota():\n",
    "    \n",
    "    response = requests.get(BASE_URL + PROPLAYERS)\n",
    "\n",
    "    try:\n",
    "        all_pro_players_data_json = json.loads(response.content.decode('utf-8'))\n",
    "\n",
    "    except requests.exceptions.Timeout:\n",
    "        print('request is taking too long to complete, possible timeout, getting old data from Firebase')\n",
    "\n",
    "    except requests.exceptions.RequestException as e:\n",
    "        raise SystemExit(e)\n",
    "        \n",
    "    else:\n",
    "        return all_pro_players_data_json\n",
    "    \n",
    "    return 0"
   ]
  },
  {
   "cell_type": "code",
   "execution_count": 15,
   "id": "50fc753e-920e-41b6-9873-f998c2ee8dcf",
   "metadata": {
    "tags": []
   },
   "outputs": [],
   "source": [
    "def get_all_pro_players_in_firebase():\n",
    "    all_pro_players_data_json = []\n",
    "    \n",
    "    firebase_doc_list = [\n",
    "        u'all_pro_players_1',\n",
    "        u'all_pro_players_2',\n",
    "        u'all_pro_players_3'\n",
    "    ]\n",
    "    \n",
    "    for index, item in enumerate(firebase_doc_list):\n",
    "        \n",
    "        doc_ref = db.collection(u'dota').document(item)\n",
    "        doc = doc_ref.get()\n",
    "        \n",
    "        # Get the data from Firebase\n",
    "        all_pro_players_data_json += doc.to_dict()['all_pro_players_info_'+str(index+1)]\n",
    "    \n",
    "    return all_pro_players_data_json"
   ]
  },
  {
   "cell_type": "code",
   "execution_count": 16,
   "id": "d8354555-fe52-4614-ad47-27a7a7e47f65",
   "metadata": {
    "tags": []
   },
   "outputs": [],
   "source": [
    "def update_all_pro_players_in_firebase():\n",
    "\n",
    "    # Do these if data doesn't exist yet or is not up to date\n",
    "    response = requests.get(BASE_URL + PROPLAYERS)\n",
    "\n",
    "    try:\n",
    "        pro_players_data_json = json.loads(response.content.decode('utf-8'))\n",
    "\n",
    "    except requests.exceptions.Timeout:\n",
    "        print('request is taking too long to complete, possible timeout, getting old data from Firebase')\n",
    "\n",
    "    except requests.exceptions.RequestException as e:\n",
    "        raise SystemExit(e)\n",
    "\n",
    "    else:\n",
    "\n",
    "        pro_players_split = [\n",
    "            {u'all_pro_players_info_1' : pro_players_data_json[0:1000], u'date_time_upload' : datetime.now().strftime(\"%m/%d/%Y, %H:%M:%S\"),},\n",
    "            {u'all_pro_players_info_2' : pro_players_data_json[1000:2000], u'date_time_upload' : datetime.now().strftime(\"%m/%d/%Y, %H:%M:%S\"),},\n",
    "            {u'all_pro_players_info_3' : pro_players_data_json[2000:], u'date_time_upload' : datetime.now().strftime(\"%m/%d/%Y, %H:%M:%S\"),},\n",
    "\n",
    "        ]\n",
    "\n",
    "        for index, data in enumerate(pro_players_split):\n",
    "            pro_players_ref = db.collection(u'dota').document(u'all_pro_players_'+str(index+1)).set(data)\n",
    "\n",
    "        print(\"All Pro Players data updated in Firebase\")\n",
    "    "
   ]
  },
  {
   "cell_type": "code",
   "execution_count": 17,
   "id": "e27e6dbb-0038-4768-9b61-f90577c6c545",
   "metadata": {
    "tags": []
   },
   "outputs": [],
   "source": [
    "# Save the JSON as a file in the working directory\n",
    "def save_all_pro_players_data_to_file(all_pro_players_data_json):\n",
    "    \n",
    "    with open('all_pro_players_data.json', 'w', encoding='utf-8') as f:\n",
    "        json.dump(all_pro_players_data_json, f, ensure_ascii=False, indent=4)"
   ]
  },
  {
   "cell_type": "code",
   "execution_count": 18,
   "id": "87b6a2bf-dff2-408f-838c-2f2e01a5d69b",
   "metadata": {},
   "outputs": [],
   "source": [
    "def get_opendota_api_info():\n",
    "    \n",
    "    response = requests.get(BASE_URL)\n",
    "\n",
    "    try:\n",
    "        opendota_api_data_json = json.loads(response.content.decode('utf-8'))\n",
    "\n",
    "    except requests.exceptions.Timeout:\n",
    "        print('request is taking too long to complete, possible timeout, getting old data from Firebase')\n",
    "\n",
    "    except requests.exceptions.RequestException as e:\n",
    "        raise SystemExit(e)\n",
    "        \n",
    "    else:\n",
    "        return opendota_api_data_json\n",
    "    \n",
    "    return 0"
   ]
  },
  {
   "cell_type": "code",
   "execution_count": 19,
   "id": "5511624e-2b7e-42bd-8674-561450132e7f",
   "metadata": {},
   "outputs": [],
   "source": [
    "def get_match_info(match_id):\n",
    "    response = requests.get(BASE_URL + MATCHES + '/' + str(match_id))\n",
    "\n",
    "    try:\n",
    "        match_info_json = json.loads(response.content.decode('utf-8'))\n",
    "\n",
    "    except requests.exceptions.Timeout:\n",
    "        print('request is taking too long to complete, possible timeout, getting old data from Firebase')\n",
    "\n",
    "    except requests.exceptions.RequestException as e:\n",
    "        raise SystemExit(e)\n",
    "        \n",
    "    else:\n",
    "        return match_info_json\n",
    "    \n",
    "    return 0"
   ]
  },
  {
   "cell_type": "code",
   "execution_count": 20,
   "id": "8dde5ef7-5ade-486f-b464-22b75fb48f4a",
   "metadata": {},
   "outputs": [],
   "source": [
    "def get_all_heroes_stats():\n",
    "    response = requests.get(BASE_URL + HEROES_STATS)\n",
    "\n",
    "    try:\n",
    "        all_heroes_stats_data_json = json.loads(response.content.decode('utf-8'))\n",
    "\n",
    "    except requests.exceptions.Timeout:\n",
    "        print('request is taking too long to complete, possible timeout, getting old data from Firebase')\n",
    "\n",
    "    except requests.exceptions.RequestException as e:\n",
    "        raise SystemExit(e)\n",
    "        \n",
    "    else:\n",
    "        return all_heroes_stats_data_json\n",
    "    \n",
    "    return 0"
   ]
  },
  {
   "cell_type": "markdown",
   "id": "43ddc606-3d2e-4600-8e2b-1ffd326ea497",
   "metadata": {},
   "source": [
    "# Data Search"
   ]
  },
  {
   "cell_type": "code",
   "execution_count": 21,
   "id": "a37aacd3-17dd-4982-962d-ac13489e1af1",
   "metadata": {},
   "outputs": [],
   "source": [
    "def search_regex(search_string, name_from_list):\n",
    "    try:\n",
    "        x = re.search(search_string, name_from_list, re.IGNORECASE).group()\n",
    "    except Exception:\n",
    "        return False\n",
    "    return x"
   ]
  },
  {
   "cell_type": "code",
   "execution_count": 22,
   "id": "b3083155-2141-4bd3-9f8d-66a99632531c",
   "metadata": {},
   "outputs": [],
   "source": [
    "def search_item(item_to_search, item_key, data_source):\n",
    "    item_filter =  filter(lambda y: search_regex(item_to_search, y[item_key]), data_source)\n",
    "    return [item_info for item_info in item_filter]"
   ]
  },
  {
   "cell_type": "code",
   "execution_count": 23,
   "id": "0ba477b7-cf25-4d3c-9961-ee7bfb5050c5",
   "metadata": {},
   "outputs": [],
   "source": [
    "all_teams_json = get_all_teams_from_opendota()"
   ]
  },
  {
   "cell_type": "code",
   "execution_count": 24,
   "id": "4fe417c7-7b43-42d5-a40b-82479151f588",
   "metadata": {},
   "outputs": [
    {
     "data": {
      "text/plain": [
       "[{'team_id': 2519319,\n",
       "  'rating': 1389,\n",
       "  'wins': 45,\n",
       "  'losses': 16,\n",
       "  'last_match_time': 1445985009,\n",
       "  'name': '(monkey) Business',\n",
       "  'tag': '(monkey)',\n",
       "  'logo_url': 'https://steamusercontent-a.akamaihd.net/ugc/383162071968605685/B670804CDB13F184D122ACBB8F75E2DB2C959CAF/'},\n",
       " {'team_id': 7937261,\n",
       "  'rating': 1079.93,\n",
       "  'wins': 23,\n",
       "  'losses': 27,\n",
       "  'last_match_time': 1596792574,\n",
       "  'name': 'Monkey2',\n",
       "  'tag': '',\n",
       "  'logo_url': 'https://steamusercontent-a.akamaihd.net/ugc/1679241899327735038/A629AA9E790DA12A10356D936D1C20D4AE146579/'}]"
      ]
     },
     "execution_count": 24,
     "metadata": {},
     "output_type": "execute_result"
    }
   ],
   "source": [
    "x = search_item('MONKEY', 'name', all_teams_json)\n",
    "x"
   ]
  },
  {
   "cell_type": "code",
   "execution_count": null,
   "id": "9a7fed77-418e-45c0-b7e8-806ba777d724",
   "metadata": {},
   "outputs": [],
   "source": []
  },
  {
   "cell_type": "code",
   "execution_count": 25,
   "id": "6b2b5cb0-1884-4fef-8535-7d3214860bb3",
   "metadata": {},
   "outputs": [],
   "source": [
    "def get_team_matches(team_id):\n",
    "    \n",
    "    response = requests.get(BASE_URL + TEAMS + '/' + str(team_id) + '/' + MATCHES)\n",
    "\n",
    "    try:\n",
    "        team_data_json = json.loads(response.content.decode('utf-8'))\n",
    "\n",
    "    except requests.exceptions.Timeout:\n",
    "        print('request is taking too long to complete, possible timeout, getting old data from Firebase')\n",
    "\n",
    "    except requests.exceptions.RequestException as e:\n",
    "        raise SystemExit(e)\n",
    "    \n",
    "    else:\n",
    "        return team_data_json\n",
    "    \n",
    "    return 0"
   ]
  },
  {
   "cell_type": "code",
   "execution_count": 26,
   "id": "ae1433c4-7bf6-4c40-9ec3-071a0abf8ce6",
   "metadata": {},
   "outputs": [],
   "source": [
    "def get_player_info(account_id):\n",
    "    response = requests.get(BASE_URL + PLAYERS + '/' + str(account_id))\n",
    "\n",
    "    try:\n",
    "        player_data_json = json.loads(response.content.decode('utf-8'))\n",
    "\n",
    "    except requests.exceptions.Timeout:\n",
    "        print('request is taking too long to complete, possible timeout, getting old data from Firebase')\n",
    "\n",
    "    except requests.exceptions.RequestException as e:\n",
    "        raise SystemExit(e)\n",
    "    \n",
    "    else:\n",
    "        return player_data_json\n",
    "    \n",
    "    return 0"
   ]
  },
  {
   "cell_type": "code",
   "execution_count": 27,
   "id": "83244323-4c27-412b-ae70-3944780507a0",
   "metadata": {},
   "outputs": [],
   "source": [
    "team_fnatic_matches = get_team_matches(350190)"
   ]
  },
  {
   "cell_type": "code",
   "execution_count": 28,
   "id": "e4fd55eb-fd2d-474b-81cb-2a2d72988c8b",
   "metadata": {},
   "outputs": [
    {
     "data": {
      "text/plain": [
       "2081"
      ]
     },
     "execution_count": 28,
     "metadata": {},
     "output_type": "execute_result"
    }
   ],
   "source": [
    "len(team_fnatic_matches)"
   ]
  },
  {
   "cell_type": "code",
   "execution_count": 29,
   "id": "f832bcae-5307-4640-89da-35f8e4a593b2",
   "metadata": {},
   "outputs": [],
   "source": [
    "team_og_matches = get_team_matches(2586976)"
   ]
  },
  {
   "cell_type": "code",
   "execution_count": 30,
   "id": "45e7239e-b49c-404f-85c1-1663bfcb0c6d",
   "metadata": {},
   "outputs": [
    {
     "data": {
      "text/plain": [
       "1335"
      ]
     },
     "execution_count": 30,
     "metadata": {},
     "output_type": "execute_result"
    }
   ],
   "source": [
    "len(team_og_matches)"
   ]
  },
  {
   "cell_type": "code",
   "execution_count": 31,
   "id": "5afb0c67-696a-4f0d-a0be-086239da52e2",
   "metadata": {},
   "outputs": [
    {
     "data": {
      "text/plain": [
       "{'match_id': 1912135868,\n",
       " 'radiant_win': True,\n",
       " 'radiant': True,\n",
       " 'duration': 1423,\n",
       " 'start_time': 1446573057,\n",
       " 'leagueid': 3865,\n",
       " 'league_name': 'ASUS ROG DreamLeague Season 4',\n",
       " 'cluster': 133,\n",
       " 'opposing_team_id': 758797,\n",
       " 'opposing_team_name': 'MONKEY FREEDOM FIGHTERS',\n",
       " 'opposing_team_logo': 'https://steamusercontent-a.akamaihd.net/ugc/450653562083541278/409E73DC29CC511034EBABDB9CD181EFBF7A2CEC/'}"
      ]
     },
     "execution_count": 31,
     "metadata": {},
     "output_type": "execute_result"
    }
   ],
   "source": [
    "team_og_matches[1330]"
   ]
  },
  {
   "cell_type": "code",
   "execution_count": 32,
   "id": "ae05d6bd-5f0e-4455-baa4-1ba24114d67a",
   "metadata": {},
   "outputs": [],
   "source": [
    "def combine_team_matches_data(team_matches_json, all_teams_json, predict_team_id):  \n",
    "    matches_total = len(team_matches_json)\n",
    "    count = 1\n",
    "    \n",
    "    for index, value in enumerate(team_matches_json):\n",
    "\n",
    "        # Check if we already maxed out our requests for that minute (only 60 requests per minute on the free tier)\n",
    "        if (count%5 == 0):\n",
    "            for i in range(60, -1, -1):\n",
    "                print('Exceeded max API calls, please wait:', i, 'seconds                                                       ', end = '\\r')\n",
    "                time.sleep(1)\n",
    "\n",
    "        elif (index%5 == 0 and index != 0):\n",
    "\n",
    "            match_info = team_matches_json[index]\n",
    "            \n",
    "            # 1 x API CALL \n",
    "            match_info_detailed = get_match_info(match_info['match_id'])\n",
    "\n",
    "            # 5 x API CALL (5 players)\n",
    "            predict_players = [{'account_id' : player['account_id'], \n",
    "                                'name' : player['name'],\n",
    "                                'player_stats' : get_player_info(player['account_id'])\n",
    "                               } for player in match_info_detailed['players'] if player['isRadiant'] == match_info['radiant']]\n",
    "\n",
    "            # 5 x API CALL (5 players)\n",
    "            opposing_players = [{'account_id' : player['account_id'], \n",
    "                                 'name' : player['name'],\n",
    "                                 'player_stats' : get_player_info(player['account_id'])\n",
    "                                } for player in match_info_detailed['players'] if player['isRadiant'] != match_info['radiant']]\n",
    "\n",
    "            team_matches_json[index]['predict_players'] = predict_players\n",
    "            team_matches_json[index]['opposing_players'] = opposing_players\n",
    "\n",
    "            opposing_team = [{'opposing_team_wins_total' : team['wins'], \n",
    "                              'opposing_team_losses_total' : team['losses'], \n",
    "                              'opposing_team_rating' : team['rating']} for team in all_teams_json if team['team_id'] == match_info['opposing_team_id']]\n",
    "            \n",
    "            predict_team = [{'predict_team_wins_total' : team['wins'], \n",
    "                              'predict_team_losses_total' : team['losses'], \n",
    "                              'predict_team_rating' : team['rating'],\n",
    "                              'predict_team_name' : team['name'], \n",
    "                              'predict_team_id' : team['team_id']} for team in all_teams_json if team['team_id'] == predict_team_id]\n",
    "            \n",
    "            team_matches_json[index]['opposing_team_stat'] = opposing_team\n",
    "            team_matches_json[index]['predict_team_stat'] = predict_team\n",
    "\n",
    "            print('match number:', index, 'downloaded', matches_total - index, 'matches left to go', round((index / matches_total) * 100, 2),'% complete', end = '\\r')\n",
    "            \n",
    "            count += 1\n",
    "        \n",
    "    return team_matches_json"
   ]
  },
  {
   "cell_type": "code",
   "execution_count": null,
   "id": "71f903c6-d1a7-4409-9db3-d291d3eeca6b",
   "metadata": {},
   "outputs": [],
   "source": []
  },
  {
   "cell_type": "markdown",
   "id": "446c8453-5dbd-4499-9510-7fe7a24d9879",
   "metadata": {},
   "source": [
    "# read file\n",
    "with open(r'C:\\Users\\johnp\\team_og_matches.json', 'r', encoding=\"cp866\") as input_file:\n",
    "\n",
    "    data = input_file.read()\n",
    "    structure = json.loads(data)"
   ]
  },
  {
   "cell_type": "markdown",
   "id": "f475cdb8-3120-4af5-b17a-47a795898f76",
   "metadata": {},
   "source": [
    "with open('team_og_matches.json', 'w', encoding='utf-8') as f:\n",
    "    json.dump(team_og_matches, f, ensure_ascii=False, indent=4)"
   ]
  },
  {
   "cell_type": "code",
   "execution_count": 33,
   "id": "a7fa8954-9ff2-48bd-88ac-32524e20b52c",
   "metadata": {},
   "outputs": [],
   "source": [
    "all_heroes = get_all_heroes_from_opendota()"
   ]
  },
  {
   "cell_type": "code",
   "execution_count": 34,
   "id": "b4566fac-5ab8-4de2-8680-bc836a132e65",
   "metadata": {},
   "outputs": [],
   "source": [
    "all_pro_players = get_all_pro_players_in_opendota()"
   ]
  },
  {
   "cell_type": "code",
   "execution_count": null,
   "id": "39ba6a84-5169-405a-af68-a6945283dd84",
   "metadata": {},
   "outputs": [],
   "source": []
  },
  {
   "cell_type": "code",
   "execution_count": null,
   "id": "01cb7de6-3971-4875-9bd8-da7189a0f669",
   "metadata": {},
   "outputs": [],
   "source": []
  },
  {
   "cell_type": "code",
   "execution_count": 35,
   "id": "2a366fed-f601-4875-8e55-80eab8ced598",
   "metadata": {},
   "outputs": [],
   "source": [
    "og_v_fnatic_match_info = get_match_info(1912135868)"
   ]
  },
  {
   "cell_type": "code",
   "execution_count": 36,
   "id": "bc93e45c-3be1-4869-a878-7b27ee977d24",
   "metadata": {},
   "outputs": [
    {
     "data": {
      "text/plain": [
       "46"
      ]
     },
     "execution_count": 36,
     "metadata": {},
     "output_type": "execute_result"
    }
   ],
   "source": [
    "len(og_v_fnatic_match_info)"
   ]
  },
  {
   "cell_type": "code",
   "execution_count": 37,
   "id": "41b7373b-f798-45c4-8f4b-89d2f26b4231",
   "metadata": {},
   "outputs": [
    {
     "name": "stdout",
     "output_type": "stream",
     "text": [
      "match_id\n",
      "barracks_status_dire\n",
      "barracks_status_radiant\n",
      "chat\n",
      "cluster\n",
      "cosmetics\n",
      "dire_score\n",
      "dire_team_id\n",
      "draft_timings\n",
      "duration\n",
      "engine\n",
      "first_blood_time\n",
      "game_mode\n",
      "human_players\n",
      "leagueid\n",
      "lobby_type\n",
      "match_seq_num\n",
      "negative_votes\n",
      "objectives\n",
      "picks_bans\n",
      "positive_votes\n",
      "radiant_gold_adv\n",
      "radiant_score\n",
      "radiant_team_id\n",
      "radiant_win\n",
      "radiant_xp_adv\n",
      "skill\n",
      "start_time\n",
      "teamfights\n",
      "tower_status_dire\n",
      "tower_status_radiant\n",
      "version\n",
      "replay_salt\n",
      "series_id\n",
      "series_type\n",
      "league\n",
      "radiant_team\n",
      "dire_team\n",
      "players\n",
      "patch\n",
      "region\n",
      "all_word_counts\n",
      "my_word_counts\n",
      "throw\n",
      "loss\n",
      "replay_url\n"
     ]
    }
   ],
   "source": [
    "for key in og_v_fnatic_match_info:\n",
    "    print(key)"
   ]
  },
  {
   "cell_type": "code",
   "execution_count": 38,
   "id": "a93b6ea4-d462-4b36-aec3-386a70f400c9",
   "metadata": {},
   "outputs": [
    {
     "data": {
      "text/plain": [
       "{'team_id': 2586976,\n",
       " 'name': 'OG',\n",
       " 'tag': 'OG',\n",
       " 'logo_url': 'https://steamcdn-a.akamaihd.net/apps/dota2/images/team_logos/2586976.png'}"
      ]
     },
     "execution_count": 38,
     "metadata": {},
     "output_type": "execute_result"
    }
   ],
   "source": [
    "og_v_fnatic_match_info['radiant_team']"
   ]
  },
  {
   "cell_type": "code",
   "execution_count": null,
   "id": "7d49e9d1-75a3-4128-9c63-d736af1e47dc",
   "metadata": {},
   "outputs": [],
   "source": [
    "players[0]['name']"
   ]
  },
  {
   "cell_type": "code",
   "execution_count": null,
   "id": "29a86ebd-a1fa-429a-a12e-e5db3b378bd8",
   "metadata": {},
   "outputs": [],
   "source": [
    "[p_keys for p_keys in players[0]]"
   ]
  },
  {
   "cell_type": "code",
   "execution_count": null,
   "id": "d1e901f8-7bb0-4546-b36f-3434868cedcd",
   "metadata": {},
   "outputs": [],
   "source": [
    "team_og_matches_df.head()"
   ]
  },
  {
   "cell_type": "code",
   "execution_count": null,
   "id": "0e8ac567-44c4-4c5f-8f5c-6e8a7fb5c9f3",
   "metadata": {},
   "outputs": [],
   "source": []
  },
  {
   "cell_type": "code",
   "execution_count": null,
   "id": "a1f8fe4d-84cc-4fde-894d-efc523ffd158",
   "metadata": {},
   "outputs": [],
   "source": [
    "for i in range(10):\n",
    "    \n",
    "    print('name:', players[i]['name'], 'lane role:', players[i]['lane_role'], 'accountid:',  players[i]['account_id'], 'lane efficiency:', players[i]['lane_efficiency_pct'], 'kda:', players[i]['kda'],'rank_tier:', players[i]['rank_tier'], 'is radiant:', players[i]['isRadiant'])"
   ]
  },
  {
   "cell_type": "code",
   "execution_count": 40,
   "id": "aafe22f7-6b98-40c1-bac4-77c727a82ef0",
   "metadata": {},
   "outputs": [
    {
     "data": {
      "text/plain": [
       "6386"
      ]
     },
     "execution_count": 40,
     "metadata": {},
     "output_type": "execute_result"
    }
   ],
   "source": [
    "taiga = get_player_info('401792574')\n",
    "taiga['mmr_estimate']['estimate']"
   ]
  },
  {
   "cell_type": "code",
   "execution_count": null,
   "id": "646460ad-6bae-4f0c-9cff-8dfc8ef6c996",
   "metadata": {},
   "outputs": [],
   "source": [
    "[stat for stat in get_player_info(401792574)]"
   ]
  },
  {
   "cell_type": "code",
   "execution_count": null,
   "id": "029b91c4-1186-45f2-a0fc-05b8ba6216a5",
   "metadata": {},
   "outputs": [],
   "source": []
  },
  {
   "cell_type": "code",
   "execution_count": null,
   "id": "63555ad1-c626-4947-958a-58bce7fc618d",
   "metadata": {},
   "outputs": [],
   "source": []
  },
  {
   "cell_type": "code",
   "execution_count": 41,
   "id": "53e8604f-cfce-4c03-850c-b87412159ffc",
   "metadata": {},
   "outputs": [],
   "source": [
    "def get_player_account_id_from_match_id(match_id, isRadiant):\n",
    "    opposing_team = []\n",
    "    prediction_team = []\n",
    "    \n",
    "    match_info_json = get_match_info(match_id)\n",
    "    all_players = match_info_json['players']\n",
    "    \n",
    "    for i in range(10):\n",
    "        player_info = get_player_info(all_players[i]['account_id'])\n",
    "        \n",
    "        temp = {'name' : all_players[i]['name'],\n",
    "                'account_id' : all_players[i]['account_id'],\n",
    "                'mmr_estimate' : player_info['mmr_estimate']['estimate'],\n",
    "                'rank_tier' : player_info['rank_tier'],\n",
    "                'leaderboard_rank' : player_info['leaderboard_rank'],\n",
    "                'solo_competitive_rank' : player_info['solo_competitive_rank']}\n",
    "                                      \n",
    "        # if the 'isRadiant' is equal to isRadiant then the player is on the prediction team\n",
    "        if (all_players[i]['isRadiant'] == isRadiant):\n",
    "                                          \n",
    "            prediction_team.append(temp)\n",
    "        else:                          \n",
    "            opposing_team.append(temp)\n",
    "            \n",
    "    return {'opposing_team' : opposing_team, 'prediction_team' : prediction_team}"
   ]
  },
  {
   "cell_type": "code",
   "execution_count": null,
   "id": "9a6eaae3-b04e-4964-93c2-3302d9183f00",
   "metadata": {},
   "outputs": [],
   "source": []
  },
  {
   "cell_type": "code",
   "execution_count": 42,
   "id": "00b30fc9-e09d-4fd7-b41a-2ea5b00c542c",
   "metadata": {},
   "outputs": [],
   "source": [
    "def get_team_players(team_id):\n",
    "    response = requests.get(BASE_URL + TEAMS + '/' + str(team_id) + '/' + PLAYERS)\n",
    "    print(response)\n",
    "\n",
    "    try:\n",
    "        team_data_json = json.loads(response.content.decode('utf-8'))\n",
    "\n",
    "    except requests.exceptions.Timeout:\n",
    "        print('request is taking too long to complete, possible timeout, getting old data from Firebase')\n",
    "\n",
    "    except requests.exceptions.RequestException as e:\n",
    "        raise SystemExit(e)\n",
    "    \n",
    "    else:\n",
    "        return team_data_json\n",
    "    \n",
    "    return 0"
   ]
  },
  {
   "cell_type": "code",
   "execution_count": 43,
   "id": "62bfd448-a0ac-4474-8516-5da5fa297876",
   "metadata": {},
   "outputs": [
    {
     "name": "stdout",
     "output_type": "stream",
     "text": [
      "<Response [200]>\n"
     ]
    }
   ],
   "source": [
    "team_aster = get_team_players(6209166)"
   ]
  },
  {
   "cell_type": "code",
   "execution_count": 44,
   "id": "1a7796e8-c84c-4186-85b3-37e8dfbc59ca",
   "metadata": {},
   "outputs": [
    {
     "data": {
      "text/plain": [
       "[{'account_id': 129958758,\n",
       "  'name': 'Xxs',\n",
       "  'games_played': 930,\n",
       "  'wins': 515,\n",
       "  'is_current_team_member': True},\n",
       " {'account_id': 207829314,\n",
       "  'name': 'BoBoKa',\n",
       "  'games_played': 897,\n",
       "  'wins': 504,\n",
       "  'is_current_team_member': True},\n",
       " {'account_id': 148215639,\n",
       "  'name': 'Monet',\n",
       "  'games_played': 465,\n",
       "  'wins': 275,\n",
       "  'is_current_team_member': True},\n",
       " {'account_id': 113435203,\n",
       "  'name': 'ChYuaN',\n",
       "  'games_played': 328,\n",
       "  'wins': 166,\n",
       "  'is_current_team_member': False},\n",
       " {'account_id': 373520478,\n",
       "  'name': 'White丶Album_白学家',\n",
       "  'games_played': 279,\n",
       "  'wins': 166,\n",
       "  'is_current_team_member': False},\n",
       " {'account_id': 149486894,\n",
       "  'name': 'Sccc丶',\n",
       "  'games_played': 265,\n",
       "  'wins': 133,\n",
       "  'is_current_team_member': False},\n",
       " {'account_id': 182331313,\n",
       "  'name': 'Frisk',\n",
       "  'games_played': 265,\n",
       "  'wins': 133,\n",
       "  'is_current_team_member': False},\n",
       " {'account_id': 89423756,\n",
       "  'name': 'LaNm',\n",
       "  'games_played': 248,\n",
       "  'wins': 145,\n",
       "  'is_current_team_member': True},\n",
       " {'account_id': 183378746,\n",
       "  'name': '皮球',\n",
       "  'games_played': 172,\n",
       "  'wins': 107,\n",
       "  'is_current_team_member': True},\n",
       " {'account_id': 107803494,\n",
       "  'name': 'Ori',\n",
       "  'games_played': 172,\n",
       "  'wins': 107,\n",
       "  'is_current_team_member': True},\n",
       " {'account_id': 108382060,\n",
       "  'name': 'Sylar',\n",
       "  'games_played': 131,\n",
       "  'wins': 71,\n",
       "  'is_current_team_member': False},\n",
       " {'account_id': 113800818,\n",
       "  'name': 'FF',\n",
       "  'games_played': 131,\n",
       "  'wins': 71,\n",
       "  'is_current_team_member': False},\n",
       " {'account_id': 140153524,\n",
       "  'name': 'Q',\n",
       "  'games_played': 63,\n",
       "  'wins': 33,\n",
       "  'is_current_team_member': False},\n",
       " {'account_id': 248941611,\n",
       "  'name': 'lover',\n",
       "  'games_played': 49,\n",
       "  'wins': 26,\n",
       "  'is_current_team_member': False},\n",
       " {'account_id': 134711350,\n",
       "  'name': 'Dstones-',\n",
       "  'games_played': 48,\n",
       "  'wins': 31,\n",
       "  'is_current_team_member': False},\n",
       " {'account_id': 166458146,\n",
       "  'name': '清净',\n",
       "  'games_played': 38,\n",
       "  'wins': 18,\n",
       "  'is_current_team_member': False},\n",
       " {'account_id': 158847773,\n",
       "  'name': '天命',\n",
       "  'games_played': 31,\n",
       "  'wins': 17,\n",
       "  'is_current_team_member': False},\n",
       " {'account_id': 89871557,\n",
       "  'name': 'Mushi',\n",
       "  'games_played': 25,\n",
       "  'wins': 12,\n",
       "  'is_current_team_member': False},\n",
       " {'account_id': 137272985,\n",
       "  'name': 'Kamma',\n",
       "  'games_played': 25,\n",
       "  'wins': 15,\n",
       "  'is_current_team_member': False},\n",
       " {'account_id': 191458152,\n",
       "  'name': 'pp',\n",
       "  'games_played': 16,\n",
       "  'wins': 6,\n",
       "  'is_current_team_member': False},\n",
       " {'account_id': 136178375,\n",
       "  'name': 'Lww',\n",
       "  'games_played': 16,\n",
       "  'wins': 6,\n",
       "  'is_current_team_member': False},\n",
       " {'account_id': 124168390,\n",
       "  'name': 'Mad-',\n",
       "  'games_played': 16,\n",
       "  'wins': 5,\n",
       "  'is_current_team_member': False},\n",
       " {'account_id': 90031225,\n",
       "  'name': 'Ch',\n",
       "  'games_played': 14,\n",
       "  'wins': 6,\n",
       "  'is_current_team_member': False},\n",
       " {'account_id': 343678582,\n",
       "  'name': None,\n",
       "  'games_played': 9,\n",
       "  'wins': 5,\n",
       "  'is_current_team_member': None},\n",
       " {'account_id': 484759837,\n",
       "  'name': None,\n",
       "  'games_played': 8,\n",
       "  'wins': 2,\n",
       "  'is_current_team_member': None},\n",
       " {'account_id': 221743617,\n",
       "  'name': 'hmx',\n",
       "  'games_played': 7,\n",
       "  'wins': 4,\n",
       "  'is_current_team_member': False},\n",
       " {'account_id': 182439266,\n",
       "  'name': '86',\n",
       "  'games_played': 4,\n",
       "  'wins': 0,\n",
       "  'is_current_team_member': False},\n",
       " {'account_id': 196389151,\n",
       "  'name': 'phoenix',\n",
       "  'games_played': 2,\n",
       "  'wins': 0,\n",
       "  'is_current_team_member': False},\n",
       " {'account_id': 348210175,\n",
       "  'name': None,\n",
       "  'games_played': 1,\n",
       "  'wins': 1,\n",
       "  'is_current_team_member': None}]"
      ]
     },
     "execution_count": 44,
     "metadata": {},
     "output_type": "execute_result"
    }
   ],
   "source": [
    "team_aster"
   ]
  },
  {
   "cell_type": "code",
   "execution_count": 45,
   "id": "d687b509-89dc-4dca-95cf-bbd6d3fc2ec4",
   "metadata": {},
   "outputs": [
    {
     "data": {
      "text/plain": [
       "[113435203,\n",
       " 373520478,\n",
       " 149486894,\n",
       " 182331313,\n",
       " 108382060,\n",
       " 113800818,\n",
       " 140153524,\n",
       " 248941611,\n",
       " 134711350,\n",
       " 166458146,\n",
       " 158847773,\n",
       " 89871557,\n",
       " 137272985,\n",
       " 191458152,\n",
       " 136178375,\n",
       " 124168390,\n",
       " 90031225,\n",
       " 221743617,\n",
       " 182439266,\n",
       " 196389151]"
      ]
     },
     "execution_count": 45,
     "metadata": {},
     "output_type": "execute_result"
    }
   ],
   "source": [
    "[item['account_id'] for item in team_aster if item['is_current_team_member'] == False]"
   ]
  },
  {
   "cell_type": "code",
   "execution_count": 46,
   "id": "33fb485e-b2be-4fb2-89b9-557be3a3df25",
   "metadata": {},
   "outputs": [],
   "source": [
    "def get_player_peers(account_id):\n",
    "    response = requests.get(BASE_URL + PLAYERS + '/' + str(account_id) + '/peers')\n",
    "    print(response)\n",
    "\n",
    "    try:\n",
    "        player_data_json = json.loads(response.content.decode('utf-8'))\n",
    "\n",
    "    except requests.exceptions.Timeout:\n",
    "        print('request is taking too long to complete, possible timeout, getting old data from Firebase')\n",
    "\n",
    "    except requests.exceptions.RequestException as e:\n",
    "        raise SystemExit(e)\n",
    "    \n",
    "    else:\n",
    "        return player_data_json\n",
    "    \n",
    "    return 0"
   ]
  },
  {
   "cell_type": "code",
   "execution_count": 47,
   "id": "47b9150d-d141-41df-97dc-32bce4ee6f68",
   "metadata": {},
   "outputs": [
    {
     "name": "stdout",
     "output_type": "stream",
     "text": [
      "<Response [200]>\n"
     ]
    }
   ],
   "source": [
    "team_og_players = get_team_players(2586976)"
   ]
  },
  {
   "cell_type": "code",
   "execution_count": 48,
   "id": "c34c6901-9976-4d33-8613-2347fd670996",
   "metadata": {},
   "outputs": [
    {
     "data": {
      "text/plain": [
       "{'account_id': 19672354,\n",
       " 'name': 'N0tail',\n",
       " 'games_played': 1150,\n",
       " 'wins': 709,\n",
       " 'is_current_team_member': False}"
      ]
     },
     "execution_count": 48,
     "metadata": {},
     "output_type": "execute_result"
    }
   ],
   "source": [
    "team_og_players[0]"
   ]
  },
  {
   "cell_type": "code",
   "execution_count": 49,
   "id": "eaed3857-1b0d-4716-b147-dc57cd0dc427",
   "metadata": {},
   "outputs": [],
   "source": [
    "player = search_item('taiga', 'name', all_pro_players)"
   ]
  },
  {
   "cell_type": "code",
   "execution_count": 50,
   "id": "fd646a4c-9a14-4bc6-9345-13f9fb95ee0b",
   "metadata": {},
   "outputs": [
    {
     "data": {
      "text/plain": [
       "[{'id': 74,\n",
       "  'name': 'npc_dota_hero_invoker',\n",
       "  'localized_name': 'Invoker',\n",
       "  'primary_attr': 'int',\n",
       "  'attack_type': 'Ranged',\n",
       "  'roles': ['Carry', 'Nuker', 'Disabler', 'Escape', 'Pusher'],\n",
       "  'legs': 2}]"
      ]
     },
     "execution_count": 50,
     "metadata": {},
     "output_type": "execute_result"
    }
   ],
   "source": [
    "[item for item in all_heroes if item['id'] == 74]"
   ]
  },
  {
   "cell_type": "code",
   "execution_count": 51,
   "id": "e71ccebe-3af3-49c5-8286-e8e7167b545c",
   "metadata": {},
   "outputs": [
    {
     "data": {
      "text/plain": [
       "[{'account_id': 401792574,\n",
       "  'steamid': '76561198362058302',\n",
       "  'avatar': 'https://avatars.akamai.steamstatic.com/fede1355e88a5ffae6e9bfc20de4ec33a18ef5d1.jpg',\n",
       "  'avatarmedium': 'https://avatars.akamai.steamstatic.com/fede1355e88a5ffae6e9bfc20de4ec33a18ef5d1_medium.jpg',\n",
       "  'avatarfull': 'https://avatars.akamai.steamstatic.com/fede1355e88a5ffae6e9bfc20de4ec33a18ef5d1_full.jpg',\n",
       "  'profileurl': 'https://steamcommunity.com/id/Taigadota/',\n",
       "  'personaname': 'twitch.tv/taiga_',\n",
       "  'last_login': '2017-10-31T05:53:29.049Z',\n",
       "  'full_history_time': '2022-09-14T18:14:56.663Z',\n",
       "  'cheese': 0,\n",
       "  'fh_unavailable': True,\n",
       "  'loccountrycode': 'NO',\n",
       "  'last_match_time': '2022-08-28T10:37:20.000Z',\n",
       "  'plus': True,\n",
       "  'name': 'Taiga',\n",
       "  'country_code': 'no',\n",
       "  'fantasy_role': 2,\n",
       "  'team_id': 2586976,\n",
       "  'team_name': 'OG',\n",
       "  'team_tag': 'OG',\n",
       "  'is_locked': True,\n",
       "  'is_pro': True,\n",
       "  'locked_until': None}]"
      ]
     },
     "execution_count": 51,
     "metadata": {},
     "output_type": "execute_result"
    }
   ],
   "source": [
    "player"
   ]
  },
  {
   "cell_type": "code",
   "execution_count": 52,
   "id": "0d5b92c1-3512-45fd-aa91-d6be8de1d499",
   "metadata": {},
   "outputs": [],
   "source": [
    "taiga_account_id = 401792574"
   ]
  },
  {
   "cell_type": "code",
   "execution_count": null,
   "id": "27fc1a0d-a35b-4696-b678-101994a17b4c",
   "metadata": {},
   "outputs": [],
   "source": []
  },
  {
   "cell_type": "markdown",
   "id": "4351c130-585b-4a16-b483-93f07ef6b6b6",
   "metadata": {},
   "source": [
    "# What makes a team win matches?\n",
    "\n",
    "-players? Team composition\n",
    "\n",
    "-draft pick? Hero composition\n",
    "\n",
    "-items? Item-Hero compatibility\n",
    "\n",
    "-time? Match duration"
   ]
  },
  {
   "cell_type": "markdown",
   "id": "0b8be67c-bb94-4625-9f50-3adf8f328fa8",
   "metadata": {},
   "source": [
    "# What makes a specific team win?"
   ]
  },
  {
   "cell_type": "markdown",
   "id": "0accd9fa-2d15-4aba-87ed-68aad0b3de1a",
   "metadata": {},
   "source": [
    "Since you can't include team names in the dataset, teams should be represented numerically with information that excludes historical match performance data (because new data pre-hero-draft won't include match data of course)\n",
    "\n",
    "The only way I can think of is to use that specific match's player's historical performance data leading up to that match as a representation of the teams e.g. \n",
    "\n",
    "Team OG Matches from 2015:\n",
    "\n",
    "\t    start_date\t        opposing_team_name\t    opposing_team_id\tleague_name\tleagueid\t        cluster\tradiant_win\tradiant\tduration\tmatch_id\tmatch_outcome\n",
    "        \n",
    "1328\t2015-11-04 04:50:57\tMONKEY FREEDOM FIGHTERS\t758797\t            ASUS ROG DreamLeague Season 4\t3865\t133\tTrue\tTrue\t1423\t1912135868\tTrue\n",
    "\n",
    "1329\t2015-11-03 08:09:58\tMamas-Boys\t            2276247\t            ASUS ROG DreamLeague Season 4\t3865\t138\tTrue\tTrue\t1092\t1910208777\tTrue\n",
    "\n",
    "For match id 1912135868, include all 5 player performance data from the lead up to that 2015 match and don't include future data beyond 2015 even if we have it!"
   ]
  },
  {
   "cell_type": "markdown",
   "id": "2a6a364f-b383-4aa5-8c94-f59b2597db46",
   "metadata": {},
   "source": [
    "# Figure out which data to use to quantify player performance\n",
    "\n",
    "e.g. lane efficiency, MMR, years experience, team cohesion"
   ]
  },
  {
   "cell_type": "markdown",
   "id": "ed172af5-6b49-42ee-aa6c-118b128f3306",
   "metadata": {},
   "source": [
    "# Figure out which data to use to quantify team performance\n",
    "\n",
    "e.g. team fight success rate, team brand goodwill? Team Rank\n",
    "\n",
    "1. Get Team A vs B Match Info --> Get Players --> Get Player Account IDs --> Get Historical Team Win Rate together"
   ]
  },
  {
   "cell_type": "code",
   "execution_count": null,
   "id": "53899dde-3706-4e5b-9e1f-e686bb3f7d79",
   "metadata": {},
   "outputs": [],
   "source": [
    "opendota_api_info = get_opendota_api_info()"
   ]
  },
  {
   "cell_type": "code",
   "execution_count": null,
   "id": "dea2c35b-9a08-40c5-bc40-80159b74490d",
   "metadata": {},
   "outputs": [],
   "source": [
    "taiga = get_player_info('401792574')\n",
    "taiga"
   ]
  },
  {
   "cell_type": "code",
   "execution_count": null,
   "id": "31afd31c-8354-4bd0-bb80-199514b143d6",
   "metadata": {},
   "outputs": [],
   "source": [
    "ammar = get_player_info(183719386)\n",
    "print(ammar['mmr_estimate']['estimate'])\n",
    "print(ammar['leaderboard_rank'])"
   ]
  },
  {
   "cell_type": "code",
   "execution_count": null,
   "id": "52a26a29-6c93-4a7a-ad22-83ff04561032",
   "metadata": {},
   "outputs": [],
   "source": [
    "taiga_peers = get_player_peers(401792574)\n",
    "[item for item in taiga_peers if item['account_id'] == 183719386]"
   ]
  },
  {
   "cell_type": "code",
   "execution_count": null,
   "id": "4d71f598-9f5b-4c43-93e0-05ed02d3c222",
   "metadata": {},
   "outputs": [],
   "source": [
    "team_og_matches_df[team_og_matches_df.opposing_team_id == 350190]"
   ]
  },
  {
   "cell_type": "code",
   "execution_count": null,
   "id": "bb1898f0-ab6d-4816-bb1c-6c9b9cf5f058",
   "metadata": {},
   "outputs": [],
   "source": [
    "team_og_matches_df.shape"
   ]
  },
  {
   "cell_type": "code",
   "execution_count": null,
   "id": "3372b719-0172-414f-b7d2-5400d410ad89",
   "metadata": {},
   "outputs": [],
   "source": [
    "teams = get_player_account_id_from_match_id(6727040019, False)"
   ]
  },
  {
   "cell_type": "code",
   "execution_count": null,
   "id": "cc439319-4f16-4fed-843b-a9201044d7d4",
   "metadata": {},
   "outputs": [],
   "source": [
    "teams['prediction_team']"
   ]
  },
  {
   "cell_type": "code",
   "execution_count": null,
   "id": "7c40856e-04a8-45c7-969c-71a1d119680d",
   "metadata": {},
   "outputs": [],
   "source": []
  }
 ],
 "metadata": {
  "kernelspec": {
   "display_name": "Python 3.10.6 ('deploy-mlmodel-env': venv)",
   "language": "python",
   "name": "python3"
  },
  "language_info": {
   "codemirror_mode": {
    "name": "ipython",
    "version": 3
   },
   "file_extension": ".py",
   "mimetype": "text/x-python",
   "name": "python",
   "nbconvert_exporter": "python",
   "pygments_lexer": "ipython3",
   "version": "3.10.6"
  },
  "vscode": {
   "interpreter": {
    "hash": "30d80fdac55364737219c44b1a442205c29b6ee2abcfc60eeff35dd4ecb6f629"
   }
  }
 },
 "nbformat": 4,
 "nbformat_minor": 5
}
