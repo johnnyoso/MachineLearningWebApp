{
 "cells": [
  {
   "cell_type": "code",
   "execution_count": 1,
   "metadata": {},
   "outputs": [],
   "source": [
    "import json\n",
    "import requests\n",
    "import re\n",
    "from datetime import datetime\n",
    "import time"
   ]
  },
  {
   "cell_type": "code",
   "execution_count": 2,
   "metadata": {},
   "outputs": [],
   "source": [
    "BASE_URL = 'https://api.opendota.com/api/'\n",
    "TEAMS = 'teams'\n",
    "HEROES = 'heroes'\n",
    "PROPLAYERS = 'proPlayers'\n",
    "PROMATCHES = 'proMatches'\n",
    "MATCHES = 'matches'\n",
    "PLAYERS = 'players'\n",
    "HEROES_STATS = 'heroStats'"
   ]
  },
  {
   "cell_type": "code",
   "execution_count": 3,
   "metadata": {},
   "outputs": [],
   "source": [
    "def get_all_teams_from_opendota():\n",
    "    \n",
    "    response = requests.get(BASE_URL + TEAMS)\n",
    "\n",
    "    try:\n",
    "        team_data_json = json.loads(response.content.decode('utf-8'))\n",
    "\n",
    "    except requests.exceptions.Timeout:\n",
    "        print('request is taking too long to complete, possible timeout, getting old data from Firebase')\n",
    "\n",
    "    except requests.exceptions.RequestException as e:\n",
    "        raise SystemExit(e)\n",
    "    \n",
    "    else:\n",
    "        return team_data_json\n",
    "    \n",
    "    return 0"
   ]
  },
  {
   "cell_type": "markdown",
   "metadata": {},
   "source": [
    "Get all the teams from OpenDota"
   ]
  },
  {
   "cell_type": "code",
   "execution_count": 4,
   "metadata": {},
   "outputs": [],
   "source": [
    "all_teams_json = get_all_teams_from_opendota()"
   ]
  },
  {
   "cell_type": "markdown",
   "metadata": {},
   "source": [
    "A sample showing the first value in the list. The items in the list is in a dictionary format and will have keys such as team_id, rating, wins, losses, etc...."
   ]
  },
  {
   "cell_type": "code",
   "execution_count": 5,
   "metadata": {},
   "outputs": [
    {
     "data": {
      "text/plain": [
       "{'team_id': 15,\n",
       " 'rating': 1603.12,\n",
       " 'wins': 1554,\n",
       " 'losses': 937,\n",
       " 'last_match_time': 1660520088,\n",
       " 'name': 'PSG.LGD',\n",
       " 'tag': 'PSG.LGD',\n",
       " 'logo_url': 'https://steamcdn-a.akamaihd.net/apps/dota2/images/team_logos/15.png'}"
      ]
     },
     "execution_count": 5,
     "metadata": {},
     "output_type": "execute_result"
    }
   ],
   "source": [
    "all_teams_json[0]"
   ]
  },
  {
   "cell_type": "markdown",
   "metadata": {},
   "source": [
    "The function search_item can look for a given string within a list of dictionaries"
   ]
  },
  {
   "cell_type": "code",
   "execution_count": 6,
   "metadata": {},
   "outputs": [],
   "source": [
    "def search_regex(search_string, name_from_list):\n",
    "    try:\n",
    "        x = re.search(search_string, name_from_list, re.IGNORECASE).group()\n",
    "    except Exception:\n",
    "        return False\n",
    "    return x\n",
    "\n",
    "def search_item(item_to_search, item_key, data_source):\n",
    "    item_filter =  filter(lambda y: search_regex(item_to_search, y[item_key]), data_source)\n",
    "    return [item_info for item_info in item_filter]"
   ]
  },
  {
   "cell_type": "markdown",
   "metadata": {},
   "source": [
    "A sample below searches for the word \"Fnatic\" from \"name\" key within the all_teams_json collection. It returned 2 results, manually select the right one"
   ]
  },
  {
   "cell_type": "code",
   "execution_count": 7,
   "metadata": {},
   "outputs": [
    {
     "data": {
      "text/plain": [
       "[{'team_id': 8525778,\n",
       "  'rating': 1321.12,\n",
       "  'wins': 191,\n",
       "  'losses': 126,\n",
       "  'last_match_time': 1663505523,\n",
       "  'name': 'Polaris Esports',\n",
       "  'tag': 'Polaris',\n",
       "  'logo_url': 'https://steamusercontent-a.akamaihd.net/ugc/1831290045925630948/400C4E5FD779D964D9BEC5E44D414073ADC03790/'}]"
      ]
     },
     "execution_count": 7,
     "metadata": {},
     "output_type": "execute_result"
    }
   ],
   "source": [
    "search_item('polaris', 'name', all_teams_json)"
   ]
  },
  {
   "cell_type": "code",
   "execution_count": 8,
   "metadata": {},
   "outputs": [],
   "source": [
    "def get_team_stat(team_id):\n",
    "    response = requests.get(BASE_URL + TEAMS + '/' + str(team_id))\n",
    "\n",
    "    try:\n",
    "        team_stat_json = json.loads(response.content.decode('utf-8'))\n",
    "\n",
    "    except requests.exceptions.Timeout:\n",
    "        print('request is taking too long to complete, possible timeout, getting old data from Firebase')\n",
    "\n",
    "    except requests.exceptions.RequestException as e:\n",
    "        raise SystemExit(e)\n",
    "    \n",
    "    else:\n",
    "        return team_stat_json\n",
    "    \n",
    "    return 0"
   ]
  },
  {
   "cell_type": "code",
   "execution_count": 9,
   "metadata": {},
   "outputs": [],
   "source": [
    "def get_match_info(match_id):\n",
    "    response = requests.get(BASE_URL + MATCHES + '/' + str(match_id))\n",
    "\n",
    "    try:\n",
    "        match_info_json = json.loads(response.content.decode('utf-8'))\n",
    "\n",
    "    except requests.exceptions.Timeout:\n",
    "        print('request is taking too long to complete, possible timeout, getting old data from Firebase')\n",
    "\n",
    "    except requests.exceptions.RequestException as e:\n",
    "        raise SystemExit(e)\n",
    "        \n",
    "    else:\n",
    "        return match_info_json\n",
    "    \n",
    "    return 0"
   ]
  },
  {
   "cell_type": "code",
   "execution_count": 10,
   "metadata": {},
   "outputs": [],
   "source": [
    "def get_player_info(account_id):\n",
    "    response = requests.get(BASE_URL + PLAYERS + '/' + str(account_id))\n",
    "\n",
    "    try:\n",
    "        player_data_json = json.loads(response.content.decode('utf-8'))\n",
    "\n",
    "    except requests.exceptions.Timeout:\n",
    "        print('request is taking too long to complete, possible timeout, getting old data from Firebase')\n",
    "\n",
    "    except requests.exceptions.RequestException as e:\n",
    "        raise SystemExit(e)\n",
    "    \n",
    "    else:\n",
    "        return player_data_json\n",
    "    \n",
    "    return 0"
   ]
  },
  {
   "cell_type": "code",
   "execution_count": 11,
   "metadata": {},
   "outputs": [],
   "source": [
    "def get_team_matches(team_id):\n",
    "    \n",
    "    response = requests.get(BASE_URL + TEAMS + '/' + str(team_id) + '/' + MATCHES)\n",
    "\n",
    "    try:\n",
    "        team_data_json = json.loads(response.content.decode('utf-8'))\n",
    "\n",
    "    except requests.exceptions.Timeout:\n",
    "        print('request is taking too long to complete, possible timeout, getting old data from Firebase')\n",
    "\n",
    "    except requests.exceptions.RequestException as e:\n",
    "        raise SystemExit(e)\n",
    "    \n",
    "    else:\n",
    "        return team_data_json\n",
    "    \n",
    "    return 0"
   ]
  },
  {
   "cell_type": "markdown",
   "metadata": {},
   "source": [
    "Get all the team's matches using their team_id"
   ]
  },
  {
   "cell_type": "code",
   "execution_count": 19,
   "metadata": {},
   "outputs": [],
   "source": [
    "team_matches_json = get_team_matches(8525778)"
   ]
  },
  {
   "cell_type": "markdown",
   "metadata": {},
   "source": [
    "This shows the total number of matches for that team"
   ]
  },
  {
   "cell_type": "code",
   "execution_count": 13,
   "metadata": {},
   "outputs": [
    {
     "data": {
      "text/plain": [
       "317"
      ]
     },
     "execution_count": 13,
     "metadata": {},
     "output_type": "execute_result"
    }
   ],
   "source": [
    "len(team_matches_json)"
   ]
  },
  {
   "cell_type": "markdown",
   "metadata": {},
   "source": [
    "Here's a sample of a match data "
   ]
  },
  {
   "cell_type": "code",
   "execution_count": 14,
   "metadata": {},
   "outputs": [
    {
     "data": {
      "text/plain": [
       "{'match_id': 6764526982,\n",
       " 'radiant_win': False,\n",
       " 'radiant': False,\n",
       " 'duration': 2807,\n",
       " 'start_time': 1663505523,\n",
       " 'leagueid': 14469,\n",
       " 'league_name': 'Predator League 2022 Philippine Qualifiers',\n",
       " 'cluster': 151,\n",
       " 'opposing_team_id': 8597594,\n",
       " 'opposing_team_name': 'GrindSky Esports',\n",
       " 'opposing_team_logo': 'https://steamusercontent-a.akamaihd.net/ugc/1820012456995413028/340E1875F6D42B587AE030D8084A07785785A3E1/'}"
      ]
     },
     "execution_count": 14,
     "metadata": {},
     "output_type": "execute_result"
    }
   ],
   "source": [
    "team_matches_json[0]"
   ]
  },
  {
   "cell_type": "markdown",
   "metadata": {},
   "source": [
    "Take note that 'start_time' is in Unix (Epoch) time format. It can be converted to standard format by using the 'datetime' library"
   ]
  },
  {
   "cell_type": "code",
   "execution_count": 27,
   "metadata": {},
   "outputs": [],
   "source": [
    "def oneminutecountdown():\n",
    "    for i in range(61, -1, -1):\n",
    "        print('Exceeded max API calls, please wait:', i, 'seconds                                                ', end = '\\r')\n",
    "        time.sleep(1)\n",
    "\n",
    "def combine_team_matches_data(team_matches_json, predict_team_id):  \n",
    "\n",
    "    count = 1\n",
    "\n",
    "    matches_total = len(team_matches_json)\n",
    "\n",
    "    # 1 x API CALL\n",
    "    predict_team_stat = get_team_stat(predict_team_id)\n",
    "\n",
    "    for i in range(60, -1, -1):\n",
    "        print('Exceeded max API calls, please wait:', i, 'seconds                                                ', end = '\\r')\n",
    "        time.sleep(1)\n",
    "    \n",
    "    for index, value in enumerate(team_matches_json):\n",
    "\n",
    "        match_info = team_matches_json[index]\n",
    "        \n",
    "         \n",
    "        if (count >= 60):\n",
    "            oneminutecountdown()\n",
    "            count = 1\n",
    "        \n",
    "        # 1 x API CALL\n",
    "        match_info_detailed = get_match_info(match_info['match_id'])\n",
    "        count += 1\n",
    "\n",
    "        if (count >= 55):\n",
    "            oneminutecountdown()\n",
    "            count = 1\n",
    "        \n",
    "        # 5 x API CALL (5 players)\n",
    "        predict_players = [{'account_id' : player['account_id'], \n",
    "                            'name' : player['name'],\n",
    "                            'player_stats' : get_player_info(player['account_id'])\n",
    "                            } for player in match_info_detailed['players'] if player['isRadiant'] == match_info['radiant']]\n",
    "        count += 5\n",
    "        \n",
    "        if (count >= 55):\n",
    "            oneminutecountdown()\n",
    "            count = 1\n",
    "            \n",
    "        # 5 x API CALL (5 players)\n",
    "        opposing_players = [{'account_id' : player['account_id'], \n",
    "                                'name' : player['name'],\n",
    "                                'player_stats' : get_player_info(player['account_id'])\n",
    "                            } for player in match_info_detailed['players'] if player['isRadiant'] != match_info['radiant']]\n",
    "        count += 5\n",
    "\n",
    "        team_matches_json[index]['predict_players'] = predict_players\n",
    "        team_matches_json[index]['opposing_players'] = opposing_players\n",
    "\n",
    "        if (count >= 60):\n",
    "            oneminutecountdown()\n",
    "            count = 1\n",
    "        \n",
    "        # 1 x API CALL\n",
    "        opposing_team_stat = get_team_stat(match_info['opposing_team_id'])\n",
    "        count += 1\n",
    "    \n",
    "        opposing_team = [{'opposing_team_wins_total' : opposing_team_stat['wins'], \n",
    "                            'opposing_team_losses_total' : opposing_team_stat['losses'], \n",
    "                            'opposing_team_rating' : opposing_team_stat['rating']}]\n",
    "        \n",
    "        predict_team = [{'predict_team_wins_total' : predict_team_stat['wins'], \n",
    "                            'predict_team_losses_total' : predict_team_stat['losses'], \n",
    "                            'predict_team_rating' : predict_team_stat['rating'],\n",
    "                            'predict_team_name' : predict_team_stat['name'], \n",
    "                            'predict_team_id' : predict_team_stat['team_id']}]\n",
    "        \n",
    "        team_matches_json[index]['opposing_team_stat'] = opposing_team\n",
    "        team_matches_json[index]['predict_team_stat'] = predict_team\n",
    "\n",
    "        print('match number:', index, 'downloaded out of', matches_total, ':', matches_total - index, 'matches left to go', round((index / matches_total) * 100, 2),'% complete', end = '\\r')\n",
    "        "
   ]
  },
  {
   "cell_type": "code",
   "execution_count": 28,
   "metadata": {},
   "outputs": [
    {
     "name": "stdout",
     "output_type": "stream",
     "text": [
      "match number: 316 downloaded out of 317 : 1 matches left to go 99.68 % complete                \r"
     ]
    }
   ],
   "source": [
    "combine_team_matches_data(team_matches_json, 8525778)"
   ]
  },
  {
   "cell_type": "code",
   "execution_count": 29,
   "metadata": {},
   "outputs": [],
   "source": [
    "# Save the JSON as a file in the working directory\n",
    "def save_teams_data_to_file(team_name, team_matches_json):\n",
    "    \n",
    "    with open(team_name + '_data.json', 'w', encoding='utf-8') as f:\n",
    "        json.dump(team_matches_json, f, ensure_ascii=False, indent=4)"
   ]
  },
  {
   "cell_type": "code",
   "execution_count": 30,
   "metadata": {},
   "outputs": [
    {
     "data": {
      "text/plain": [
       "15"
      ]
     },
     "execution_count": 30,
     "metadata": {},
     "output_type": "execute_result"
    }
   ],
   "source": [
    "len(team_matches_json[4])"
   ]
  },
  {
   "cell_type": "code",
   "execution_count": 31,
   "metadata": {},
   "outputs": [],
   "source": [
    "for index, item in enumerate(team_matches_json):\n",
    "    if (len(item) < 15):\n",
    "        print(index)\n",
    "    "
   ]
  },
  {
   "cell_type": "code",
   "execution_count": 32,
   "metadata": {},
   "outputs": [
    {
     "data": {
      "text/plain": [
       "{'match_id': 6764526982,\n",
       " 'radiant_win': False,\n",
       " 'radiant': False,\n",
       " 'duration': 2807,\n",
       " 'start_time': 1663505523,\n",
       " 'leagueid': 14469,\n",
       " 'league_name': 'Predator League 2022 Philippine Qualifiers',\n",
       " 'cluster': 151,\n",
       " 'opposing_team_id': 8597594,\n",
       " 'opposing_team_name': 'GrindSky Esports',\n",
       " 'opposing_team_logo': 'https://steamusercontent-a.akamaihd.net/ugc/1820012456995413028/340E1875F6D42B587AE030D8084A07785785A3E1/',\n",
       " 'predict_players': [{'account_id': 146711951,\n",
       "   'name': 'Force',\n",
       "   'player_stats': {'solo_competitive_rank': 9329,\n",
       "    'leaderboard_rank': 24,\n",
       "    'profile': {'account_id': 146711951,\n",
       "     'personaname': 'Force',\n",
       "     'name': 'Force',\n",
       "     'plus': True,\n",
       "     'cheese': 0,\n",
       "     'steamid': '76561198106977679',\n",
       "     'avatar': 'https://avatars.akamai.steamstatic.com/430ecc52800a77f7ddc52921391b4215aeef9284.jpg',\n",
       "     'avatarmedium': 'https://avatars.akamai.steamstatic.com/430ecc52800a77f7ddc52921391b4215aeef9284_medium.jpg',\n",
       "     'avatarfull': 'https://avatars.akamai.steamstatic.com/430ecc52800a77f7ddc52921391b4215aeef9284_full.jpg',\n",
       "     'profileurl': 'https://steamcommunity.com/id/NikkoIwano/',\n",
       "     'last_login': '2022-07-09T05:45:00.929Z',\n",
       "     'loccountrycode': 'PH',\n",
       "     'status': None,\n",
       "     'is_contributor': False,\n",
       "     'is_subscriber': False},\n",
       "    'mmr_estimate': {'estimate': 7100},\n",
       "    'competitive_rank': 5254,\n",
       "    'rank_tier': 80}},\n",
       "  {'account_id': 127077041,\n",
       "   'name': 'Xavius',\n",
       "   'player_stats': {'solo_competitive_rank': 5306,\n",
       "    'profile': {'account_id': 127077041,\n",
       "     'personaname': 'Just one yesterday',\n",
       "     'name': 'Xavius',\n",
       "     'plus': True,\n",
       "     'cheese': 0,\n",
       "     'steamid': '76561198087342769',\n",
       "     'avatar': 'https://avatars.akamai.steamstatic.com/588c2c2f022f26e36f2203cc881a8dc179d926ee.jpg',\n",
       "     'avatarmedium': 'https://avatars.akamai.steamstatic.com/588c2c2f022f26e36f2203cc881a8dc179d926ee_medium.jpg',\n",
       "     'avatarfull': 'https://avatars.akamai.steamstatic.com/588c2c2f022f26e36f2203cc881a8dc179d926ee_full.jpg',\n",
       "     'profileurl': 'https://steamcommunity.com/id/boomydota/',\n",
       "     'last_login': None,\n",
       "     'loccountrycode': 'PH',\n",
       "     'status': None,\n",
       "     'is_contributor': False,\n",
       "     'is_subscriber': False},\n",
       "    'competitive_rank': 4241,\n",
       "    'rank_tier': 80,\n",
       "    'leaderboard_rank': 126,\n",
       "    'mmr_estimate': {'estimate': 7071}}},\n",
       "  {'account_id': 104512126,\n",
       "   'name': 'Lelouch-',\n",
       "   'player_stats': {'rank_tier': 80,\n",
       "    'solo_competitive_rank': 7547,\n",
       "    'profile': {'account_id': 104512126,\n",
       "     'personaname': 'Lucky',\n",
       "     'name': 'Lelouch-',\n",
       "     'plus': True,\n",
       "     'cheese': 0,\n",
       "     'steamid': '76561198064777854',\n",
       "     'avatar': 'https://avatars.akamai.steamstatic.com/bff8c1db638caae6208d92904d5a0441d5f0532e.jpg',\n",
       "     'avatarmedium': 'https://avatars.akamai.steamstatic.com/bff8c1db638caae6208d92904d5a0441d5f0532e_medium.jpg',\n",
       "     'avatarfull': 'https://avatars.akamai.steamstatic.com/bff8c1db638caae6208d92904d5a0441d5f0532e_full.jpg',\n",
       "     'profileurl': 'https://steamcommunity.com/profiles/76561198064777854/',\n",
       "     'last_login': None,\n",
       "     'loccountrycode': 'GB',\n",
       "     'status': None,\n",
       "     'is_contributor': False,\n",
       "     'is_subscriber': False},\n",
       "    'competitive_rank': 5217,\n",
       "    'leaderboard_rank': 11,\n",
       "    'mmr_estimate': {'estimate': 7094}}},\n",
       "  {'account_id': 173476224,\n",
       "   'name': 'eyyou',\n",
       "   'player_stats': {'solo_competitive_rank': 7019,\n",
       "    'competitive_rank': None,\n",
       "    'profile': {'account_id': 173476224,\n",
       "     'personaname': 'LCQ enjoyer',\n",
       "     'name': 'eyyou',\n",
       "     'plus': True,\n",
       "     'cheese': 0,\n",
       "     'steamid': '76561198133741952',\n",
       "     'avatar': 'https://avatars.akamai.steamstatic.com/9a995235ce31654a10e1494e50ce858a31072d51.jpg',\n",
       "     'avatarmedium': 'https://avatars.akamai.steamstatic.com/9a995235ce31654a10e1494e50ce858a31072d51_medium.jpg',\n",
       "     'avatarfull': 'https://avatars.akamai.steamstatic.com/9a995235ce31654a10e1494e50ce858a31072d51_full.jpg',\n",
       "     'profileurl': 'https://steamcommunity.com/id/asdeeeeeasd/',\n",
       "     'last_login': None,\n",
       "     'loccountrycode': None,\n",
       "     'status': None,\n",
       "     'is_contributor': False,\n",
       "     'is_subscriber': False},\n",
       "    'leaderboard_rank': 348,\n",
       "    'mmr_estimate': {'estimate': 6469},\n",
       "    'rank_tier': 80}},\n",
       "  {'account_id': 355168766,\n",
       "   'name': 'Natsumi-',\n",
       "   'player_stats': {'solo_competitive_rank': 6071,\n",
       "    'competitive_rank': None,\n",
       "    'mmr_estimate': {'estimate': 6770},\n",
       "    'leaderboard_rank': 30,\n",
       "    'profile': {'account_id': 355168766,\n",
       "     'personaname': 'lcq enjoyer',\n",
       "     'name': 'Natsumi-',\n",
       "     'plus': True,\n",
       "     'cheese': 0,\n",
       "     'steamid': '76561198315434494',\n",
       "     'avatar': 'https://avatars.akamai.steamstatic.com/5a5bbfc04b31f9c38f977aa974cb2759d4f88657.jpg',\n",
       "     'avatarmedium': 'https://avatars.akamai.steamstatic.com/5a5bbfc04b31f9c38f977aa974cb2759d4f88657_medium.jpg',\n",
       "     'avatarfull': 'https://avatars.akamai.steamstatic.com/5a5bbfc04b31f9c38f977aa974cb2759d4f88657_full.jpg',\n",
       "     'profileurl': 'https://steamcommunity.com/id/natsumidota/',\n",
       "     'last_login': '2019-02-06T16:29:06.033Z',\n",
       "     'loccountrycode': 'US',\n",
       "     'status': None,\n",
       "     'is_contributor': False,\n",
       "     'is_subscriber': False},\n",
       "    'rank_tier': 80}}],\n",
       " 'opposing_players': [{'account_id': 861414087,\n",
       "   'name': None,\n",
       "   'player_stats': {'competitive_rank': None,\n",
       "    'leaderboard_rank': 37,\n",
       "    'profile': {'account_id': 861414087,\n",
       "     'personaname': 'lewis',\n",
       "     'name': None,\n",
       "     'plus': False,\n",
       "     'cheese': 0,\n",
       "     'steamid': '76561198821679815',\n",
       "     'avatar': 'https://avatars.akamai.steamstatic.com/cb18ce4e661dbab8351dc44f12c584046e037950.jpg',\n",
       "     'avatarmedium': 'https://avatars.akamai.steamstatic.com/cb18ce4e661dbab8351dc44f12c584046e037950_medium.jpg',\n",
       "     'avatarfull': 'https://avatars.akamai.steamstatic.com/cb18ce4e661dbab8351dc44f12c584046e037950_full.jpg',\n",
       "     'profileurl': 'https://steamcommunity.com/profiles/76561198821679815/',\n",
       "     'last_login': '2022-02-17T04:51:14.545Z',\n",
       "     'loccountrycode': 'PH',\n",
       "     'status': None,\n",
       "     'is_contributor': False,\n",
       "     'is_subscriber': False},\n",
       "    'mmr_estimate': {'estimate': 5959},\n",
       "    'rank_tier': 80,\n",
       "    'solo_competitive_rank': None}},\n",
       "  {'account_id': 103045129,\n",
       "   'name': 'Grimz',\n",
       "   'player_stats': {'competitive_rank': 5710,\n",
       "    'mmr_estimate': {'estimate': 6382},\n",
       "    'rank_tier': 80,\n",
       "    'solo_competitive_rank': 7021,\n",
       "    'profile': {'account_id': 103045129,\n",
       "     'personaname': 'tu',\n",
       "     'name': 'Grimz',\n",
       "     'plus': False,\n",
       "     'cheese': 0,\n",
       "     'steamid': '76561198063310857',\n",
       "     'avatar': 'https://avatars.akamai.steamstatic.com/18a5e6250fb539d471a4db69d848da5ba40da7ea.jpg',\n",
       "     'avatarmedium': 'https://avatars.akamai.steamstatic.com/18a5e6250fb539d471a4db69d848da5ba40da7ea_medium.jpg',\n",
       "     'avatarfull': 'https://avatars.akamai.steamstatic.com/18a5e6250fb539d471a4db69d848da5ba40da7ea_full.jpg',\n",
       "     'profileurl': 'https://steamcommunity.com/id/qweee1234/',\n",
       "     'last_login': '2022-08-13T14:23:19.237Z',\n",
       "     'loccountrycode': None,\n",
       "     'status': None,\n",
       "     'is_contributor': False,\n",
       "     'is_subscriber': False},\n",
       "    'leaderboard_rank': 167}},\n",
       "  {'account_id': 330534326,\n",
       "   'name': None,\n",
       "   'player_stats': {'competitive_rank': None,\n",
       "    'profile': {'account_id': 330534326,\n",
       "     'personaname': 'Akashi',\n",
       "     'name': None,\n",
       "     'plus': True,\n",
       "     'cheese': 0,\n",
       "     'steamid': '76561198290800054',\n",
       "     'avatar': 'https://avatars.akamai.steamstatic.com/7a5c47fe21b143c77fb41e2bd82ff4d5fdd03cc1.jpg',\n",
       "     'avatarmedium': 'https://avatars.akamai.steamstatic.com/7a5c47fe21b143c77fb41e2bd82ff4d5fdd03cc1_medium.jpg',\n",
       "     'avatarfull': 'https://avatars.akamai.steamstatic.com/7a5c47fe21b143c77fb41e2bd82ff4d5fdd03cc1_full.jpg',\n",
       "     'profileurl': 'https://steamcommunity.com/profiles/76561198290800054/',\n",
       "     'last_login': None,\n",
       "     'loccountrycode': 'PH',\n",
       "     'status': None,\n",
       "     'is_contributor': False,\n",
       "     'is_subscriber': False},\n",
       "    'rank_tier': 80,\n",
       "    'leaderboard_rank': 69,\n",
       "    'solo_competitive_rank': None,\n",
       "    'mmr_estimate': {'estimate': 6373}}},\n",
       "  {'account_id': 100598959,\n",
       "   'name': 'Apollo',\n",
       "   'player_stats': {'solo_competitive_rank': 6656,\n",
       "    'profile': {'account_id': 100598959,\n",
       "     'personaname': 'pos4',\n",
       "     'name': 'Apollo',\n",
       "     'plus': True,\n",
       "     'cheese': 0,\n",
       "     'steamid': '76561198060864687',\n",
       "     'avatar': 'https://avatars.akamai.steamstatic.com/4e936e161ce4e2b90fcc887c58af2b5be92e06c8.jpg',\n",
       "     'avatarmedium': 'https://avatars.akamai.steamstatic.com/4e936e161ce4e2b90fcc887c58af2b5be92e06c8_medium.jpg',\n",
       "     'avatarfull': 'https://avatars.akamai.steamstatic.com/4e936e161ce4e2b90fcc887c58af2b5be92e06c8_full.jpg',\n",
       "     'profileurl': 'https://steamcommunity.com/id/EriceGuerra/',\n",
       "     'last_login': '2022-04-06T12:20:12.031Z',\n",
       "     'loccountrycode': 'PH',\n",
       "     'status': None,\n",
       "     'is_contributor': False,\n",
       "     'is_subscriber': False},\n",
       "    'leaderboard_rank': 87,\n",
       "    'rank_tier': 80,\n",
       "    'competitive_rank': 5047,\n",
       "    'mmr_estimate': {'estimate': 6302}}},\n",
       "  {'account_id': 341678201,\n",
       "   'name': None,\n",
       "   'player_stats': {'competitive_rank': None,\n",
       "    'leaderboard_rank': None,\n",
       "    'mmr_estimate': {'estimate': 6379},\n",
       "    'rank_tier': None,\n",
       "    'solo_competitive_rank': None,\n",
       "    'profile': {'account_id': 341678201,\n",
       "     'personaname': 'jwl',\n",
       "     'name': None,\n",
       "     'plus': None,\n",
       "     'cheese': 0,\n",
       "     'steamid': '76561198301943929',\n",
       "     'avatar': 'https://avatars.akamai.steamstatic.com/0d8c5d0acd1d51624324cd84ea8c4aa8a8260641.jpg',\n",
       "     'avatarmedium': 'https://avatars.akamai.steamstatic.com/0d8c5d0acd1d51624324cd84ea8c4aa8a8260641_medium.jpg',\n",
       "     'avatarfull': 'https://avatars.akamai.steamstatic.com/0d8c5d0acd1d51624324cd84ea8c4aa8a8260641_full.jpg',\n",
       "     'profileurl': 'https://steamcommunity.com/profiles/76561198301943929/',\n",
       "     'last_login': None,\n",
       "     'loccountrycode': 'PH',\n",
       "     'status': None,\n",
       "     'is_contributor': False,\n",
       "     'is_subscriber': False}}}],\n",
       " 'opposing_team_stat': [{'opposing_team_wins_total': 62,\n",
       "   'opposing_team_losses_total': 41,\n",
       "   'opposing_team_rating': 1215.16}],\n",
       " 'predict_team_stat': [{'predict_team_wins_total': 191,\n",
       "   'predict_team_losses_total': 126,\n",
       "   'predict_team_rating': 1321.12,\n",
       "   'predict_team_name': 'Polaris Esports',\n",
       "   'predict_team_id': 8525778}]}"
      ]
     },
     "execution_count": 32,
     "metadata": {},
     "output_type": "execute_result"
    }
   ],
   "source": [
    "team_matches_json[0]"
   ]
  },
  {
   "cell_type": "code",
   "execution_count": null,
   "metadata": {},
   "outputs": [],
   "source": []
  }
 ],
 "metadata": {
  "kernelspec": {
   "display_name": "Python 3.10.6 ('deploy-mlmodel-env': venv)",
   "language": "python",
   "name": "python3"
  },
  "language_info": {
   "codemirror_mode": {
    "name": "ipython",
    "version": 3
   },
   "file_extension": ".py",
   "mimetype": "text/x-python",
   "name": "python",
   "nbconvert_exporter": "python",
   "pygments_lexer": "ipython3",
   "version": "3.10.6"
  },
  "orig_nbformat": 4,
  "vscode": {
   "interpreter": {
    "hash": "30d80fdac55364737219c44b1a442205c29b6ee2abcfc60eeff35dd4ecb6f629"
   }
  }
 },
 "nbformat": 4,
 "nbformat_minor": 2
}
