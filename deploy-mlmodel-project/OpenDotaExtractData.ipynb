{
 "cells": [
  {
   "cell_type": "code",
   "execution_count": 1,
   "metadata": {},
   "outputs": [],
   "source": [
    "import json\n",
    "import requests\n",
    "import re\n",
    "from datetime import datetime\n",
    "import time"
   ]
  },
  {
   "cell_type": "code",
   "execution_count": 2,
   "metadata": {},
   "outputs": [],
   "source": [
    "BASE_URL = 'https://api.opendota.com/api/'\n",
    "TEAMS = 'teams'\n",
    "HEROES = 'heroes'\n",
    "PROPLAYERS = 'proPlayers'\n",
    "PROMATCHES = 'proMatches'\n",
    "MATCHES = 'matches'\n",
    "PLAYERS = 'players'\n",
    "HEROES_STATS = 'heroStats'\n",
    "API_KEY = "
   ]
  },
  {
   "cell_type": "code",
   "execution_count": 3,
   "metadata": {},
   "outputs": [],
   "source": [
    "def get_all_teams_from_opendota():\n",
    "    \n",
    "    response = requests.get(BASE_URL + TEAMS + '?api_key=' + API_KEY)\n",
    "\n",
    "    try:\n",
    "        team_data_json = json.loads(response.content.decode('utf-8'))\n",
    "\n",
    "    except requests.exceptions.Timeout:\n",
    "        print('request is taking too long to complete, possible timeout, getting old data from Firebase')\n",
    "\n",
    "    except requests.exceptions.RequestException as e:\n",
    "        raise SystemExit(e)\n",
    "    \n",
    "    else:\n",
    "        return team_data_json\n",
    "    \n",
    "    return 0"
   ]
  },
  {
   "cell_type": "markdown",
   "metadata": {},
   "source": [
    "Get all the teams from OpenDota"
   ]
  },
  {
   "cell_type": "code",
   "execution_count": 4,
   "metadata": {},
   "outputs": [],
   "source": [
    "all_teams_json = get_all_teams_from_opendota()"
   ]
  },
  {
   "cell_type": "markdown",
   "metadata": {},
   "source": [
    "A sample showing the first value in the list. The items in the list is in a dictionary format and will have keys such as team_id, rating, wins, losses, etc...."
   ]
  },
  {
   "cell_type": "code",
   "execution_count": 5,
   "metadata": {},
   "outputs": [
    {
     "data": {
      "text/plain": [
       "{'team_id': 8291895,\n",
       " 'rating': 1624.51,\n",
       " 'wins': 169,\n",
       " 'losses': 98,\n",
       " 'last_match_time': 1667130565,\n",
       " 'name': 'Tundra Esports',\n",
       " 'tag': 'Tundra',\n",
       " 'logo_url': 'https://steamusercontent-a.akamaihd.net/ugc/1771573722041415896/D98163DE6281550D35494CEFDF6257F9716BD43B/'}"
      ]
     },
     "execution_count": 5,
     "metadata": {},
     "output_type": "execute_result"
    }
   ],
   "source": [
    "all_teams_json[0]"
   ]
  },
  {
   "cell_type": "markdown",
   "metadata": {},
   "source": [
    "The function search_item can look for a given string within a list of dictionaries"
   ]
  },
  {
   "cell_type": "code",
   "execution_count": 6,
   "metadata": {},
   "outputs": [],
   "source": [
    "def search_regex(search_string, name_from_list):\n",
    "    try:\n",
    "        x = re.search(search_string, name_from_list, re.IGNORECASE).group()\n",
    "    except Exception:\n",
    "        return False\n",
    "    return x\n",
    "\n",
    "def search_item(item_to_search, item_key, data_source):\n",
    "    item_filter =  filter(lambda y: search_regex(item_to_search, y[item_key]), data_source)\n",
    "    return [item_info for item_info in item_filter]"
   ]
  },
  {
   "cell_type": "markdown",
   "metadata": {},
   "source": [
    "A sample below searches for the word \"Fnatic\" from \"name\" key within the all_teams_json collection. It returned 2 results, manually select the right one"
   ]
  },
  {
   "cell_type": "code",
   "execution_count": 7,
   "metadata": {},
   "outputs": [
    {
     "data": {
      "text/plain": [
       "[{'team_id': 2586976,\n",
       "  'rating': 1439.16,\n",
       "  'wins': 829,\n",
       "  'losses': 521,\n",
       "  'last_match_time': 1666507727,\n",
       "  'name': 'OG',\n",
       "  'tag': 'OG',\n",
       "  'logo_url': 'https://steamcdn-a.akamaihd.net/apps/dota2/images/team_logos/2586976.png'},\n",
       " {'team_id': 7555613,\n",
       "  'rating': 1263.38,\n",
       "  'wins': 89,\n",
       "  'losses': 74,\n",
       "  'last_match_time': 1592502969,\n",
       "  'name': 'OG.Seed',\n",
       "  'tag': 'OG.S',\n",
       "  'logo_url': 'https://steamusercontent-a.akamaihd.net/ugc/1004809121655041802/D9C893AC4F6CF2DA59CB22CF7FE1885133389F9A/'},\n",
       " {'team_id': 8604954,\n",
       "  'rating': 1232.36,\n",
       "  'wins': 95,\n",
       "  'losses': 81,\n",
       "  'last_match_time': 1667083448,\n",
       "  'name': 'DogChamp',\n",
       "  'tag': 'Dog',\n",
       "  'logo_url': 'https://steamusercontent-a.akamaihd.net/ugc/1858313783662516620/B9EF259EF8A8EFC97D5F3FDF5D003087F2584029/'},\n",
       " {'team_id': 4593831,\n",
       "  'rating': 1194.7,\n",
       "  'wins': 21,\n",
       "  'losses': 12,\n",
       "  'last_match_time': 1515615451,\n",
       "  'name': 'Planet Dog',\n",
       "  'tag': '',\n",
       "  'logo_url': 'https://steamusercontent-a.akamaihd.net/ugc/836958712904758112/869204355A15C4FF851DE8FBB51CB5456F0FFA20/'},\n",
       " {'team_id': 1370482,\n",
       "  'rating': 1189.71,\n",
       "  'wins': 33,\n",
       "  'losses': 25,\n",
       "  'last_match_time': 1442451852,\n",
       "  'name': 'Doggy Team',\n",
       "  'tag': 'DOG',\n",
       "  'logo_url': 'https://steamusercontent-a.akamaihd.net/ugc/3280049265377219538/69DDD415F33497854C4EA35A2A96E817E88C0F74/'},\n",
       " {'team_id': 5067988,\n",
       "  'rating': 1163.74,\n",
       "  'wins': 35,\n",
       "  'losses': 14,\n",
       "  'last_match_time': 1551533667,\n",
       "  'name': 'ROG TiTans',\n",
       "  'tag': 'ROG',\n",
       "  'logo_url': 'https://steamusercontent-a.akamaihd.net/ugc/868494063065916993/C67CC3764B12B5007D87434BC78A0AFB8DEEDB6E/'},\n",
       " {'team_id': 8230491,\n",
       "  'rating': 1156.94,\n",
       "  'wins': 13,\n",
       "  'losses': 11,\n",
       "  'last_match_time': 1608476893,\n",
       "  'name': 'TEAM DOG',\n",
       "  'tag': '',\n",
       "  'logo_url': None},\n",
       " {'team_id': 3851150,\n",
       "  'rating': 1137.66,\n",
       "  'wins': 16,\n",
       "  'losses': 13,\n",
       "  'last_match_time': 1490814093,\n",
       "  'name': 'NoLogic Gaming',\n",
       "  'tag': 'NLG',\n",
       "  'logo_url': 'https://steamusercontent-a.akamaihd.net/ugc/170412021737626541/FBC216786BB78D03C74E3576F8AB672CC65128E7/'},\n",
       " {'team_id': 6411545,\n",
       "  'rating': 1109.5,\n",
       "  'wins': 11,\n",
       "  'losses': 2,\n",
       "  'last_match_time': 1546174383,\n",
       "  'name': 'Team DOGE',\n",
       "  'tag': 'DOGE',\n",
       "  'logo_url': 'https://steamusercontent-a.akamaihd.net/ugc/963102163496396106/944DEFB24D9DBF5ABA1025616AE37FAB3BAE2EAF/'},\n",
       " {'team_id': 7850349,\n",
       "  'rating': 1082.62,\n",
       "  'wins': 14,\n",
       "  'losses': 9,\n",
       "  'last_match_time': 1604236007,\n",
       "  'name': 'OGOROD',\n",
       "  'tag': 'OGOROD',\n",
       "  'logo_url': 'https://steamusercontent-a.akamaihd.net/ugc/1680366484665099967/3D49133C9C0475CDEC0F0E1C83571EB3C7ADE3EB/'},\n",
       " {'team_id': 8495160,\n",
       "  'rating': 1075.45,\n",
       "  'wins': 11,\n",
       "  'losses': 4,\n",
       "  'last_match_time': 1653148965,\n",
       "  'name': 'Universitas Atma Jaya Yogyakarta',\n",
       "  'tag': 'UAJY',\n",
       "  'logo_url': 'https://steamusercontent-a.akamaihd.net/ugc/1688272675540167519/CB09ABAE5F16D5BD6CAA5AB3DEC1F42440D55484/'},\n",
       " {'team_id': 2925965,\n",
       "  'rating': 1072.55,\n",
       "  'wins': 7,\n",
       "  'losses': 3,\n",
       "  'last_match_time': 1528639872,\n",
       "  'name': 'Dogshit Dynasty',\n",
       "  'tag': 'dogshit',\n",
       "  'logo_url': None},\n",
       " {'team_id': 6658434,\n",
       "  'rating': 1071.12,\n",
       "  'wins': 21,\n",
       "  'losses': 12,\n",
       "  'last_match_time': 1567808853,\n",
       "  'name': 'CyberDogs',\n",
       "  'tag': 'CDogs',\n",
       "  'logo_url': 'https://steamusercontent-a.akamaihd.net/ugc/963108334413619171/FEF59C1CFFBBD96749D7A89D9B8289165D621B8B/'},\n",
       " {'team_id': 8476879,\n",
       "  'rating': 1063.22,\n",
       "  'wins': 12,\n",
       "  'losses': 7,\n",
       "  'last_match_time': 1627217653,\n",
       "  'name': 'NoGrim',\n",
       "  'tag': 'NG',\n",
       "  'logo_url': 'https://steamusercontent-a.akamaihd.net/ugc/1831272053553373232/C5C724C8C5533DFD094A199DC9890DD714151B42/'}]"
      ]
     },
     "execution_count": 7,
     "metadata": {},
     "output_type": "execute_result"
    }
   ],
   "source": [
    "search_item('og', 'name', all_teams_json)"
   ]
  },
  {
   "cell_type": "code",
   "execution_count": 8,
   "metadata": {},
   "outputs": [],
   "source": [
    "def get_team_stat(team_id):\n",
    "    response = requests.get(BASE_URL + TEAMS + '/' + str(team_id) + '?api_key=' + API_KEY)\n",
    "\n",
    "    try:\n",
    "        team_stat_json = json.loads(response.content.decode('utf-8'))\n",
    "\n",
    "    except requests.exceptions.Timeout:\n",
    "        print('request is taking too long to complete, possible timeout, getting old data from Firebase')\n",
    "\n",
    "    except requests.exceptions.RequestException as e:\n",
    "        raise SystemExit(e)\n",
    "    \n",
    "    else:\n",
    "        return team_stat_json\n",
    "    \n",
    "    return 0"
   ]
  },
  {
   "cell_type": "code",
   "execution_count": 9,
   "metadata": {},
   "outputs": [],
   "source": [
    "def get_match_info(match_id):\n",
    "    response = requests.get(BASE_URL + MATCHES + '/' + str(match_id) + '?api_key=' + API_KEY)\n",
    "\n",
    "    try:\n",
    "        match_info_json = json.loads(response.content.decode('utf-8'))\n",
    "\n",
    "    except requests.exceptions.Timeout:\n",
    "        print('request is taking too long to complete, possible timeout, getting old data from Firebase')\n",
    "\n",
    "    except requests.exceptions.RequestException as e:\n",
    "        raise SystemExit(e)\n",
    "        \n",
    "    else:\n",
    "        return match_info_json\n",
    "    \n",
    "    return 0"
   ]
  },
  {
   "cell_type": "code",
   "execution_count": 10,
   "metadata": {},
   "outputs": [],
   "source": [
    "def get_player_info(account_id):\n",
    "    response = requests.get(BASE_URL + PLAYERS + '/' + str(account_id) + '?api_key=' + API_KEY)\n",
    "\n",
    "    try:\n",
    "        player_data_json = json.loads(response.content.decode('utf-8'))\n",
    "\n",
    "    except requests.exceptions.Timeout:\n",
    "        print('request is taking too long to complete, possible timeout, getting old data from Firebase')\n",
    "\n",
    "    except requests.exceptions.RequestException as e:\n",
    "        raise SystemExit(e)\n",
    "    \n",
    "    else:\n",
    "        return player_data_json\n",
    "    \n",
    "    return 0"
   ]
  },
  {
   "cell_type": "code",
   "execution_count": 11,
   "metadata": {},
   "outputs": [],
   "source": [
    "def get_team_matches(team_id):\n",
    "    \n",
    "    response = requests.get(BASE_URL + TEAMS + '/' + str(team_id) + '/' + MATCHES + '?api_key=' + API_KEY)\n",
    "\n",
    "    try:\n",
    "        team_data_json = json.loads(response.content.decode('utf-8'))\n",
    "\n",
    "    except requests.exceptions.Timeout:\n",
    "        print('request is taking too long to complete, possible timeout, getting old data from Firebase')\n",
    "\n",
    "    except requests.exceptions.RequestException as e:\n",
    "        raise SystemExit(e)\n",
    "    \n",
    "    else:\n",
    "        return team_data_json\n",
    "    \n",
    "    return 0"
   ]
  },
  {
   "cell_type": "markdown",
   "metadata": {},
   "source": [
    "Get all the team's matches using their team_id"
   ]
  },
  {
   "cell_type": "code",
   "execution_count": 12,
   "metadata": {},
   "outputs": [],
   "source": [
    "og_matches_json = get_team_matches(2586976)"
   ]
  },
  {
   "cell_type": "markdown",
   "metadata": {},
   "source": [
    "This shows the total number of matches for that team"
   ]
  },
  {
   "cell_type": "code",
   "execution_count": 13,
   "metadata": {},
   "outputs": [
    {
     "data": {
      "text/plain": [
       "1360"
      ]
     },
     "execution_count": 13,
     "metadata": {},
     "output_type": "execute_result"
    }
   ],
   "source": [
    "len(og_matches_json)"
   ]
  },
  {
   "cell_type": "markdown",
   "metadata": {},
   "source": [
    "Here's a sample of a match data "
   ]
  },
  {
   "cell_type": "code",
   "execution_count": 14,
   "metadata": {},
   "outputs": [
    {
     "data": {
      "text/plain": [
       "{'match_id': 6818704228,\n",
       " 'radiant_win': True,\n",
       " 'radiant': False,\n",
       " 'duration': 1988,\n",
       " 'start_time': 1666507727,\n",
       " 'leagueid': 14268,\n",
       " 'league_name': 'The International 2022',\n",
       " 'cluster': 154,\n",
       " 'opposing_team_id': 2163,\n",
       " 'opposing_team_name': 'Team Liquid',\n",
       " 'opposing_team_logo': 'https://steamcdn-a.akamaihd.net/apps/dota2/images/team_logos/2163.png'}"
      ]
     },
     "execution_count": 14,
     "metadata": {},
     "output_type": "execute_result"
    }
   ],
   "source": [
    "og_matches_json[0]"
   ]
  },
  {
   "cell_type": "markdown",
   "metadata": {},
   "source": [
    "Take note that 'start_time' is in Unix (Epoch) time format. It can be converted to standard format by using the 'datetime' library"
   ]
  },
  {
   "cell_type": "code",
   "execution_count": 15,
   "metadata": {},
   "outputs": [],
   "source": [
    "def oneminutecountdown():\n",
    "    for i in range(62, -1, -1):\n",
    "        print('Exceeded max API calls, please wait:', i, 'seconds                                                ', end = '\\r')\n",
    "        time.sleep(1)\n",
    "\n",
    "def combine_team_matches_data(team_matches_json, predict_team_id):  \n",
    "\n",
    "    count = 1\n",
    "\n",
    "    matches_total = len(team_matches_json)\n",
    "\n",
    "    # 1 x API CALL\n",
    "    predict_team_stat = get_team_stat(predict_team_id)\n",
    "\n",
    "    for i in range(60, -1, -1):\n",
    "        print('Exceeded max API calls, please wait:', i, 'seconds                                                ', end = '\\r')\n",
    "        time.sleep(1)\n",
    "    \n",
    "    for index, match_info in enumerate(team_matches_json):\n",
    "         \n",
    "        if (count >= 1200):\n",
    "            oneminutecountdown()\n",
    "            count = 1\n",
    "        \n",
    "        # 1 x API CALL\n",
    "        match_info_detailed = get_match_info(match_info['match_id'])\n",
    "        count += 1\n",
    "\n",
    "        if (count >= 1190):\n",
    "            oneminutecountdown()\n",
    "            count = 1\n",
    "        \n",
    "        opposing_players = []\n",
    "        predict_players = []\n",
    "        \n",
    "        for player in match_info_detailed['players']:\n",
    "\n",
    "            opposing_players_dict = {}\n",
    "            predict_players_dict = {}\n",
    "\n",
    "            if player['isRadiant'] != match_info['radiant']:\n",
    "                opposing_players_dict['account_id'] = player['account_id']\n",
    "\n",
    "                try:\n",
    "                    opposing_players_dict['name'] = player['name']\n",
    "                except:\n",
    "                    opposing_players_dict['name'] = 'NULL'\n",
    "\n",
    "                opposing_players_dict['player_stats'] = get_player_info(player['account_id'])\n",
    "\n",
    "                opposing_players.append(opposing_players_dict)\n",
    "            \n",
    "            elif player['isRadiant'] == match_info['radiant']:\n",
    "                predict_players_dict['account_id'] = player['account_id']\n",
    "\n",
    "                try:\n",
    "                    predict_players_dict['name'] = player['name']\n",
    "                except:\n",
    "                    predict_players_dict['name'] = 'NULL'\n",
    "\n",
    "                predict_players_dict['player_stats'] = get_player_info(player['account_id'])\n",
    "\n",
    "                predict_players.append(predict_players_dict)\n",
    "\n",
    "\n",
    "        count += 10\n",
    "\n",
    "        team_matches_json[index]['predict_players'] = predict_players\n",
    "        team_matches_json[index]['opposing_players'] = opposing_players\n",
    "\n",
    "        if (count >= 1200):\n",
    "            oneminutecountdown()\n",
    "            count = 1\n",
    "        \n",
    "        # 1 x API CALL\n",
    "        opposing_team_stat = get_team_stat(match_info['opposing_team_id'])\n",
    "        count += 1\n",
    "    \n",
    "        opposing_team = [{'opposing_team_wins_total' : opposing_team_stat['wins'], \n",
    "                        'opposing_team_losses_total' : opposing_team_stat['losses'], \n",
    "                        'opposing_team_rating' : opposing_team_stat['rating']}]\n",
    "        \n",
    "        predict_team = [{'predict_team_wins_total' : predict_team_stat['wins'], \n",
    "                        'predict_team_losses_total' : predict_team_stat['losses'], \n",
    "                        'predict_team_rating' : predict_team_stat['rating'],\n",
    "                        'predict_team_name' : predict_team_stat['name'], \n",
    "                        'predict_team_id' : predict_team_stat['team_id']}]\n",
    "        \n",
    "        team_matches_json[index]['opposing_team_stat'] = opposing_team\n",
    "        team_matches_json[index]['predict_team_stat'] = predict_team\n",
    "\n",
    "        team_matches_json[index]['dire_score'] = match_info_detailed['dire_score']\n",
    "        team_matches_json[index]['radiant_score'] = match_info_detailed['radiant_score']\n",
    "\n",
    "        print('match number:', index, 'downloaded out of', matches_total, ':', matches_total - index, 'matches left to go', round((index / matches_total) * 100, 2),'% complete', end = '\\r')\n",
    "        "
   ]
  },
  {
   "cell_type": "code",
   "execution_count": 26,
   "metadata": {},
   "outputs": [],
   "source": [
    "with open(r'royal_never_give_up_data.json', 'r', encoding=\"utf-8\") as input_file:\n",
    "\n",
    "    data = input_file.read()\n",
    "    royal_never_give_up_matches_json = json.loads(data)"
   ]
  },
  {
   "cell_type": "code",
   "execution_count": 32,
   "metadata": {},
   "outputs": [
    {
     "name": "stdout",
     "output_type": "stream",
     "text": [
      "match number: 120 downloaded out of 121 : 1 matches left to go 99.17 % completee               \r"
     ]
    }
   ],
   "source": [
    "combine_team_matches_data(royal_never_give_up_matches_json[752:], 6209804)"
   ]
  },
  {
   "cell_type": "code",
   "execution_count": 31,
   "metadata": {},
   "outputs": [
    {
     "data": {
      "text/plain": [
       "11"
      ]
     },
     "execution_count": 31,
     "metadata": {},
     "output_type": "execute_result"
    }
   ],
   "source": [
    "len(royal_never_give_up_matches_json[752])"
   ]
  },
  {
   "cell_type": "code",
   "execution_count": 33,
   "metadata": {},
   "outputs": [],
   "source": [
    "for index, item in enumerate(royal_never_give_up_matches_json):\n",
    "    if len(item) < 17:\n",
    "        print(index)\n",
    "        break"
   ]
  },
  {
   "cell_type": "code",
   "execution_count": null,
   "metadata": {},
   "outputs": [],
   "source": []
  },
  {
   "cell_type": "code",
   "execution_count": 34,
   "metadata": {},
   "outputs": [],
   "source": [
    "# Save the JSON as a file in the working directory\n",
    "def save_teams_data_to_file(team_name, team_matches_json):\n",
    "    \n",
    "    with open(team_name + '_data.json', 'w', encoding='utf-8') as f:\n",
    "        json.dump(team_matches_json, f, ensure_ascii=False, indent=4)"
   ]
  },
  {
   "cell_type": "code",
   "execution_count": 35,
   "metadata": {},
   "outputs": [],
   "source": [
    "save_teams_data_to_file('royal_never_give_up', royal_never_give_up_matches_json)"
   ]
  },
  {
   "cell_type": "code",
   "execution_count": null,
   "metadata": {},
   "outputs": [],
   "source": []
  }
 ],
 "metadata": {
  "kernelspec": {
   "display_name": "Python 3.10.6 ('deploy-mlmodel-env': venv)",
   "language": "python",
   "name": "python3"
  },
  "language_info": {
   "codemirror_mode": {
    "name": "ipython",
    "version": 3
   },
   "file_extension": ".py",
   "mimetype": "text/x-python",
   "name": "python",
   "nbconvert_exporter": "python",
   "pygments_lexer": "ipython3",
   "version": "3.10.6"
  },
  "orig_nbformat": 4,
  "vscode": {
   "interpreter": {
    "hash": "30d80fdac55364737219c44b1a442205c29b6ee2abcfc60eeff35dd4ecb6f629"
   }
  }
 },
 "nbformat": 4,
 "nbformat_minor": 2
}
