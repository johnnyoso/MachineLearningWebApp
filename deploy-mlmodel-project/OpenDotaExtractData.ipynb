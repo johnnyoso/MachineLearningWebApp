{
 "cells": [
  {
   "cell_type": "code",
   "execution_count": 1,
   "metadata": {},
   "outputs": [],
   "source": [
    "import json\n",
    "import requests\n",
    "import re\n",
    "from datetime import datetime\n",
    "import time"
   ]
  },
  {
   "cell_type": "code",
   "execution_count": 2,
   "metadata": {},
   "outputs": [],
   "source": [
    "BASE_URL = 'https://api.opendota.com/api/'\n",
    "TEAMS = 'teams'\n",
    "HEROES = 'heroes'\n",
    "PROPLAYERS = 'proPlayers'\n",
    "PROMATCHES = 'proMatches'\n",
    "MATCHES = 'matches'\n",
    "PLAYERS = 'players'\n",
    "HEROES_STATS = 'heroStats'\n",
    "API_KEY = "
   ]
  },
  {
   "cell_type": "code",
   "execution_count": 3,
   "metadata": {},
   "outputs": [],
   "source": [
    "def get_all_teams_from_opendota():\n",
    "    \n",
    "    response = requests.get(BASE_URL + TEAMS + '?api_key=' + API_KEY)\n",
    "\n",
    "    try:\n",
    "        team_data_json = json.loads(response.content.decode('utf-8'))\n",
    "\n",
    "    except requests.exceptions.Timeout:\n",
    "        print('request is taking too long to complete, possible timeout, getting old data from Firebase')\n",
    "\n",
    "    except requests.exceptions.RequestException as e:\n",
    "        raise SystemExit(e)\n",
    "    \n",
    "    else:\n",
    "        return team_data_json\n",
    "    \n",
    "    return 0"
   ]
  },
  {
   "cell_type": "markdown",
   "metadata": {},
   "source": [
    "Get all the teams from OpenDota"
   ]
  },
  {
   "cell_type": "code",
   "execution_count": 4,
   "metadata": {},
   "outputs": [],
   "source": [
    "all_teams_json = get_all_teams_from_opendota()"
   ]
  },
  {
   "cell_type": "markdown",
   "metadata": {},
   "source": [
    "A sample showing the first value in the list. The items in the list is in a dictionary format and will have keys such as team_id, rating, wins, losses, etc...."
   ]
  },
  {
   "cell_type": "code",
   "execution_count": 5,
   "metadata": {},
   "outputs": [
    {
     "data": {
      "text/plain": [
       "{'team_id': 8291895,\n",
       " 'rating': 1624.51,\n",
       " 'wins': 169,\n",
       " 'losses': 98,\n",
       " 'last_match_time': 1667130565,\n",
       " 'name': 'Tundra Esports',\n",
       " 'tag': 'Tundra',\n",
       " 'logo_url': 'https://steamusercontent-a.akamaihd.net/ugc/1771573722041415896/D98163DE6281550D35494CEFDF6257F9716BD43B/'}"
      ]
     },
     "execution_count": 5,
     "metadata": {},
     "output_type": "execute_result"
    }
   ],
   "source": [
    "all_teams_json[0]"
   ]
  },
  {
   "cell_type": "markdown",
   "metadata": {},
   "source": [
    "The function search_item can look for a given string within a list of dictionaries"
   ]
  },
  {
   "cell_type": "code",
   "execution_count": 6,
   "metadata": {},
   "outputs": [],
   "source": [
    "def search_regex(search_string, name_from_list):\n",
    "    try:\n",
    "        x = re.search(search_string, name_from_list, re.IGNORECASE).group()\n",
    "    except Exception:\n",
    "        return False\n",
    "    return x\n",
    "\n",
    "def search_item(item_to_search, item_key, data_source):\n",
    "    item_filter =  filter(lambda y: search_regex(item_to_search, y[item_key]), data_source)\n",
    "    return [item_info for item_info in item_filter]"
   ]
  },
  {
   "cell_type": "markdown",
   "metadata": {},
   "source": [
    "A sample below searches for the word \"Fnatic\" from \"name\" key within the all_teams_json collection. It returned 2 results, manually select the right one"
   ]
  },
  {
   "cell_type": "code",
   "execution_count": 11,
   "metadata": {},
   "outputs": [
    {
     "data": {
      "text/plain": [
       "[{'team_id': 39,\n",
       "  'rating': 1413.61,\n",
       "  'wins': 1257,\n",
       "  'losses': 767,\n",
       "  'last_match_time': 1666339052,\n",
       "  'name': 'Evil Geniuses',\n",
       "  'tag': 'EG',\n",
       "  'logo_url': 'https://steamcdn-a.akamaihd.net/apps/dota2/images/team_logos/39.png'}]"
      ]
     },
     "execution_count": 11,
     "metadata": {},
     "output_type": "execute_result"
    }
   ],
   "source": [
    "search_item('evil geniuses', 'name', all_teams_json)"
   ]
  },
  {
   "cell_type": "code",
   "execution_count": 8,
   "metadata": {},
   "outputs": [],
   "source": [
    "def get_team_stat(team_id):\n",
    "    response = requests.get(BASE_URL + TEAMS + '/' + str(team_id) + '?api_key=' + API_KEY)\n",
    "\n",
    "    try:\n",
    "        team_stat_json = json.loads(response.content.decode('utf-8'))\n",
    "\n",
    "    except requests.exceptions.Timeout:\n",
    "        print('request is taking too long to complete, possible timeout, getting old data from Firebase')\n",
    "\n",
    "    except requests.exceptions.RequestException as e:\n",
    "        raise SystemExit(e)\n",
    "    \n",
    "    else:\n",
    "        return team_stat_json\n",
    "    \n",
    "    return 0"
   ]
  },
  {
   "cell_type": "code",
   "execution_count": 9,
   "metadata": {},
   "outputs": [],
   "source": [
    "def get_match_info(match_id):\n",
    "    response = requests.get(BASE_URL + MATCHES + '/' + str(match_id) + '?api_key=' + API_KEY)\n",
    "\n",
    "    try:\n",
    "        match_info_json = json.loads(response.content.decode('utf-8'))\n",
    "\n",
    "    except requests.exceptions.Timeout:\n",
    "        print('request is taking too long to complete, possible timeout, getting old data from Firebase')\n",
    "\n",
    "    except requests.exceptions.RequestException as e:\n",
    "        raise SystemExit(e)\n",
    "        \n",
    "    else:\n",
    "        return match_info_json\n",
    "    \n",
    "    return 0"
   ]
  },
  {
   "cell_type": "code",
   "execution_count": 10,
   "metadata": {},
   "outputs": [],
   "source": [
    "def get_player_info(account_id):\n",
    "    response = requests.get(BASE_URL + PLAYERS + '/' + str(account_id) + '?api_key=' + API_KEY)\n",
    "\n",
    "    try:\n",
    "        player_data_json = json.loads(response.content.decode('utf-8'))\n",
    "\n",
    "    except requests.exceptions.Timeout:\n",
    "        print('request is taking too long to complete, possible timeout, getting old data from Firebase')\n",
    "\n",
    "    except requests.exceptions.RequestException as e:\n",
    "        raise SystemExit(e)\n",
    "    \n",
    "    else:\n",
    "        return player_data_json\n",
    "    \n",
    "    return 0"
   ]
  },
  {
   "cell_type": "code",
   "execution_count": 11,
   "metadata": {},
   "outputs": [],
   "source": [
    "def get_team_matches(team_id):\n",
    "    \n",
    "    response = requests.get(BASE_URL + TEAMS + '/' + str(team_id) + '/' + MATCHES + '?api_key=' + API_KEY)\n",
    "\n",
    "    try:\n",
    "        team_data_json = json.loads(response.content.decode('utf-8'))\n",
    "\n",
    "    except requests.exceptions.Timeout:\n",
    "        print('request is taking too long to complete, possible timeout, getting old data from Firebase')\n",
    "\n",
    "    except requests.exceptions.RequestException as e:\n",
    "        raise SystemExit(e)\n",
    "    \n",
    "    else:\n",
    "        return team_data_json\n",
    "    \n",
    "    return 0"
   ]
  },
  {
   "cell_type": "markdown",
   "metadata": {},
   "source": [
    "Get all the team's matches using their team_id"
   ]
  },
  {
   "cell_type": "code",
   "execution_count": 12,
   "metadata": {},
   "outputs": [],
   "source": [
    "og_matches_json = get_team_matches(2586976)"
   ]
  },
  {
   "cell_type": "markdown",
   "metadata": {},
   "source": [
    "This shows the total number of matches for that team"
   ]
  },
  {
   "cell_type": "code",
   "execution_count": 13,
   "metadata": {},
   "outputs": [
    {
     "data": {
      "text/plain": [
       "1360"
      ]
     },
     "execution_count": 13,
     "metadata": {},
     "output_type": "execute_result"
    }
   ],
   "source": [
    "len(og_matches_json)"
   ]
  },
  {
   "cell_type": "markdown",
   "metadata": {},
   "source": [
    "Here's a sample of a match data "
   ]
  },
  {
   "cell_type": "code",
   "execution_count": 14,
   "metadata": {},
   "outputs": [
    {
     "data": {
      "text/plain": [
       "{'match_id': 6818704228,\n",
       " 'radiant_win': True,\n",
       " 'radiant': False,\n",
       " 'duration': 1988,\n",
       " 'start_time': 1666507727,\n",
       " 'leagueid': 14268,\n",
       " 'league_name': 'The International 2022',\n",
       " 'cluster': 154,\n",
       " 'opposing_team_id': 2163,\n",
       " 'opposing_team_name': 'Team Liquid',\n",
       " 'opposing_team_logo': 'https://steamcdn-a.akamaihd.net/apps/dota2/images/team_logos/2163.png'}"
      ]
     },
     "execution_count": 14,
     "metadata": {},
     "output_type": "execute_result"
    }
   ],
   "source": [
    "og_matches_json[0]"
   ]
  },
  {
   "cell_type": "markdown",
   "metadata": {},
   "source": [
    "Take note that 'start_time' is in Unix (Epoch) time format. It can be converted to standard format by using the 'datetime' library"
   ]
  },
  {
   "cell_type": "code",
   "execution_count": 15,
   "metadata": {},
   "outputs": [],
   "source": [
    "def oneminutecountdown():\n",
    "    for i in range(62, -1, -1):\n",
    "        print('Exceeded max API calls, please wait:', i, 'seconds                                                ', end = '\\r')\n",
    "        time.sleep(1)\n",
    "\n",
    "def combine_team_matches_data(team_matches_json, predict_team_id):  \n",
    "\n",
    "    count = 1\n",
    "\n",
    "    matches_total = len(team_matches_json)\n",
    "\n",
    "    # 1 x API CALL\n",
    "    predict_team_stat = get_team_stat(predict_team_id)\n",
    "\n",
    "    for i in range(60, -1, -1):\n",
    "        print('Exceeded max API calls, please wait:', i, 'seconds                                                ', end = '\\r')\n",
    "        time.sleep(1)\n",
    "    \n",
    "    for index, match_info in enumerate(team_matches_json):\n",
    "         \n",
    "        if (count >= 1200):\n",
    "            oneminutecountdown()\n",
    "            count = 1\n",
    "        \n",
    "        # 1 x API CALL\n",
    "        match_info_detailed = get_match_info(match_info['match_id'])\n",
    "        count += 1\n",
    "\n",
    "        if (count >= 1190):\n",
    "            oneminutecountdown()\n",
    "            count = 1\n",
    "        \n",
    "        opposing_players = []\n",
    "        predict_players = []\n",
    "        \n",
    "        for player in match_info_detailed['players']:\n",
    "\n",
    "            opposing_players_dict = {}\n",
    "            predict_players_dict = {}\n",
    "\n",
    "            if player['isRadiant'] != match_info['radiant']:\n",
    "                opposing_players_dict['account_id'] = player['account_id']\n",
    "\n",
    "                try:\n",
    "                    opposing_players_dict['name'] = player['name']\n",
    "                except:\n",
    "                    opposing_players_dict['name'] = 'NULL'\n",
    "\n",
    "                opposing_players_dict['player_stats'] = get_player_info(player['account_id'])\n",
    "\n",
    "                opposing_players.append(opposing_players_dict)\n",
    "            \n",
    "            elif player['isRadiant'] == match_info['radiant']:\n",
    "                predict_players_dict['account_id'] = player['account_id']\n",
    "\n",
    "                try:\n",
    "                    predict_players_dict['name'] = player['name']\n",
    "                except:\n",
    "                    predict_players_dict['name'] = 'NULL'\n",
    "\n",
    "                predict_players_dict['player_stats'] = get_player_info(player['account_id'])\n",
    "\n",
    "                predict_players.append(predict_players_dict)\n",
    "\n",
    "\n",
    "        count += 10\n",
    "\n",
    "        team_matches_json[index]['predict_players'] = predict_players\n",
    "        team_matches_json[index]['opposing_players'] = opposing_players\n",
    "\n",
    "        if (count >= 1200):\n",
    "            oneminutecountdown()\n",
    "            count = 1\n",
    "        \n",
    "        # 1 x API CALL\n",
    "        opposing_team_stat = get_team_stat(match_info['opposing_team_id'])\n",
    "        count += 1\n",
    "    \n",
    "        opposing_team = [{'opposing_team_wins_total' : opposing_team_stat['wins'], \n",
    "                        'opposing_team_losses_total' : opposing_team_stat['losses'], \n",
    "                        'opposing_team_rating' : opposing_team_stat['rating']}]\n",
    "        \n",
    "        predict_team = [{'predict_team_wins_total' : predict_team_stat['wins'], \n",
    "                        'predict_team_losses_total' : predict_team_stat['losses'], \n",
    "                        'predict_team_rating' : predict_team_stat['rating'],\n",
    "                        'predict_team_name' : predict_team_stat['name'], \n",
    "                        'predict_team_id' : predict_team_stat['team_id']}]\n",
    "        \n",
    "        team_matches_json[index]['opposing_team_stat'] = opposing_team\n",
    "        team_matches_json[index]['predict_team_stat'] = predict_team\n",
    "\n",
    "        team_matches_json[index]['dire_score'] = match_info_detailed['dire_score']\n",
    "        team_matches_json[index]['radiant_score'] = match_info_detailed['radiant_score']\n",
    "\n",
    "        print('match number:', index, 'downloaded out of', matches_total, ':', matches_total - index, 'matches left to go', round((index / matches_total) * 100, 2),'% complete', end = '\\r')\n",
    "        "
   ]
  },
  {
   "cell_type": "code",
   "execution_count": 26,
   "metadata": {},
   "outputs": [],
   "source": [
    "with open(r'royal_never_give_up_data.json', 'r', encoding=\"utf-8\") as input_file:\n",
    "\n",
    "    data = input_file.read()\n",
    "    royal_never_give_up_matches_json = json.loads(data)"
   ]
  },
  {
   "cell_type": "code",
   "execution_count": 32,
   "metadata": {},
   "outputs": [
    {
     "name": "stdout",
     "output_type": "stream",
     "text": [
      "match number: 120 downloaded out of 121 : 1 matches left to go 99.17 % completee               \r"
     ]
    }
   ],
   "source": [
    "combine_team_matches_data(royal_never_give_up_matches_json[752:], 6209804)"
   ]
  },
  {
   "cell_type": "code",
   "execution_count": 31,
   "metadata": {},
   "outputs": [
    {
     "data": {
      "text/plain": [
       "11"
      ]
     },
     "execution_count": 31,
     "metadata": {},
     "output_type": "execute_result"
    }
   ],
   "source": [
    "len(royal_never_give_up_matches_json[752])"
   ]
  },
  {
   "cell_type": "code",
   "execution_count": 33,
   "metadata": {},
   "outputs": [],
   "source": [
    "for index, item in enumerate(royal_never_give_up_matches_json):\n",
    "    if len(item) < 17:\n",
    "        print(index)\n",
    "        break"
   ]
  },
  {
   "cell_type": "code",
   "execution_count": null,
   "metadata": {},
   "outputs": [],
   "source": []
  },
  {
   "cell_type": "code",
   "execution_count": 34,
   "metadata": {},
   "outputs": [],
   "source": [
    "# Save the JSON as a file in the working directory\n",
    "def save_teams_data_to_file(team_name, team_matches_json):\n",
    "    \n",
    "    with open(team_name + '_data.json', 'w', encoding='utf-8') as f:\n",
    "        json.dump(team_matches_json, f, ensure_ascii=False, indent=4)"
   ]
  },
  {
   "cell_type": "code",
   "execution_count": 35,
   "metadata": {},
   "outputs": [],
   "source": [
    "save_teams_data_to_file('royal_never_give_up', royal_never_give_up_matches_json)"
   ]
  },
  {
   "cell_type": "code",
   "execution_count": null,
   "metadata": {},
   "outputs": [],
   "source": []
  }
 ],
 "metadata": {
  "kernelspec": {
   "display_name": "Python 3.10.6 ('deploy-mlmodel-env': venv)",
   "language": "python",
   "name": "python3"
  },
  "language_info": {
   "codemirror_mode": {
    "name": "ipython",
    "version": 3
   },
   "file_extension": ".py",
   "mimetype": "text/x-python",
   "name": "python",
   "nbconvert_exporter": "python",
   "pygments_lexer": "ipython3",
   "version": "3.10.6"
  },
  "orig_nbformat": 4,
  "vscode": {
   "interpreter": {
    "hash": "30d80fdac55364737219c44b1a442205c29b6ee2abcfc60eeff35dd4ecb6f629"
   }
  }
 },
 "nbformat": 4,
 "nbformat_minor": 2
}
