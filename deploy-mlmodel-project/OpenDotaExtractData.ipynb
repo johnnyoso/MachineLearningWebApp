{
 "cells": [
  {
   "cell_type": "code",
   "execution_count": 1,
   "metadata": {},
   "outputs": [],
   "source": [
    "import json\n",
    "import requests\n",
    "import re\n",
    "from datetime import datetime\n",
    "import time"
   ]
  },
  {
   "cell_type": "code",
   "execution_count": 2,
   "metadata": {},
   "outputs": [],
   "source": [
    "BASE_URL = 'https://api.opendota.com/api/'\n",
    "TEAMS = 'teams'\n",
    "HEROES = 'heroes'\n",
    "PROPLAYERS = 'proPlayers'\n",
    "PROMATCHES = 'proMatches'\n",
    "MATCHES = 'matches'\n",
    "PLAYERS = 'players'\n",
    "HEROES_STATS = 'heroStats'"
   ]
  },
  {
   "cell_type": "code",
   "execution_count": 3,
   "metadata": {},
   "outputs": [],
   "source": [
    "def get_all_teams_from_opendota():\n",
    "    \n",
    "    response = requests.get(BASE_URL + TEAMS)\n",
    "\n",
    "    try:\n",
    "        team_data_json = json.loads(response.content.decode('utf-8'))\n",
    "\n",
    "    except requests.exceptions.Timeout:\n",
    "        print('request is taking too long to complete, possible timeout, getting old data from Firebase')\n",
    "\n",
    "    except requests.exceptions.RequestException as e:\n",
    "        raise SystemExit(e)\n",
    "    \n",
    "    else:\n",
    "        return team_data_json\n",
    "    \n",
    "    return 0"
   ]
  },
  {
   "cell_type": "markdown",
   "metadata": {},
   "source": [
    "Get all the teams from OpenDota"
   ]
  },
  {
   "cell_type": "code",
   "execution_count": 4,
   "metadata": {},
   "outputs": [],
   "source": [
    "all_teams_json = get_all_teams_from_opendota()"
   ]
  },
  {
   "cell_type": "markdown",
   "metadata": {},
   "source": [
    "A sample showing the first value in the list. The items in the list is in a dictionary format and will have keys such as team_id, rating, wins, losses, etc...."
   ]
  },
  {
   "cell_type": "code",
   "execution_count": 5,
   "metadata": {},
   "outputs": [
    {
     "data": {
      "text/plain": [
       "{'team_id': 7119388,\n",
       " 'rating': 1558.72,\n",
       " 'wins': 288,\n",
       " 'losses': 217,\n",
       " 'last_match_time': 1665890080,\n",
       " 'name': 'Team Spirit',\n",
       " 'tag': 'TSpirit',\n",
       " 'logo_url': 'https://steamusercontent-a.akamaihd.net/ugc/1839179120711951766/CD7E0885CB527334205CC7885E9C101B7BC17702/'}"
      ]
     },
     "execution_count": 5,
     "metadata": {},
     "output_type": "execute_result"
    }
   ],
   "source": [
    "all_teams_json[0]"
   ]
  },
  {
   "cell_type": "markdown",
   "metadata": {},
   "source": [
    "The function search_item can look for a given string within a list of dictionaries"
   ]
  },
  {
   "cell_type": "code",
   "execution_count": 6,
   "metadata": {},
   "outputs": [],
   "source": [
    "def search_regex(search_string, name_from_list):\n",
    "    try:\n",
    "        x = re.search(search_string, name_from_list, re.IGNORECASE).group()\n",
    "    except Exception:\n",
    "        return False\n",
    "    return x\n",
    "\n",
    "def search_item(item_to_search, item_key, data_source):\n",
    "    item_filter =  filter(lambda y: search_regex(item_to_search, y[item_key]), data_source)\n",
    "    return [item_info for item_info in item_filter]"
   ]
  },
  {
   "cell_type": "markdown",
   "metadata": {},
   "source": [
    "A sample below searches for the word \"Fnatic\" from \"name\" key within the all_teams_json collection. It returned 2 results, manually select the right one"
   ]
  },
  {
   "cell_type": "code",
   "execution_count": 30,
   "metadata": {},
   "outputs": [
    {
     "data": {
      "text/plain": [
       "[{'team_id': 8131728,\n",
       "  'rating': 1335.5,\n",
       "  'wins': 281,\n",
       "  'losses': 236,\n",
       "  'last_match_time': 1665840771,\n",
       "  'name': 'Hokori',\n",
       "  'tag': 'Hokori',\n",
       "  'logo_url': 'https://steamusercontent-a.akamaihd.net/ugc/1704034371947308886/699822F5C75F7B674A0FFED975AAEC17A32B96A2/'}]"
      ]
     },
     "execution_count": 30,
     "metadata": {},
     "output_type": "execute_result"
    }
   ],
   "source": [
    "search_item('hokori', 'name', all_teams_json)"
   ]
  },
  {
   "cell_type": "code",
   "execution_count": 8,
   "metadata": {},
   "outputs": [],
   "source": [
    "def get_team_stat(team_id):\n",
    "    response = requests.get(BASE_URL + TEAMS + '/' + str(team_id))\n",
    "\n",
    "    try:\n",
    "        team_stat_json = json.loads(response.content.decode('utf-8'))\n",
    "\n",
    "    except requests.exceptions.Timeout:\n",
    "        print('request is taking too long to complete, possible timeout, getting old data from Firebase')\n",
    "\n",
    "    except requests.exceptions.RequestException as e:\n",
    "        raise SystemExit(e)\n",
    "    \n",
    "    else:\n",
    "        return team_stat_json\n",
    "    \n",
    "    return 0"
   ]
  },
  {
   "cell_type": "code",
   "execution_count": 9,
   "metadata": {},
   "outputs": [],
   "source": [
    "def get_match_info(match_id):\n",
    "    response = requests.get(BASE_URL + MATCHES + '/' + str(match_id))\n",
    "\n",
    "    try:\n",
    "        match_info_json = json.loads(response.content.decode('utf-8'))\n",
    "\n",
    "    except requests.exceptions.Timeout:\n",
    "        print('request is taking too long to complete, possible timeout, getting old data from Firebase')\n",
    "\n",
    "    except requests.exceptions.RequestException as e:\n",
    "        raise SystemExit(e)\n",
    "        \n",
    "    else:\n",
    "        return match_info_json\n",
    "    \n",
    "    return 0"
   ]
  },
  {
   "cell_type": "code",
   "execution_count": 10,
   "metadata": {},
   "outputs": [],
   "source": [
    "def get_player_info(account_id):\n",
    "    response = requests.get(BASE_URL + PLAYERS + '/' + str(account_id))\n",
    "\n",
    "    try:\n",
    "        player_data_json = json.loads(response.content.decode('utf-8'))\n",
    "\n",
    "    except requests.exceptions.Timeout:\n",
    "        print('request is taking too long to complete, possible timeout, getting old data from Firebase')\n",
    "\n",
    "    except requests.exceptions.RequestException as e:\n",
    "        raise SystemExit(e)\n",
    "    \n",
    "    else:\n",
    "        return player_data_json\n",
    "    \n",
    "    return 0"
   ]
  },
  {
   "cell_type": "code",
   "execution_count": 11,
   "metadata": {},
   "outputs": [],
   "source": [
    "def get_team_matches(team_id):\n",
    "    \n",
    "    response = requests.get(BASE_URL + TEAMS + '/' + str(team_id) + '/' + MATCHES)\n",
    "\n",
    "    try:\n",
    "        team_data_json = json.loads(response.content.decode('utf-8'))\n",
    "\n",
    "    except requests.exceptions.Timeout:\n",
    "        print('request is taking too long to complete, possible timeout, getting old data from Firebase')\n",
    "\n",
    "    except requests.exceptions.RequestException as e:\n",
    "        raise SystemExit(e)\n",
    "    \n",
    "    else:\n",
    "        return team_data_json\n",
    "    \n",
    "    return 0"
   ]
  },
  {
   "cell_type": "markdown",
   "metadata": {},
   "source": [
    "Get all the team's matches using their team_id"
   ]
  },
  {
   "cell_type": "code",
   "execution_count": 31,
   "metadata": {},
   "outputs": [],
   "source": [
    "hokori_matches_json = get_team_matches(8131728)"
   ]
  },
  {
   "cell_type": "markdown",
   "metadata": {},
   "source": [
    "This shows the total number of matches for that team"
   ]
  },
  {
   "cell_type": "code",
   "execution_count": 32,
   "metadata": {},
   "outputs": [
    {
     "data": {
      "text/plain": [
       "521"
      ]
     },
     "execution_count": 32,
     "metadata": {},
     "output_type": "execute_result"
    }
   ],
   "source": [
    "len(hokori_matches_json)"
   ]
  },
  {
   "cell_type": "markdown",
   "metadata": {},
   "source": [
    "Here's a sample of a match data "
   ]
  },
  {
   "cell_type": "code",
   "execution_count": 33,
   "metadata": {},
   "outputs": [
    {
     "data": {
      "text/plain": [
       "{'match_id': 6808167860,\n",
       " 'radiant_win': True,\n",
       " 'radiant': False,\n",
       " 'duration': 1675,\n",
       " 'start_time': 1665913386,\n",
       " 'leagueid': 14268,\n",
       " 'league_name': 'The International 2022',\n",
       " 'cluster': 154,\n",
       " 'opposing_team_id': 39,\n",
       " 'opposing_team_name': 'Evil Geniuses',\n",
       " 'opposing_team_logo': 'https://steamcdn-a.akamaihd.net/apps/dota2/images/team_logos/39.png'}"
      ]
     },
     "execution_count": 33,
     "metadata": {},
     "output_type": "execute_result"
    }
   ],
   "source": [
    "hokori_matches_json[0]"
   ]
  },
  {
   "cell_type": "markdown",
   "metadata": {},
   "source": [
    "Take note that 'start_time' is in Unix (Epoch) time format. It can be converted to standard format by using the 'datetime' library"
   ]
  },
  {
   "cell_type": "code",
   "execution_count": 15,
   "metadata": {},
   "outputs": [],
   "source": [
    "def oneminutecountdown():\n",
    "    for i in range(62, -1, -1):\n",
    "        print('Exceeded max API calls, please wait:', i, 'seconds                                                ', end = '\\r')\n",
    "        time.sleep(1)\n",
    "\n",
    "def combine_team_matches_data(team_matches_json, predict_team_id):  \n",
    "\n",
    "    count = 1\n",
    "\n",
    "    matches_total = len(team_matches_json)\n",
    "\n",
    "    # 1 x API CALL\n",
    "    predict_team_stat = get_team_stat(predict_team_id)\n",
    "\n",
    "    for i in range(60, -1, -1):\n",
    "        print('Exceeded max API calls, please wait:', i, 'seconds                                                ', end = '\\r')\n",
    "        time.sleep(1)\n",
    "    \n",
    "    for index, match_info in enumerate(team_matches_json):\n",
    "         \n",
    "        if (count >= 60):\n",
    "            oneminutecountdown()\n",
    "            count = 1\n",
    "        \n",
    "        # 1 x API CALL\n",
    "        match_info_detailed = get_match_info(match_info['match_id'])\n",
    "        count += 1\n",
    "\n",
    "        if (count >= 50):\n",
    "            oneminutecountdown()\n",
    "            count = 1\n",
    "        \n",
    "        opposing_players = []\n",
    "        predict_players = []\n",
    "        \n",
    "        for player in match_info_detailed['players']:\n",
    "\n",
    "            opposing_players_dict = {}\n",
    "            predict_players_dict = {}\n",
    "\n",
    "            if player['isRadiant'] != match_info['radiant']:\n",
    "                opposing_players_dict['account_id'] = player['account_id']\n",
    "\n",
    "                try:\n",
    "                    opposing_players_dict['name'] = player['name']\n",
    "                except:\n",
    "                    opposing_players_dict['name'] = 'NULL'\n",
    "\n",
    "                opposing_players_dict['player_stats'] = get_player_info(player['account_id'])\n",
    "\n",
    "                opposing_players.append(opposing_players_dict)\n",
    "            \n",
    "            elif player['isRadiant'] == match_info['radiant']:\n",
    "                predict_players_dict['account_id'] = player['account_id']\n",
    "\n",
    "                try:\n",
    "                    predict_players_dict['name'] = player['name']\n",
    "                except:\n",
    "                    predict_players_dict['name'] = 'NULL'\n",
    "\n",
    "                predict_players_dict['player_stats'] = get_player_info(player['account_id'])\n",
    "\n",
    "                predict_players.append(predict_players_dict)\n",
    "\n",
    "\n",
    "        count += 10\n",
    "\n",
    "        team_matches_json[index]['predict_players'] = predict_players\n",
    "        team_matches_json[index]['opposing_players'] = opposing_players\n",
    "\n",
    "        if (count >= 60):\n",
    "            oneminutecountdown()\n",
    "            count = 1\n",
    "        \n",
    "        # 1 x API CALL\n",
    "        opposing_team_stat = get_team_stat(match_info['opposing_team_id'])\n",
    "        count += 1\n",
    "    \n",
    "        opposing_team = [{'opposing_team_wins_total' : opposing_team_stat['wins'], \n",
    "                        'opposing_team_losses_total' : opposing_team_stat['losses'], \n",
    "                        'opposing_team_rating' : opposing_team_stat['rating']}]\n",
    "        \n",
    "        predict_team = [{'predict_team_wins_total' : predict_team_stat['wins'], \n",
    "                        'predict_team_losses_total' : predict_team_stat['losses'], \n",
    "                        'predict_team_rating' : predict_team_stat['rating'],\n",
    "                        'predict_team_name' : predict_team_stat['name'], \n",
    "                        'predict_team_id' : predict_team_stat['team_id']}]\n",
    "        \n",
    "        team_matches_json[index]['opposing_team_stat'] = opposing_team\n",
    "        team_matches_json[index]['predict_team_stat'] = predict_team\n",
    "\n",
    "        team_matches_json[index]['dire_score'] = match_info_detailed['dire_score']\n",
    "        team_matches_json[index]['radiant_score'] = match_info_detailed['radiant_score']\n",
    "\n",
    "        print('match number:', index, 'downloaded out of', matches_total, ':', matches_total - index, 'matches left to go', round((index / matches_total) * 100, 2),'% complete', end = '\\r')\n",
    "        "
   ]
  },
  {
   "cell_type": "markdown",
   "metadata": {},
   "source": [
    "with open(r'team_liquid_data.json', 'r', encoding=\"utf-8\") as input_file:\n",
    "\n",
    "    data = input_file.read()\n",
    "    team_liquid_matches_json = json.loads(data)"
   ]
  },
  {
   "cell_type": "code",
   "execution_count": 34,
   "metadata": {},
   "outputs": [
    {
     "name": "stdout",
     "output_type": "stream",
     "text": [
      "Exceeded max API calls, please wait: 14 seconds                                                \r"
     ]
    },
    {
     "ename": "KeyboardInterrupt",
     "evalue": "",
     "output_type": "error",
     "traceback": [
      "\u001b[1;31m---------------------------------------------------------------------------\u001b[0m",
      "\u001b[1;31mKeyboardInterrupt\u001b[0m                         Traceback (most recent call last)",
      "Cell \u001b[1;32mIn [34], line 1\u001b[0m\n\u001b[1;32m----> 1\u001b[0m combine_team_matches_data(hokori_matches_json, \u001b[39m8131728\u001b[39;49m)\n",
      "Cell \u001b[1;32mIn [15], line 22\u001b[0m, in \u001b[0;36mcombine_team_matches_data\u001b[1;34m(team_matches_json, predict_team_id)\u001b[0m\n\u001b[0;32m     19\u001b[0m \u001b[39mfor\u001b[39;00m index, match_info \u001b[39min\u001b[39;00m \u001b[39menumerate\u001b[39m(team_matches_json):\n\u001b[0;32m     21\u001b[0m     \u001b[39mif\u001b[39;00m (count \u001b[39m>\u001b[39m\u001b[39m=\u001b[39m \u001b[39m60\u001b[39m):\n\u001b[1;32m---> 22\u001b[0m         oneminutecountdown()\n\u001b[0;32m     23\u001b[0m         count \u001b[39m=\u001b[39m \u001b[39m1\u001b[39m\n\u001b[0;32m     25\u001b[0m     \u001b[39m# 1 x API CALL\u001b[39;00m\n",
      "Cell \u001b[1;32mIn [15], line 4\u001b[0m, in \u001b[0;36moneminutecountdown\u001b[1;34m()\u001b[0m\n\u001b[0;32m      2\u001b[0m \u001b[39mfor\u001b[39;00m i \u001b[39min\u001b[39;00m \u001b[39mrange\u001b[39m(\u001b[39m62\u001b[39m, \u001b[39m-\u001b[39m\u001b[39m1\u001b[39m, \u001b[39m-\u001b[39m\u001b[39m1\u001b[39m):\n\u001b[0;32m      3\u001b[0m     \u001b[39mprint\u001b[39m(\u001b[39m'\u001b[39m\u001b[39mExceeded max API calls, please wait:\u001b[39m\u001b[39m'\u001b[39m, i, \u001b[39m'\u001b[39m\u001b[39mseconds                                                \u001b[39m\u001b[39m'\u001b[39m, end \u001b[39m=\u001b[39m \u001b[39m'\u001b[39m\u001b[39m\\r\u001b[39;00m\u001b[39m'\u001b[39m)\n\u001b[1;32m----> 4\u001b[0m     time\u001b[39m.\u001b[39;49msleep(\u001b[39m1\u001b[39;49m)\n",
      "\u001b[1;31mKeyboardInterrupt\u001b[0m: "
     ]
    }
   ],
   "source": [
    "combine_team_matches_data(hokori_matches_json, 8131728)"
   ]
  },
  {
   "cell_type": "code",
   "execution_count": 23,
   "metadata": {},
   "outputs": [
    {
     "data": {
      "text/plain": [
       "17"
      ]
     },
     "execution_count": 23,
     "metadata": {},
     "output_type": "execute_result"
    }
   ],
   "source": [
    "len(hokori_matches_json[1298])"
   ]
  },
  {
   "cell_type": "code",
   "execution_count": 35,
   "metadata": {},
   "outputs": [
    {
     "name": "stdout",
     "output_type": "stream",
     "text": [
      "27\n"
     ]
    }
   ],
   "source": [
    "for index, item in enumerate(hokori_matches_json):\n",
    "    if len(item) < 17:\n",
    "        print(index)\n",
    "        break"
   ]
  },
  {
   "cell_type": "code",
   "execution_count": null,
   "metadata": {},
   "outputs": [],
   "source": []
  },
  {
   "cell_type": "code",
   "execution_count": 36,
   "metadata": {},
   "outputs": [],
   "source": [
    "# Save the JSON as a file in the working directory\n",
    "def save_teams_data_to_file(team_name, team_matches_json):\n",
    "    \n",
    "    with open(team_name + '_data.json', 'w', encoding='utf-8') as f:\n",
    "        json.dump(team_matches_json, f, ensure_ascii=False, indent=4)"
   ]
  },
  {
   "cell_type": "code",
   "execution_count": 37,
   "metadata": {},
   "outputs": [],
   "source": [
    "save_teams_data_to_file('hokori', hokori_matches_json)"
   ]
  },
  {
   "cell_type": "code",
   "execution_count": null,
   "metadata": {},
   "outputs": [],
   "source": []
  }
 ],
 "metadata": {
  "kernelspec": {
   "display_name": "Python 3.10.6 ('deploy-mlmodel-env': venv)",
   "language": "python",
   "name": "python3"
  },
  "language_info": {
   "codemirror_mode": {
    "name": "ipython",
    "version": 3
   },
   "file_extension": ".py",
   "mimetype": "text/x-python",
   "name": "python",
   "nbconvert_exporter": "python",
   "pygments_lexer": "ipython3",
   "version": "3.10.6"
  },
  "orig_nbformat": 4,
  "vscode": {
   "interpreter": {
    "hash": "30d80fdac55364737219c44b1a442205c29b6ee2abcfc60eeff35dd4ecb6f629"
   }
  }
 },
 "nbformat": 4,
 "nbformat_minor": 2
}
